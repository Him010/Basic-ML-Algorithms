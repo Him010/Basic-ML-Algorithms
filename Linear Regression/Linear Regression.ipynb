{
 "cells": [
  {
   "cell_type": "code",
   "execution_count": 1,
   "metadata": {},
   "outputs": [],
   "source": [
    "import numpy as np"
   ]
  },
  {
   "cell_type": "code",
   "execution_count": 2,
   "metadata": {},
   "outputs": [],
   "source": [
    "data = np.loadtxt(\"data.csv\", delimiter = \",\")\n",
    "# by default the delimiter is white space in loadtxt but since it is a csv file. So we have comma separated columns\n",
    "# therefore the delimiter has been changed to \",\""
   ]
  },
  {
   "cell_type": "code",
   "execution_count": 3,
   "metadata": {},
   "outputs": [
    {
     "data": {
      "text/plain": [
       "(100, 2)"
      ]
     },
     "execution_count": 3,
     "metadata": {},
     "output_type": "execute_result"
    }
   ],
   "source": [
    "data.shape"
   ]
  },
  {
   "cell_type": "code",
   "execution_count": 4,
   "metadata": {},
   "outputs": [],
   "source": [
    "x = data[:, 0].reshape(-1,1)    # to reshape into a 2-D array\n",
    "y = data[:, 1]"
   ]
  },
  {
   "cell_type": "code",
   "execution_count": 5,
   "metadata": {},
   "outputs": [],
   "source": [
    "from sklearn import model_selection\n",
    "X_train, X_test, Y_train, Y_test = model_selection.train_test_split(x,y)"
   ]
  },
  {
   "cell_type": "code",
   "execution_count": 6,
   "metadata": {},
   "outputs": [
    {
     "data": {
      "text/plain": [
       "LinearRegression(copy_X=True, fit_intercept=True, n_jobs=None,\n",
       "         normalize=False)"
      ]
     },
     "execution_count": 6,
     "metadata": {},
     "output_type": "execute_result"
    }
   ],
   "source": [
    "from sklearn.linear_model import LinearRegression\n",
    "alg1 = LinearRegression()\n",
    "alg1.fit(X_train,Y_train)\n",
    "# it will show an error as the linear regression algorithm expected a 2-D array but we gave it a 1-D array\n",
    "# can reshape it though into a 2-D array"
   ]
  },
  {
   "cell_type": "code",
   "execution_count": 7,
   "metadata": {},
   "outputs": [
    {
     "data": {
      "text/plain": [
       "array([1.41132174])"
      ]
     },
     "execution_count": 7,
     "metadata": {},
     "output_type": "execute_result"
    }
   ],
   "source": [
    "alg1.coef_   # this will give us the m of mx + c"
   ]
  },
  {
   "cell_type": "code",
   "execution_count": 8,
   "metadata": {},
   "outputs": [
    {
     "data": {
      "text/plain": [
       "3.664377519733719"
      ]
     },
     "execution_count": 8,
     "metadata": {},
     "output_type": "execute_result"
    }
   ],
   "source": [
    "alg1.intercept_"
   ]
  },
  {
   "cell_type": "code",
   "execution_count": 9,
   "metadata": {},
   "outputs": [
    {
     "data": {
      "text/plain": [
       "<Figure size 640x480 with 1 Axes>"
      ]
     },
     "metadata": {},
     "output_type": "display_data"
    }
   ],
   "source": [
    "import matplotlib.pyplot as plt\n",
    "m = alg1.coef_[0]\n",
    "c = alg1.intercept_\n",
    "\n",
    "x_line = np.arange(30,75,0.1)    # don't need to take the step as 0.1 in arange as line will be same even if using only\n",
    "                                # two points to figure out the plot\n",
    "y_line = m * x_line + c\n",
    "plt.plot(x_line,y_line,color = \"red\")\n",
    "train_1d = X_train.reshape(75)  # reshaped the data into a 1-D array\n",
    "plt.scatter(X_train,Y_train)\n",
    "plt.show()"
   ]
  },
  {
   "cell_type": "markdown",
   "metadata": {},
   "source": [
    "#### we plotted the line using the values of m and c found which belongs to the equation y = mx + c\n",
    "#### and then we scattered the training data over it\n",
    "#### the line produced by the algorithm learning from the training data is as shown below and the training data points are also\n",
    "#### scattered on the graph.\n",
    "#### what the algorithm was trying to do was find the best possible line that makes the scattered points closest to it if not on it\n",
    "#### the below line is the best possible line as given by the Linear Regression algorithm"
   ]
  },
  {
   "cell_type": "code",
   "execution_count": 10,
   "metadata": {},
   "outputs": [
    {
     "data": {
      "image/png": "[encoded data removed]",
      "text/plain": [
       "<Figure size 432x288 with 1 Axes>"
      ]
     },
     "metadata": {
      "needs_background": "light"
     },
     "output_type": "display_data"
    }
   ],
   "source": [
    "m = alg1.coef_\n",
    "c = alg1.intercept_\n",
    "\n",
    "x_line = np.arange(20,75,0.1)\n",
    "y_line = m * x_line + c\n",
    "plt.plot(x_line,y_line,color = \"red\")\n",
    "train_1d = X_test.reshape(25)\n",
    "plt.scatter(X_test,Y_test)\n",
    "plt.show()"
   ]
  },
  {
   "cell_type": "markdown",
   "metadata": {},
   "source": [
    "#### now what we did was plot the same exact line whose values of intercept and slope we got from the linear regression algorithm\n",
    "#### and then we scattered the testing data on it. the idea was that the line generated would be the most nearest to if not on the\n",
    "#### testing data\n",
    "#### the findings are like above where the red line is the line generated by the Linear Regression Algorithm and the scattered points of the testing data are shown by blue dots"
   ]
  },
  {
   "cell_type": "code",
   "execution_count": 11,
   "metadata": {},
   "outputs": [
    {
     "name": "stdout",
     "output_type": "stream",
     "text": [
      "0.6456723955700019\n",
      "0.3518079599048166\n"
     ]
    }
   ],
   "source": [
    "score_train = alg1.score(X_train,Y_train)\n",
    "print(score_train)\n",
    "score_test = alg1.score(X_test,Y_test)\n",
    "print(score_test)\n",
    "\n",
    "# depends on the data how satisfying the score is going to be\n",
    "# we might be happy with 0.7 score on some data and we might not even be happy with 0.9 score on some data"
   ]
  },
  {
   "cell_type": "code",
   "execution_count": 12,
   "metadata": {},
   "outputs": [],
   "source": [
    "X_train = X_train.reshape(75)\n",
    "Y_train = Y_train.reshape(75)\n",
    "X_test = X_test.reshape(25)\n",
    "Y_test = Y_test.reshape(25)\n",
    "# getting rid of 2-D data that we did earlier because our functions are going to work fine for 1-D array\n",
    "\n",
    "\n",
    "def fit(X_train,Y_train):\n",
    "    m = ((X_train * Y_train).mean() - (X_train.mean() * Y_train.mean()))/((X_train ** 2).mean() - ((X_train.mean()) ** 2))\n",
    "    c = Y_train.mean() - (m * (X_train.mean()))\n",
    "    return m,c"
   ]
  },
  {
   "cell_type": "code",
   "execution_count": 13,
   "metadata": {},
   "outputs": [],
   "source": [
    "def predict(X_test,m,c):\n",
    "    Y_pred = m * X_test + c\n",
    "    return Y_pred"
   ]
  },
  {
   "cell_type": "code",
   "execution_count": 14,
   "metadata": {},
   "outputs": [],
   "source": [
    "def COD(Y_test,Y_pred):          # COD is Coefficient of Determination\n",
    "    u = ((Y_test - Y_pred) ** 2).sum()\n",
    "    v = ((Y_test - Y_test.mean()) ** 2).sum()\n",
    "    score = 1 - u/v\n",
    "    return score"
   ]
  },
  {
   "cell_type": "code",
   "execution_count": 15,
   "metadata": {},
   "outputs": [],
   "source": [
    "def cost(X_train,Y_train,m,c):\n",
    "#     cost = ((Y_train - m * X_train - c) ** 2).sum()    # can also do .mean() here. the value will be a bit low but the \n",
    "                                                       # comparison will be correct because .sum() or .mean() is not going to affect the cost\n",
    "    cost = ((Y_train - m * X_train - c) ** 2).mean()\n",
    "    return cost"
   ]
  },
  {
   "cell_type": "code",
   "execution_count": 16,
   "metadata": {},
   "outputs": [
    {
     "name": "stdout",
     "output_type": "stream",
     "text": [
      "m is  1.4113217390184818  and c is  3.6643775197329376\n",
      "score on testing data is  0.3518079599048115\n",
      "score on training data is  0.6456723955700019\n",
      "cost is  102.3181926431929\n"
     ]
    }
   ],
   "source": [
    "m,c = fit(X_train,Y_train)\n",
    "# testing data\n",
    "Y_test_pred = predict(X_test,m,c)\n",
    "score_test = COD(Y_test,Y_test_pred)\n",
    "\n",
    "# training data\n",
    "Y_train_pred = predict(X_train,m,c)\n",
    "score_train = COD(Y_train,Y_train_pred)\n",
    "\n",
    "\n",
    "cost = cost(X_train,Y_train,m,c)     # to check if the cost function is correct. we can check the cost function at m + 1\n",
    "                                     # the value received at m + 1 should be a lot higher than received at m because the value\n",
    "                                     # value of m and c we took was for minimising the cost function\n",
    "\n",
    "\n",
    "print(\"m is \", m ,\" and c is \",c)\n",
    "print(\"score on testing data is \", score_test)\n",
    "print(\"score on training data is \", score_train)\n",
    "print(\"cost is \",cost)      # final cost on the training data. not on the training data but on the testing data"
   ]
  },
  {
   "cell_type": "code",
   "execution_count": null,
   "metadata": {},
   "outputs": [],
   "source": []
  }
 ],
 "metadata": {
  "kernelspec": {
   "display_name": "Python 3",
   "language": "python",
   "name": "python3"
  },
  "language_info": {
   "codemirror_mode": {
    "name": "ipython",
    "version": 3
   },
   "file_extension": ".py",
   "mimetype": "text/x-python",
   "name": "python",
   "nbconvert_exporter": "python",
   "pygments_lexer": "ipython3",
   "version": "3.7.3"
  }
 },
 "nbformat": 4,
 "nbformat_minor": 2
}
