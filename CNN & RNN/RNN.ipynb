{
 "cells": [
  {
   "cell_type": "code",
   "execution_count": 14,
   "metadata": {},
   "outputs": [],
   "source": [
    "from pandas import read_csv\n",
    "import numpy as np"
   ]
  },
  {
   "cell_type": "code",
   "execution_count": 5,
   "metadata": {},
   "outputs": [
    {
     "data": {
      "text/html": [
       "<div>\n",
       "<style scoped>\n",
       "    .dataframe tbody tr th:only-of-type {\n",
       "        vertical-align: middle;\n",
       "    }\n",
       "\n",
       "    .dataframe tbody tr th {\n",
       "        vertical-align: top;\n",
       "    }\n",
       "\n",
       "    .dataframe thead th {\n",
       "        text-align: right;\n",
       "    }\n",
       "</style>\n",
       "<table border=\"1\" class=\"dataframe\">\n",
       "  <thead>\n",
       "    <tr style=\"text-align: right;\">\n",
       "      <th></th>\n",
       "      <th>International airline passengers: monthly totals in thousands. Jan 49 ? Dec 60</th>\n",
       "    </tr>\n",
       "  </thead>\n",
       "  <tbody>\n",
       "    <tr>\n",
       "      <td>count</td>\n",
       "      <td>144.000000</td>\n",
       "    </tr>\n",
       "    <tr>\n",
       "      <td>mean</td>\n",
       "      <td>280.298611</td>\n",
       "    </tr>\n",
       "    <tr>\n",
       "      <td>std</td>\n",
       "      <td>119.966317</td>\n",
       "    </tr>\n",
       "    <tr>\n",
       "      <td>min</td>\n",
       "      <td>104.000000</td>\n",
       "    </tr>\n",
       "    <tr>\n",
       "      <td>25%</td>\n",
       "      <td>180.000000</td>\n",
       "    </tr>\n",
       "    <tr>\n",
       "      <td>50%</td>\n",
       "      <td>265.500000</td>\n",
       "    </tr>\n",
       "    <tr>\n",
       "      <td>75%</td>\n",
       "      <td>360.500000</td>\n",
       "    </tr>\n",
       "    <tr>\n",
       "      <td>max</td>\n",
       "      <td>622.000000</td>\n",
       "    </tr>\n",
       "  </tbody>\n",
       "</table>\n",
       "</div>"
      ],
      "text/plain": [
       "       International airline passengers: monthly totals in thousands. Jan 49 ? Dec 60\n",
       "count                                         144.000000                             \n",
       "mean                                          280.298611                             \n",
       "std                                           119.966317                             \n",
       "min                                           104.000000                             \n",
       "25%                                           180.000000                             \n",
       "50%                                           265.500000                             \n",
       "75%                                           360.500000                             \n",
       "max                                           622.000000                             "
      ]
     },
     "execution_count": 5,
     "metadata": {},
     "output_type": "execute_result"
    }
   ],
   "source": [
    "df = read_csv('international-airline-passengers.csv',usecols =  [1])\n",
    "df.describe()"
   ]
  },
  {
   "cell_type": "code",
   "execution_count": 8,
   "metadata": {},
   "outputs": [
    {
     "data": {
      "text/plain": [
       "(144, 1)"
      ]
     },
     "execution_count": 8,
     "metadata": {},
     "output_type": "execute_result"
    }
   ],
   "source": [
    "values = df.values.astype('float32')\n",
    "values.shape"
   ]
  },
  {
   "cell_type": "code",
   "execution_count": 50,
   "metadata": {},
   "outputs": [],
   "source": [
    "train_size = int((values.shape[0]*0.67))\n",
    "test_size = values.shape[0]-train_size\n",
    "train = values[0:train_size]\n",
    "test = values[train_size:]"
   ]
  },
  {
   "cell_type": "code",
   "execution_count": 51,
   "metadata": {},
   "outputs": [],
   "source": [
    "from sklearn.preprocessing import MinMaxScaler\n",
    "scaler = MinMaxScaler(feature_range=(0,1))\n",
    "train = scaler.fit_transform(train)\n",
    "test = scaler.transform(test)"
   ]
  },
  {
   "cell_type": "code",
   "execution_count": 52,
   "metadata": {},
   "outputs": [],
   "source": [
    "def create_dataset(data,k):\n",
    "    dataX,dataY = [],[]\n",
    "    for i in range(data.shape[0]-k):\n",
    "        x = data[i:i+k,0]\n",
    "        y = data[i+k,0]\n",
    "        dataX.append(x)\n",
    "        dataY.append(y)\n",
    "    return np.array(dataX),np.array(dataY)"
   ]
  },
  {
   "cell_type": "code",
   "execution_count": 53,
   "metadata": {},
   "outputs": [],
   "source": [
    "look_back = 12\n",
    "trainX,trainY = create_dataset(train,look_back)\n",
    "testX,testY = create_dataset(test,look_back)"
   ]
  },
  {
   "cell_type": "code",
   "execution_count": 54,
   "metadata": {},
   "outputs": [
    {
     "data": {
      "text/plain": [
       "(84, 12, 1)"
      ]
     },
     "execution_count": 54,
     "metadata": {},
     "output_type": "execute_result"
    }
   ],
   "source": [
    "trainX = np.reshape(trainX,(trainX.shape[0],trainX.shape[1],1))\n",
    "testX = np.reshape(testX,(testX.shape[0],testX.shape[1],1))\n",
    "trainX.shape"
   ]
  },
  {
   "cell_type": "code",
   "execution_count": 55,
   "metadata": {},
   "outputs": [],
   "source": [
    "from keras.models import Sequential\n",
    "from keras.layers import Dense,SimpleRNN"
   ]
  },
  {
   "cell_type": "code",
   "execution_count": 56,
   "metadata": {},
   "outputs": [
    {
     "name": "stdout",
     "output_type": "stream",
     "text": [
      "Epoch 1/30\n",
      "84/84 [==============================] - 0s 5ms/step - loss: 0.0222\n",
      "Epoch 2/30\n",
      "84/84 [==============================] - 0s 1ms/step - loss: 0.0091\n",
      "Epoch 3/30\n",
      "84/84 [==============================] - 0s 2ms/step - loss: 0.0071\n",
      "Epoch 4/30\n",
      "84/84 [==============================] - 0s 2ms/step - loss: 0.0061\n",
      "Epoch 5/30\n",
      "84/84 [==============================] - 0s 1ms/step - loss: 0.0057\n",
      "Epoch 6/30\n",
      "84/84 [==============================] - 0s 1ms/step - loss: 0.0053\n",
      "Epoch 7/30\n",
      "84/84 [==============================] - 0s 1ms/step - loss: 0.0050\n",
      "Epoch 8/30\n",
      "84/84 [==============================] - 0s 1ms/step - loss: 0.0049\n",
      "Epoch 9/30\n",
      "84/84 [==============================] - 0s 1ms/step - loss: 0.0047\n",
      "Epoch 10/30\n",
      "84/84 [==============================] - 0s 2ms/step - loss: 0.0045\n",
      "Epoch 11/30\n",
      "84/84 [==============================] - 0s 1ms/step - loss: 0.0044\n",
      "Epoch 12/30\n",
      "84/84 [==============================] - 0s 2ms/step - loss: 0.0042\n",
      "Epoch 13/30\n",
      "84/84 [==============================] - 0s 2ms/step - loss: 0.0043\n",
      "Epoch 14/30\n",
      "84/84 [==============================] - 0s 2ms/step - loss: 0.0042\n",
      "Epoch 15/30\n",
      "84/84 [==============================] - 0s 1ms/step - loss: 0.0045\n",
      "Epoch 16/30\n",
      "84/84 [==============================] - 0s 1ms/step - loss: 0.0039\n",
      "Epoch 17/30\n",
      "84/84 [==============================] - 0s 2ms/step - loss: 0.0040\n",
      "Epoch 18/30\n",
      "84/84 [==============================] - 0s 1ms/step - loss: 0.0038\n",
      "Epoch 19/30\n",
      "84/84 [==============================] - 0s 1ms/step - loss: 0.0039\n",
      "Epoch 20/30\n",
      "84/84 [==============================] - 0s 1ms/step - loss: 0.0037\n",
      "Epoch 21/30\n",
      "84/84 [==============================] - 0s 1ms/step - loss: 0.0037\n",
      "Epoch 22/30\n",
      "84/84 [==============================] - 0s 1ms/step - loss: 0.0037\n",
      "Epoch 23/30\n",
      "84/84 [==============================] - 0s 1ms/step - loss: 0.0040\n",
      "Epoch 24/30\n",
      "84/84 [==============================] - 0s 2ms/step - loss: 0.0036\n",
      "Epoch 25/30\n",
      "84/84 [==============================] - 0s 2ms/step - loss: 0.0034\n",
      "Epoch 26/30\n",
      "84/84 [==============================] - 0s 2ms/step - loss: 0.0038\n",
      "Epoch 27/30\n",
      "84/84 [==============================] - 0s 2ms/step - loss: 0.0034\n",
      "Epoch 28/30\n",
      "84/84 [==============================] - 0s 2ms/step - loss: 0.0034\n",
      "Epoch 29/30\n",
      "84/84 [==============================] - 0s 2ms/step - loss: 0.0033\n",
      "Epoch 30/30\n",
      "84/84 [==============================] - 0s 2ms/step - loss: 0.0033\n"
     ]
    },
    {
     "data": {
      "text/plain": [
       "<keras.callbacks.callbacks.History at 0x20ab53c4a48>"
      ]
     },
     "execution_count": 56,
     "metadata": {},
     "output_type": "execute_result"
    }
   ],
   "source": [
    "model = Sequential()\n",
    "model.add(SimpleRNN(10,input_shape = (look_back,1)))\n",
    "model.add(Dense(1))\n",
    "model.compile(loss = 'mean_squared_error',optimizer = 'adam')\n",
    "model.fit(trainX,trainY,epochs = 30,batch_size = 2)"
   ]
  },
  {
   "cell_type": "code",
   "execution_count": 57,
   "metadata": {},
   "outputs": [
    {
     "data": {
      "text/plain": [
       "((36,), (36,))"
      ]
     },
     "execution_count": 57,
     "metadata": {},
     "output_type": "execute_result"
    }
   ],
   "source": [
    "testPredict = model.predict(testX)\n",
    "testPredict= scaler.inverse_transform(testPredict).ravel()\n",
    "\n",
    "trainPredict = model.predict(trainX)\n",
    "trainPredict= scaler.inverse_transform(trainPredict).ravel()\n",
    "\n",
    "testTrue = scaler.inverse_transform([testY]).ravel()\n",
    "trainTrue = scaler.inverse_transform([trainY]).ravel()\n",
    "\n",
    "testPredict.shape,testTrue.shape"
   ]
  },
  {
   "cell_type": "code",
   "execution_count": 58,
   "metadata": {},
   "outputs": [],
   "source": [
    "from matplotlib import pyplot as plt"
   ]
  },
  {
   "cell_type": "code",
   "execution_count": 59,
   "metadata": {},
   "outputs": [
    {
     "data": {
      "image/png": "[encoded data removed]",
      "text/plain": [
       "<Figure size 432x288 with 1 Axes>"
      ]
     },
     "metadata": {
      "needs_background": "light"
     },
     "output_type": "display_data"
    }
   ],
   "source": [
    "plt.plot(trainPredict,c = 'g')\n",
    "plt.plot(trainTrue,c= 'r')\n",
    "plt.show()"
   ]
  },
  {
   "cell_type": "code",
   "execution_count": 60,
   "metadata": {},
   "outputs": [
    {
     "data": {
      "image/png": "[encoded data removed]",
      "text/plain": [
       "<Figure size 432x288 with 1 Axes>"
      ]
     },
     "metadata": {
      "needs_background": "light"
     },
     "output_type": "display_data"
    }
   ],
   "source": [
    "combinedPredicted = np.concatenate((trainPredict,testPredict))\n",
    "combinedTrue = np.concatenate((trainTrue,testTrue))\n",
    "plt.plot(combinedPredicted,c = 'g')\n",
    "plt.plot(combinedTrue,c= 'r')\n",
    "plt.show()"
   ]
  },
  {
   "cell_type": "code",
   "execution_count": null,
   "metadata": {},
   "outputs": [],
   "source": []
  }
 ],
 "metadata": {
  "kernelspec": {
   "display_name": "Python 3",
   "language": "python",
   "name": "python3"
  },
  "language_info": {
   "codemirror_mode": {
    "name": "ipython",
    "version": 3
   },
   "file_extension": ".py",
   "mimetype": "text/x-python",
   "name": "python",
   "nbconvert_exporter": "python",
   "pygments_lexer": "ipython3",
   "version": "3.7.4"
  }
 },
 "nbformat": 4,
 "nbformat_minor": 2
}
