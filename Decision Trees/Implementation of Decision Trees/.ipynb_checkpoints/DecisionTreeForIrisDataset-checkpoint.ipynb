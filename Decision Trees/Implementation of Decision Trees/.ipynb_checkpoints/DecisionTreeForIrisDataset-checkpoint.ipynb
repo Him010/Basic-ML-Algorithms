{
 "cells": [
  {
   "cell_type": "code",
   "execution_count": 176,
   "metadata": {},
   "outputs": [],
   "source": [
    "# importing datasets and numpy library\n",
    "from sklearn import datasets\n",
    "import numpy as np\n",
    "import math"
   ]
  },
  {
   "cell_type": "code",
   "execution_count": 177,
   "metadata": {},
   "outputs": [],
   "source": [
    "# loading iris dataset\n",
    "iris = datasets.load_iris()"
   ]
  },
  {
   "cell_type": "code",
   "execution_count": 178,
   "metadata": {},
   "outputs": [],
   "source": [
    "X = iris.data\n",
    "Y= iris.target"
   ]
  },
  {
   "cell_type": "code",
   "execution_count": 179,
   "metadata": {},
   "outputs": [],
   "source": [
    "# splitting the data into training and testing\n",
    "from sklearn.model_selection import train_test_split\n",
    "X_train,X_test,Y_train,Y_test = train_test_split(X,Y)"
   ]
  },
  {
   "cell_type": "code",
   "execution_count": 180,
   "metadata": {},
   "outputs": [
    {
     "name": "stdout",
     "output_type": "stream",
     "text": [
      "(112, 4) (38, 4) (112,) (38,)\n"
     ]
    }
   ],
   "source": [
    "print(X_train.shape,X_test.shape,Y_train.shape,Y_test.shape)"
   ]
  },
  {
   "cell_type": "code",
   "execution_count": 181,
   "metadata": {},
   "outputs": [],
   "source": [
    "# def childNodeValues():\n",
    "#     count0, count1, count2, totalCount = 0, 0, 0, len(Y_train)\n",
    "#     for i in Y_train:\n",
    "#         if(i == 0):\n",
    "#             count0 += 1\n",
    "#         elif(i == 1):\n",
    "#             count1 += 1\n",
    "#         elif(i == 2):\n",
    "#             count2 += 1\n",
    "#     if(count0 == 0):\n",
    "#         informationN = -(((count1/totalCount)*(math.log(count1/totalCount,10))) + ((count2/totalCount)*(math.log(count2/totalCount,10))))\n",
    "#     elif(count1 == 0):\n",
    "#         informationN = -(((count0/totalCount)*(math.log(count0/totalCount,10))) + ((count2/totalCount)*(math.log(count2/totalCount,10))))\n",
    "#     elif(count2 == 0):\n",
    "#         informationN = -(((count0/totalCount)*(math.log(count0/totalCount,10))) + ((count1/totalCount)*(math.log(count1/totalCount,10))))\n",
    "#     else:\n",
    "#         informationN = -(((count0/totalCount)*(math.log(count0/totalCount,10))) + ((count1/totalCount)*(math.log(count1/totalCount,10))) + ((count2/totalCount)*(math.log(count2/totalCount,10))))\n",
    "#     return informationN"
   ]
  },
  {
   "cell_type": "code",
   "execution_count": 182,
   "metadata": {},
   "outputs": [],
   "source": [
    "def splitInfo(countLeft,countRight,Y_train):\n",
    "    length = len(Y_train)\n",
    "    split_info = -(((countLeft/length)*(math.log((countLeft/length),10))) + ((countRight/length) * (math.log((countRight/length),10))))\n",
    "    return split_info"
   ]
  },
  {
   "cell_type": "code",
   "execution_count": 183,
   "metadata": {},
   "outputs": [],
   "source": [
    "def splitting(mean,xj,Y_train,distinct_values_in_Y_train):\n",
    "    # finding the count of the distinct values i.e. a unique value comes how many times in Y_train\n",
    "#     list_for_count_of_distinct_values_in_Y_train = list()\n",
    "#     unique_elements, counts_elements = np.unique(Y_train, return_counts=True)\n",
    "    # making a list for the count of the occurrences of that unique value\n",
    "#     for count in counts_elements:\n",
    "#         list_for_count_of_distinct_values_in_Y_train.append(count)\n",
    "    # for class 0\n",
    "    countLeft0 = 0\n",
    "    countRight0 = 0\n",
    "    \n",
    "    # for class 1\n",
    "    countLeft1 = 0\n",
    "    countRight1 = 0\n",
    "    \n",
    "    # for class 2\n",
    "    countLeft2 = 0\n",
    "    countRight2 = 0\n",
    "    \n",
    "    for value in range(len(xj)):\n",
    "        if(xj[value] < mean and Y_train[value] == 0):\n",
    "            countLeft0 += 1\n",
    "        elif(xj[value] > mean and Y_train[value] == 0):\n",
    "            countRight0 += 1\n",
    "            \n",
    "        elif(xj[value] < mean and Y_train[value] == 1):\n",
    "            countLeft1 += 1\n",
    "        elif(xj[value] > mean and Y_train[value] == 1):\n",
    "            countRight1 += 1\n",
    "            \n",
    "        elif(xj[value] < mean and Y_train[value] == 2):\n",
    "            countLeft2 += 1\n",
    "        elif(xj[value] > mean and Y_train[value] == 2):\n",
    "            countRight2 += 1\n",
    "            \n",
    "    # for information in nth Node\n",
    "    information_original = countInNode()\n",
    "    \n",
    "    # total values in the left node and the total values in the right node        \n",
    "    countLeft = countLeft0 + countLeft1 + countLeft2\n",
    "    countRight = countRight0 + countRight1 + countRight2\n",
    "    \n",
    "    # information required in the left node \n",
    "    information_count_left = nodeValues(countLeft0,countLeft1,countLeft2,countLeft)\n",
    "    \n",
    "    # information required in the right node\n",
    "    information_count_right = nodeValues(countRight0,countRight1,countRight2,countRight)\n",
    "    \n",
    "    #information required in both the nodes combined using weighted information\n",
    "    information_child_nodes = ((countLeft/len(Y_train)) * information_count_left) + ((countRight/len(Y_train)) * information_count_right)\n",
    "    \n",
    "    # information gain from splitting the node into left node and right node\n",
    "    information_gain_from_splitting = information_original - information_child_nodes\n",
    "    \n",
    "    # calling splitInfo function\n",
    "    split_info = splitInfo(countLeft,countRight,Y_train)\n",
    "    \n",
    "    # finding out the entropy\n",
    "    entropy = information_gain_from_splitting/split_info\n",
    "    return entropy"
   ]
  },
  {
   "cell_type": "code",
   "execution_count": 184,
   "metadata": {},
   "outputs": [
    {
     "ename": "SyntaxError",
     "evalue": "unexpected EOF while parsing (<ipython-input-184-12a17ba471f0>, line 2)",
     "output_type": "error",
     "traceback": [
      "\u001b[1;36m  File \u001b[1;32m\"<ipython-input-184-12a17ba471f0>\"\u001b[1;36m, line \u001b[1;32m2\u001b[0m\n\u001b[1;33m    \u001b[0m\n\u001b[1;37m    ^\u001b[0m\n\u001b[1;31mSyntaxError\u001b[0m\u001b[1;31m:\u001b[0m unexpected EOF while parsing\n"
     ]
    }
   ],
   "source": [
    "def actualSplitter(value,feature):\n",
    "    "
   ]
  },
  {
   "cell_type": "code",
   "execution_count": 185,
   "metadata": {},
   "outputs": [],
   "source": [
    "# to find out the middle values of the sorted list and then use splitting function to split them\n",
    "def midValueSplitter(xj,Y_train):\n",
    "    distinct_values_in_xj_feature = list(set(xj)) # array for storing the distinct values in tha continuous valued features\n",
    "    distinct_values_in_Y_train = list(set(Y_train))\n",
    "    entropy = -1\n",
    "    entropyValue = -1\n",
    "    for i in range(len(set(xj))):\n",
    "        mean = (distinct_values_in_xj_feature[i] + distinct_values_in_xj_feature[i+1])/2\n",
    "        entropyValue = splitting(mean,xj,Y_train,distinct_values_in_Y_train)\n",
    "        if(entropy_value > entropy):\n",
    "            entropy = entropy_value\n",
    "            feature = xj\n",
    "    print(\"Current Entropy is\",entropy)\n",
    "    print(\"Splitting on feature\",xj,\"with gain ratio\",entropy)\n",
    "    # left side of the middle value on which we split\n",
    "    leftValue = distinct_values_in_xj_feature[i]\n",
    "            \n",
    "    # right side of the middle value on which we split\n",
    "    rightValue = distinct_values_in_xj_feature[i+1]\n",
    "            \n",
    "    # now since we got our values so we're going to actually split them\n",
    "    actualSplitter(leftValue,feature)\n",
    "    actualSpltiter(rightValue,feature)\n",
    "            \n",
    "    # after this we need to recursively call the midValueSplitter to check which part of the next node is fit for splitting"
   ]
  },
  {
   "cell_type": "code",
   "execution_count": 186,
   "metadata": {},
   "outputs": [],
   "source": [
    "def countInNode():\n",
    "    count0, count1, count2, totalCount = 0, 0, 0, len(Y_train)\n",
    "    for i in Y_train:\n",
    "        if(i == 0):\n",
    "            count0 += 1\n",
    "        elif(i == 1):\n",
    "            count1 += 1\n",
    "        elif(i == 2):\n",
    "            count2 += 1\n",
    "    return nodeValues(count0,count1,count2,totalCount)"
   ]
  },
  {
   "cell_type": "code",
   "execution_count": 187,
   "metadata": {},
   "outputs": [],
   "source": [
    "def nodeValues(count0,count1,count2,totalCount):\n",
    "    if(count0 == 0):\n",
    "        informationN = -(((count1/totalCount)*(math.log(count1/totalCount,10))) + ((count2/totalCount)*(math.log(count2/totalCount,10))))\n",
    "    elif(count1 == 0):\n",
    "        informationN = -(((count0/totalCount)*(math.log(count0/totalCount,10))) + ((count2/totalCount)*(math.log(count2/totalCount,10))))\n",
    "    elif(count2 == 0):\n",
    "        informationN = -(((count0/totalCount)*(math.log(count0/totalCount,10))) + ((count1/totalCount)*(math.log(count1/totalCount,10))))\n",
    "    else:\n",
    "        informationN = -(((count0/totalCount)*(math.log(count0/totalCount,10))) + ((count1/totalCount)*(math.log(count1/totalCount,10))) + ((count2/totalCount)*(math.log(count2/totalCount,10))))\n",
    "    return informationN"
   ]
  },
  {
   "cell_type": "code",
   "execution_count": 188,
   "metadata": {},
   "outputs": [],
   "source": [
    "def toSplit(X_train,Y_train):\n",
    "    for i in range(len(X_train[0])):\n",
    "        # sending all the rows of the ith column to the function midValueSplitter\n",
    "        midValueSplitter(X_train[:,i],Y_train)"
   ]
  },
  {
   "cell_type": "code",
   "execution_count": 189,
   "metadata": {},
   "outputs": [],
   "source": [
    "def run():\n",
    "    columns = len(X_train[0])\n",
    "    toSplit(X_train,Y_train)"
   ]
  },
  {
   "cell_type": "code",
   "execution_count": 190,
   "metadata": {},
   "outputs": [
    {
     "ename": "ValueError",
     "evalue": "math domain error",
     "output_type": "error",
     "traceback": [
      "\u001b[1;31m---------------------------------------------------------------------------\u001b[0m",
      "\u001b[1;31mValueError\u001b[0m                                Traceback (most recent call last)",
      "\u001b[1;32m<ipython-input-190-ec9775ede022>\u001b[0m in \u001b[0;36m<module>\u001b[1;34m\u001b[0m\n\u001b[1;32m----> 1\u001b[1;33m \u001b[0mrun\u001b[0m\u001b[1;33m(\u001b[0m\u001b[1;33m)\u001b[0m\u001b[1;33m\u001b[0m\u001b[1;33m\u001b[0m\u001b[0m\n\u001b[0m",
      "\u001b[1;32m<ipython-input-189-299a55c15ac1>\u001b[0m in \u001b[0;36mrun\u001b[1;34m()\u001b[0m\n\u001b[0;32m      1\u001b[0m \u001b[1;32mdef\u001b[0m \u001b[0mrun\u001b[0m\u001b[1;33m(\u001b[0m\u001b[1;33m)\u001b[0m\u001b[1;33m:\u001b[0m\u001b[1;33m\u001b[0m\u001b[1;33m\u001b[0m\u001b[0m\n\u001b[0;32m      2\u001b[0m     \u001b[0mcolumns\u001b[0m \u001b[1;33m=\u001b[0m \u001b[0mlen\u001b[0m\u001b[1;33m(\u001b[0m\u001b[0mX_train\u001b[0m\u001b[1;33m[\u001b[0m\u001b[1;36m0\u001b[0m\u001b[1;33m]\u001b[0m\u001b[1;33m)\u001b[0m\u001b[1;33m\u001b[0m\u001b[1;33m\u001b[0m\u001b[0m\n\u001b[1;32m----> 3\u001b[1;33m     \u001b[0mtoSplit\u001b[0m\u001b[1;33m(\u001b[0m\u001b[0mX_train\u001b[0m\u001b[1;33m,\u001b[0m\u001b[0mY_train\u001b[0m\u001b[1;33m)\u001b[0m\u001b[1;33m\u001b[0m\u001b[1;33m\u001b[0m\u001b[0m\n\u001b[0m",
      "\u001b[1;32m<ipython-input-188-56eb97c8e9b3>\u001b[0m in \u001b[0;36mtoSplit\u001b[1;34m(X_train, Y_train)\u001b[0m\n\u001b[0;32m      2\u001b[0m     \u001b[1;32mfor\u001b[0m \u001b[0mi\u001b[0m \u001b[1;32min\u001b[0m \u001b[0mrange\u001b[0m\u001b[1;33m(\u001b[0m\u001b[0mlen\u001b[0m\u001b[1;33m(\u001b[0m\u001b[0mX_train\u001b[0m\u001b[1;33m[\u001b[0m\u001b[1;36m0\u001b[0m\u001b[1;33m]\u001b[0m\u001b[1;33m)\u001b[0m\u001b[1;33m)\u001b[0m\u001b[1;33m:\u001b[0m\u001b[1;33m\u001b[0m\u001b[1;33m\u001b[0m\u001b[0m\n\u001b[0;32m      3\u001b[0m         \u001b[1;31m# sending all the rows of the ith column to the function midValueSplitter\u001b[0m\u001b[1;33m\u001b[0m\u001b[1;33m\u001b[0m\u001b[1;33m\u001b[0m\u001b[0m\n\u001b[1;32m----> 4\u001b[1;33m         \u001b[0mmidValueSplitter\u001b[0m\u001b[1;33m(\u001b[0m\u001b[0mX_train\u001b[0m\u001b[1;33m[\u001b[0m\u001b[1;33m:\u001b[0m\u001b[1;33m,\u001b[0m\u001b[0mi\u001b[0m\u001b[1;33m]\u001b[0m\u001b[1;33m,\u001b[0m\u001b[0mY_train\u001b[0m\u001b[1;33m)\u001b[0m\u001b[1;33m\u001b[0m\u001b[1;33m\u001b[0m\u001b[0m\n\u001b[0m",
      "\u001b[1;32m<ipython-input-185-ebc4927ada8b>\u001b[0m in \u001b[0;36mmidValueSplitter\u001b[1;34m(xj, Y_train)\u001b[0m\n\u001b[0;32m      7\u001b[0m     \u001b[1;32mfor\u001b[0m \u001b[0mi\u001b[0m \u001b[1;32min\u001b[0m \u001b[0mrange\u001b[0m\u001b[1;33m(\u001b[0m\u001b[0mlen\u001b[0m\u001b[1;33m(\u001b[0m\u001b[0mset\u001b[0m\u001b[1;33m(\u001b[0m\u001b[0mxj\u001b[0m\u001b[1;33m)\u001b[0m\u001b[1;33m)\u001b[0m\u001b[1;33m)\u001b[0m\u001b[1;33m:\u001b[0m\u001b[1;33m\u001b[0m\u001b[1;33m\u001b[0m\u001b[0m\n\u001b[0;32m      8\u001b[0m         \u001b[0mmean\u001b[0m \u001b[1;33m=\u001b[0m \u001b[1;33m(\u001b[0m\u001b[0mdistinct_values_in_xj_feature\u001b[0m\u001b[1;33m[\u001b[0m\u001b[0mi\u001b[0m\u001b[1;33m]\u001b[0m \u001b[1;33m+\u001b[0m \u001b[0mdistinct_values_in_xj_feature\u001b[0m\u001b[1;33m[\u001b[0m\u001b[0mi\u001b[0m\u001b[1;33m+\u001b[0m\u001b[1;36m1\u001b[0m\u001b[1;33m]\u001b[0m\u001b[1;33m)\u001b[0m\u001b[1;33m/\u001b[0m\u001b[1;36m2\u001b[0m\u001b[1;33m\u001b[0m\u001b[1;33m\u001b[0m\u001b[0m\n\u001b[1;32m----> 9\u001b[1;33m         \u001b[0mentropyValue\u001b[0m \u001b[1;33m=\u001b[0m \u001b[0msplitting\u001b[0m\u001b[1;33m(\u001b[0m\u001b[0mmean\u001b[0m\u001b[1;33m,\u001b[0m\u001b[0mxj\u001b[0m\u001b[1;33m,\u001b[0m\u001b[0mY_train\u001b[0m\u001b[1;33m,\u001b[0m\u001b[0mdistinct_values_in_Y_train\u001b[0m\u001b[1;33m)\u001b[0m\u001b[1;33m\u001b[0m\u001b[1;33m\u001b[0m\u001b[0m\n\u001b[0m\u001b[0;32m     10\u001b[0m         \u001b[1;32mif\u001b[0m\u001b[1;33m(\u001b[0m\u001b[0mentropy_value\u001b[0m \u001b[1;33m>\u001b[0m \u001b[0mentropy\u001b[0m\u001b[1;33m)\u001b[0m\u001b[1;33m:\u001b[0m\u001b[1;33m\u001b[0m\u001b[1;33m\u001b[0m\u001b[0m\n\u001b[0;32m     11\u001b[0m             \u001b[0mentropy\u001b[0m \u001b[1;33m=\u001b[0m \u001b[0mentropy_value\u001b[0m\u001b[1;33m\u001b[0m\u001b[1;33m\u001b[0m\u001b[0m\n",
      "\u001b[1;32m<ipython-input-183-2a6acff6bb8b>\u001b[0m in \u001b[0;36msplitting\u001b[1;34m(mean, xj, Y_train, distinct_values_in_Y_train)\u001b[0m\n\u001b[0;32m     42\u001b[0m \u001b[1;33m\u001b[0m\u001b[0m\n\u001b[0;32m     43\u001b[0m     \u001b[1;31m# information required in the left node\u001b[0m\u001b[1;33m\u001b[0m\u001b[1;33m\u001b[0m\u001b[1;33m\u001b[0m\u001b[0m\n\u001b[1;32m---> 44\u001b[1;33m     \u001b[0minformation_count_left\u001b[0m \u001b[1;33m=\u001b[0m \u001b[0mnodeValues\u001b[0m\u001b[1;33m(\u001b[0m\u001b[0mcountLeft0\u001b[0m\u001b[1;33m,\u001b[0m\u001b[0mcountLeft1\u001b[0m\u001b[1;33m,\u001b[0m\u001b[0mcountLeft2\u001b[0m\u001b[1;33m,\u001b[0m\u001b[0mcountLeft\u001b[0m\u001b[1;33m)\u001b[0m\u001b[1;33m\u001b[0m\u001b[1;33m\u001b[0m\u001b[0m\n\u001b[0m\u001b[0;32m     45\u001b[0m \u001b[1;33m\u001b[0m\u001b[0m\n\u001b[0;32m     46\u001b[0m     \u001b[1;31m# information required in the right node\u001b[0m\u001b[1;33m\u001b[0m\u001b[1;33m\u001b[0m\u001b[1;33m\u001b[0m\u001b[0m\n",
      "\u001b[1;32m<ipython-input-187-850213f65ce7>\u001b[0m in \u001b[0;36mnodeValues\u001b[1;34m(count0, count1, count2, totalCount)\u001b[0m\n\u001b[0;32m      3\u001b[0m         \u001b[0minformationN\u001b[0m \u001b[1;33m=\u001b[0m \u001b[1;33m-\u001b[0m\u001b[1;33m(\u001b[0m\u001b[1;33m(\u001b[0m\u001b[1;33m(\u001b[0m\u001b[0mcount1\u001b[0m\u001b[1;33m/\u001b[0m\u001b[0mtotalCount\u001b[0m\u001b[1;33m)\u001b[0m\u001b[1;33m*\u001b[0m\u001b[1;33m(\u001b[0m\u001b[0mmath\u001b[0m\u001b[1;33m.\u001b[0m\u001b[0mlog\u001b[0m\u001b[1;33m(\u001b[0m\u001b[0mcount1\u001b[0m\u001b[1;33m/\u001b[0m\u001b[0mtotalCount\u001b[0m\u001b[1;33m,\u001b[0m\u001b[1;36m10\u001b[0m\u001b[1;33m)\u001b[0m\u001b[1;33m)\u001b[0m\u001b[1;33m)\u001b[0m \u001b[1;33m+\u001b[0m \u001b[1;33m(\u001b[0m\u001b[1;33m(\u001b[0m\u001b[0mcount2\u001b[0m\u001b[1;33m/\u001b[0m\u001b[0mtotalCount\u001b[0m\u001b[1;33m)\u001b[0m\u001b[1;33m*\u001b[0m\u001b[1;33m(\u001b[0m\u001b[0mmath\u001b[0m\u001b[1;33m.\u001b[0m\u001b[0mlog\u001b[0m\u001b[1;33m(\u001b[0m\u001b[0mcount2\u001b[0m\u001b[1;33m/\u001b[0m\u001b[0mtotalCount\u001b[0m\u001b[1;33m,\u001b[0m\u001b[1;36m10\u001b[0m\u001b[1;33m)\u001b[0m\u001b[1;33m)\u001b[0m\u001b[1;33m)\u001b[0m\u001b[1;33m)\u001b[0m\u001b[1;33m\u001b[0m\u001b[1;33m\u001b[0m\u001b[0m\n\u001b[0;32m      4\u001b[0m     \u001b[1;32melif\u001b[0m\u001b[1;33m(\u001b[0m\u001b[0mcount1\u001b[0m \u001b[1;33m==\u001b[0m \u001b[1;36m0\u001b[0m\u001b[1;33m)\u001b[0m\u001b[1;33m:\u001b[0m\u001b[1;33m\u001b[0m\u001b[1;33m\u001b[0m\u001b[0m\n\u001b[1;32m----> 5\u001b[1;33m         \u001b[0minformationN\u001b[0m \u001b[1;33m=\u001b[0m \u001b[1;33m-\u001b[0m\u001b[1;33m(\u001b[0m\u001b[1;33m(\u001b[0m\u001b[1;33m(\u001b[0m\u001b[0mcount0\u001b[0m\u001b[1;33m/\u001b[0m\u001b[0mtotalCount\u001b[0m\u001b[1;33m)\u001b[0m\u001b[1;33m*\u001b[0m\u001b[1;33m(\u001b[0m\u001b[0mmath\u001b[0m\u001b[1;33m.\u001b[0m\u001b[0mlog\u001b[0m\u001b[1;33m(\u001b[0m\u001b[0mcount0\u001b[0m\u001b[1;33m/\u001b[0m\u001b[0mtotalCount\u001b[0m\u001b[1;33m,\u001b[0m\u001b[1;36m10\u001b[0m\u001b[1;33m)\u001b[0m\u001b[1;33m)\u001b[0m\u001b[1;33m)\u001b[0m \u001b[1;33m+\u001b[0m \u001b[1;33m(\u001b[0m\u001b[1;33m(\u001b[0m\u001b[0mcount2\u001b[0m\u001b[1;33m/\u001b[0m\u001b[0mtotalCount\u001b[0m\u001b[1;33m)\u001b[0m\u001b[1;33m*\u001b[0m\u001b[1;33m(\u001b[0m\u001b[0mmath\u001b[0m\u001b[1;33m.\u001b[0m\u001b[0mlog\u001b[0m\u001b[1;33m(\u001b[0m\u001b[0mcount2\u001b[0m\u001b[1;33m/\u001b[0m\u001b[0mtotalCount\u001b[0m\u001b[1;33m,\u001b[0m\u001b[1;36m10\u001b[0m\u001b[1;33m)\u001b[0m\u001b[1;33m)\u001b[0m\u001b[1;33m)\u001b[0m\u001b[1;33m)\u001b[0m\u001b[1;33m\u001b[0m\u001b[1;33m\u001b[0m\u001b[0m\n\u001b[0m\u001b[0;32m      6\u001b[0m     \u001b[1;32melif\u001b[0m\u001b[1;33m(\u001b[0m\u001b[0mcount2\u001b[0m \u001b[1;33m==\u001b[0m \u001b[1;36m0\u001b[0m\u001b[1;33m)\u001b[0m\u001b[1;33m:\u001b[0m\u001b[1;33m\u001b[0m\u001b[1;33m\u001b[0m\u001b[0m\n\u001b[0;32m      7\u001b[0m         \u001b[0minformationN\u001b[0m \u001b[1;33m=\u001b[0m \u001b[1;33m-\u001b[0m\u001b[1;33m(\u001b[0m\u001b[1;33m(\u001b[0m\u001b[1;33m(\u001b[0m\u001b[0mcount0\u001b[0m\u001b[1;33m/\u001b[0m\u001b[0mtotalCount\u001b[0m\u001b[1;33m)\u001b[0m\u001b[1;33m*\u001b[0m\u001b[1;33m(\u001b[0m\u001b[0mmath\u001b[0m\u001b[1;33m.\u001b[0m\u001b[0mlog\u001b[0m\u001b[1;33m(\u001b[0m\u001b[0mcount0\u001b[0m\u001b[1;33m/\u001b[0m\u001b[0mtotalCount\u001b[0m\u001b[1;33m,\u001b[0m\u001b[1;36m10\u001b[0m\u001b[1;33m)\u001b[0m\u001b[1;33m)\u001b[0m\u001b[1;33m)\u001b[0m \u001b[1;33m+\u001b[0m \u001b[1;33m(\u001b[0m\u001b[1;33m(\u001b[0m\u001b[0mcount1\u001b[0m\u001b[1;33m/\u001b[0m\u001b[0mtotalCount\u001b[0m\u001b[1;33m)\u001b[0m\u001b[1;33m*\u001b[0m\u001b[1;33m(\u001b[0m\u001b[0mmath\u001b[0m\u001b[1;33m.\u001b[0m\u001b[0mlog\u001b[0m\u001b[1;33m(\u001b[0m\u001b[0mcount1\u001b[0m\u001b[1;33m/\u001b[0m\u001b[0mtotalCount\u001b[0m\u001b[1;33m,\u001b[0m\u001b[1;36m10\u001b[0m\u001b[1;33m)\u001b[0m\u001b[1;33m)\u001b[0m\u001b[1;33m)\u001b[0m\u001b[1;33m)\u001b[0m\u001b[1;33m\u001b[0m\u001b[1;33m\u001b[0m\u001b[0m\n",
      "\u001b[1;31mValueError\u001b[0m: math domain error"
     ]
    }
   ],
   "source": [
    "run()"
   ]
  },
  {
   "cell_type": "code",
   "execution_count": 63,
   "metadata": {},
   "outputs": [
    {
     "data": {
      "text/plain": [
       "1"
      ]
     },
     "execution_count": 63,
     "metadata": {},
     "output_type": "execute_result"
    }
   ],
   "source": [
    "array = [9,1,5,9,4,0,1,2]\n",
    "a = list(set(array))\n",
    "a[1]"
   ]
  },
  {
   "cell_type": "code",
   "execution_count": 83,
   "metadata": {},
   "outputs": [
    {
     "name": "stdout",
     "output_type": "stream",
     "text": [
      "[2, 3, 5]\n"
     ]
    }
   ],
   "source": [
    "a = list()\n",
    "a.append(2)\n",
    "a.append(3)\n",
    "a.append(5)\n",
    "print(a)"
   ]
  },
  {
   "cell_type": "code",
   "execution_count": 84,
   "metadata": {},
   "outputs": [
    {
     "data": {
      "text/plain": [
       "[2, 3, 5]"
      ]
     },
     "execution_count": 84,
     "metadata": {},
     "output_type": "execute_result"
    }
   ],
   "source": [
    "a"
   ]
  },
  {
   "cell_type": "code",
   "execution_count": 92,
   "metadata": {},
   "outputs": [
    {
     "name": "stdout",
     "output_type": "stream",
     "text": [
      "[0 1 2]\n",
      "[37 38 37]\n"
     ]
    }
   ],
   "source": [
    "unique_elements, counts_elements = np.unique(Y_train, return_counts=True)\n",
    "print(unique_elements)\n",
    "print(counts_elements)"
   ]
  },
  {
   "cell_type": "code",
   "execution_count": 108,
   "metadata": {},
   "outputs": [
    {
     "data": {
      "text/plain": [
       "1.0"
      ]
     },
     "execution_count": 108,
     "metadata": {},
     "output_type": "execute_result"
    }
   ],
   "source": []
  },
  {
   "cell_type": "code",
   "execution_count": 76,
   "metadata": {},
   "outputs": [],
   "source": [
    "xj = X_train[:,1]"
   ]
  },
  {
   "cell_type": "code",
   "execution_count": 80,
   "metadata": {},
   "outputs": [
    {
     "ename": "IndexError",
     "evalue": "invalid index to scalar variable.",
     "output_type": "error",
     "traceback": [
      "\u001b[1;31m---------------------------------------------------------------------------\u001b[0m",
      "\u001b[1;31mIndexError\u001b[0m                                Traceback (most recent call last)",
      "\u001b[1;32m<ipython-input-80-a280b4168839>\u001b[0m in \u001b[0;36m<module>\u001b[1;34m\u001b[0m\n\u001b[1;32m----> 1\u001b[1;33m \u001b[0mxj\u001b[0m\u001b[1;33m[\u001b[0m\u001b[1;36m1\u001b[0m\u001b[1;33m]\u001b[0m\u001b[1;33m[\u001b[0m\u001b[1;36m0\u001b[0m\u001b[1;33m]\u001b[0m\u001b[1;33m\u001b[0m\u001b[1;33m\u001b[0m\u001b[0m\n\u001b[0m",
      "\u001b[1;31mIndexError\u001b[0m: invalid index to scalar variable."
     ]
    }
   ],
   "source": [
    "xj[1][0]"
   ]
  },
  {
   "cell_type": "code",
   "execution_count": 144,
   "metadata": {},
   "outputs": [
    {
     "data": {
      "text/plain": [
       "1.0"
      ]
     },
     "execution_count": 144,
     "metadata": {},
     "output_type": "execute_result"
    }
   ],
   "source": [
    "math.log(2,2)"
   ]
  },
  {
   "cell_type": "code",
   "execution_count": null,
   "metadata": {},
   "outputs": [],
   "source": []
  }
 ],
 "metadata": {
  "kernelspec": {
   "display_name": "Python 3",
   "language": "python",
   "name": "python3"
  },
  "language_info": {
   "codemirror_mode": {
    "name": "ipython",
    "version": 3
   },
   "file_extension": ".py",
   "mimetype": "text/x-python",
   "name": "python",
   "nbconvert_exporter": "python",
   "pygments_lexer": "ipython3",
   "version": "3.7.3"
  }
 },
 "nbformat": 4,
 "nbformat_minor": 2
}
