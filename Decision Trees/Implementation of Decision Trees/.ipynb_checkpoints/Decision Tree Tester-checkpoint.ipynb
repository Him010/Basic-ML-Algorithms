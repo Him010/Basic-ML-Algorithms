{
 "cells": [
  {
   "cell_type": "code",
   "execution_count": 1,
   "metadata": {},
   "outputs": [],
   "source": [
    "# importing the required modules and libraries\n",
    "import numpy as np\n",
    "from sklearn import datasets\n",
    "from sklearn.model_selection import train_test_split"
   ]
  },
  {
   "cell_type": "code",
   "execution_count": 2,
   "metadata": {},
   "outputs": [],
   "source": [
    "# loading the dataset\n",
    "iris = datasets.load_iris()"
   ]
  },
  {
   "cell_type": "code",
   "execution_count": 3,
   "metadata": {},
   "outputs": [],
   "source": [
    "# assigning data to X and target to Y\n",
    "X = iris.data\n",
    "Y = iris.target\n",
    "features = np.array([1,2,3,4])"
   ]
  },
  {
   "cell_type": "code",
   "execution_count": 4,
   "metadata": {},
   "outputs": [],
   "source": [
    "# splitting the data into training and testing\n",
    "X_train,X_test,Y_train,Y_test = train_test_split(X,Y,random_state = 1)"
   ]
  },
  {
   "cell_type": "code",
   "execution_count": 5,
   "metadata": {},
   "outputs": [],
   "source": [
    "def print_leafNode(y,level):\n",
    "    if(len(list(set(y)))==1):\n",
    "        count_value= list(set(y))[0]\n",
    "        count= np.count_nonzero(y==count_value)\n",
    "        print(\"Level \",level)\n",
    "        print(\"Count of \",count_value,\" \",count)\n",
    "        print(\"Current Entropy  is = 0.0\")\n",
    "        print(\"Reached leaf Node\")\n",
    "        print()\n",
    "    else:\n",
    "        length= len(list(set(y)))\n",
    "        print(\"Level \",level)\n",
    "        for i in range(length):\n",
    "            \n",
    "            count_value= list(set(y))[i]\n",
    "            count= np.count_nonzero(y==count_value)\n",
    "            print(\"Count of \",count_value,\" \",count)\n",
    "        print(\"Current Entropy  is = 0.0\")\n",
    "        print(\"Reached leaf Node\")\n",
    "        print()"
   ]
  },
  {
   "cell_type": "code",
   "execution_count": 6,
   "metadata": {},
   "outputs": [],
   "source": [
    "def print_node(count0, count1, count2, totalCount, index, gainRatio, level, features):\n",
    "    print(\"Level \",level)\n",
    "    print(\"Count of 0 = \",count0)\n",
    "    print(\"Count of 1 = \",count1)\n",
    "    print(\"Count of 2 = \",count2)\n",
    "    print(\"Current Entropy  is = \",informationN(count0,count1,count2))\n",
    "    print(\"Splitting on feature X\",features[index],\"with gain ratio\",gainRatio)\n",
    "    print()"
   ]
  },
  {
   "cell_type": "code",
   "execution_count": 7,
   "metadata": {},
   "outputs": [],
   "source": [
    "def countOfValuesInParentNode(Y):    # finding the total values belonging to differnet classes in the parent node\n",
    "    count0, count1, count2, totalCount = 0,0,0,0\n",
    "    for i in range(len(Y)):\n",
    "        if(Y[i] == 0):\n",
    "            count0 += 1\n",
    "        elif(Y[i] == 1):\n",
    "            count1 += 1\n",
    "        elif(Y[i] == 2):\n",
    "            count2 += 1\n",
    "    totalCount  = count0 + count1 + count2\n",
    "    return count0, count1, count2, totalCount"
   ]
  },
  {
   "cell_type": "code",
   "execution_count": 8,
   "metadata": {},
   "outputs": [],
   "source": [
    "# finding the information of Nth Node   \n",
    "def informationN(count0, count1, count2):\n",
    "    totalCount = count0 + count1 + count2\n",
    "    a = count0/totalCount\n",
    "    b = count1/totalCount\n",
    "    c = count2/totalCount\n",
    "    if(a == 0):\n",
    "        a = 1\n",
    "    if(b == 0):\n",
    "        b = 1\n",
    "    if(c == 0):\n",
    "        c = 1   \n",
    "    value = -(((a)*(np.log10(a))) + ((b)*(np.log10(b))) + ((c)*(np.log10(c))))\n",
    "    return value"
   ]
  },
  {
   "cell_type": "code",
   "execution_count": 9,
   "metadata": {},
   "outputs": [],
   "source": [
    "def splitInfo(countLeftNode,countRightNode,totalValuesInX):    # function to calculate split info\n",
    "#     value = -(((countLeftNode/totalValuesInX) * (math.log(countLeftNode/totalValuesInX))) + ((countRightNode/totalValuesInX) * (math.log(countRightNode/totalValuesInX))))\n",
    "    \n",
    "    a = countLeftNode/totalValuesInX\n",
    "    b = countRightNode/totalValuesInX\n",
    "\n",
    "    value = -(((a) * (np.log10(a))) + ((b) * (np.log10(b))))\n",
    "    return value"
   ]
  },
  {
   "cell_type": "code",
   "execution_count": 10,
   "metadata": {},
   "outputs": [],
   "source": [
    "def leftNodeAndRightNodeValues(mean,X,Y):\n",
    "    countLeft0, countLeft1, countLeft2, countRight0, countRight1, countRight2 = 0, 0, 0, 0, 0, 0\n",
    "    for i in range(len(X)):\n",
    "        if(X[i] < mean and Y[i] == 0):\n",
    "            countLeft0 += 1\n",
    "        elif(X[i] < mean and Y[i] == 1):\n",
    "            countLeft1 += 1\n",
    "        elif(X[i] < mean and Y[i] == 2):\n",
    "            countLeft2 += 1\n",
    "        elif(X[i] >= mean and Y[i] == 0):\n",
    "            countRight0 += 1\n",
    "        elif(X[i] >= mean and Y[i] == 1):\n",
    "            countRight1 += 1\n",
    "        elif(X[i] > mean and Y[i] == 2):\n",
    "            countRight2 += 1\n",
    "        \n",
    "            \n",
    "#     for i in range(len(X)):\n",
    "#         if(X[i] < mean):\n",
    "#             if(Y[i] == 0):\n",
    "#                 countLeft0 += 1\n",
    "#             elif(Y[i] == 1):\n",
    "#                 countLeft1 += 1\n",
    "#             else:\n",
    "#                 countLeft2 += 1\n",
    "#         else:\n",
    "#             if(Y[i] == 0):\n",
    "#                 countRight0 += 1\n",
    "#             elif(Y[i] == 1):\n",
    "#                 countRight1 += 1\n",
    "#             else:\n",
    "#                 countRight2 += 1\n",
    "    return countLeft0, countLeft1, countLeft2, countRight0, countRight1, countRight2"
   ]
  },
  {
   "cell_type": "code",
   "execution_count": 11,
   "metadata": {},
   "outputs": [],
   "source": [
    "def function3(mean,X,Y):      # finding the gain ratio\n",
    "    # for information in Nth Node\n",
    "    countLeft0, countLeft1, countLeft2, countRight0, countRight1, countRight2 = leftNodeAndRightNodeValues(mean,X,Y)\n",
    "    totalCount = countLeft0 + countLeft1 + countLeft2 + countRight0 + countRight1 + countRight2\n",
    "    \n",
    "    # information for nth node\n",
    "    information_N = informationN(countLeft0 + countRight0, countLeft1 + countRight1, countLeft2 + countRight2)\n",
    "    \n",
    "    # information for left child node\n",
    "    totalCountInLeft = countLeft0 + countLeft1 + countLeft2\n",
    "    information_left_child_node = informationN(countLeft0,countLeft1,countLeft2)\n",
    "    \n",
    "    # information for right child node\n",
    "    totalCountInRight = countRight0 + countRight1 + countRight2\n",
    "    information_right_child_node = informationN(countRight0, countRight1, countRight2)\n",
    "    \n",
    "    # information in both the child nodes combined\n",
    "    information_child_nodes = ((totalCountInLeft/totalCount)*(information_left_child_node)) + ((totalCountInRight/totalCount)*(information_right_child_node))\n",
    "    \n",
    "    # information gain from the parent node and the child nodes\n",
    "    information_gain = information_N - information_child_nodes\n",
    "    \n",
    "    # finding the split info by calling the split info function\n",
    "    split_info = 0\n",
    "    split_info = splitInfo(totalCountInLeft,totalCountInRight,totalCount)\n",
    "    \n",
    "    # calculating the gain ratio\n",
    "    gain_ratio = (information_gain/split_info)\n",
    "    \n",
    "    return gain_ratio"
   ]
  },
  {
   "cell_type": "code",
   "execution_count": 12,
   "metadata": {},
   "outputs": [],
   "source": [
    "def function2(X,Y):    # for finding the mean taht gives the best gain ratio in a particular feature\n",
    "    distinct_values_in_X = list(set(X))  # finding unique values in X[:,i]\n",
    "    value = -100000\n",
    "    mean_to_be_returned = -1\n",
    "    length_of_set_X = len(distinct_values_in_X)\n",
    "    for i in range(length_of_set_X-1):    # finding the gain ratio for mean of two consecutive values\n",
    "        mean = (distinct_values_in_X[i] + distinct_values_in_X[i+1])/2\n",
    "        output = function3(mean,X,Y)\n",
    "        if(output > value):     # checking the best gain ratio\n",
    "            value = output\n",
    "            mean_to_be_returned = mean\n",
    "    return mean_to_be_returned\n",
    "#     return mean"
   ]
  },
  {
   "cell_type": "code",
   "execution_count": 13,
   "metadata": {},
   "outputs": [],
   "source": [
    "def function1(X,Y):     # to check which is the best feature\n",
    "    value = -100000    \n",
    "    feature = -1\n",
    "    mean_sent_for_original_splitting = -1\n",
    "    for i in range(len(X[0])):   # passing every feature one by one\n",
    "        mean_returned = function2(X[:,i],Y)    # using the means which are returned to decide the best feature by finding gain ratio for every mean returned \n",
    "        \n",
    "        output = function3(mean_returned,X[:,i],Y)     # gain ratio for means of different features\n",
    "        if(output > value):        # finding the best feature through mean\n",
    "            value = output\n",
    "            mean_sent_for_original_splitting = mean_returned\n",
    "            feature = X[:,i]\n",
    "            index = i\n",
    "    return mean_sent_for_original_splitting,feature,index     # returning the best mean of the best feature for original splitting"
   ]
  },
  {
   "cell_type": "code",
   "execution_count": 14,
   "metadata": {},
   "outputs": [],
   "source": [
    "def run(X_train,Y_train,features,level):  \n",
    "\n",
    "    # features getting exhausted\n",
    "    if(len(X_train[0]) == 0):\n",
    "#     if(len(features) == 0):\n",
    "        print_leafNode(Y_train,level)\n",
    "        return\n",
    "    \n",
    "    # pure node\n",
    "    elif(len(list(set(Y_train))) == 1):\n",
    "        print_leafNode(Y_train,level)\n",
    "        return\n",
    "\n",
    "    mean, feature, index = function1(X_train,Y_train)\n",
    "    \n",
    "    gain_ratio = function3(mean,feature,Y_train)\n",
    "    \n",
    "    count0, count1, count2, totalCount = countOfValuesInParentNode(Y_train)\n",
    "    \n",
    "#     countLeft0, countLeft1, countLeft2, countRight0, countRight1, countRight2 = leftNodeAndRightNodeValues(mean,X_train[:,index],Y_train)    \n",
    "#     count0 = countLeft0 + countRight0\n",
    "#     count1 = countLeft1 + countRight1\n",
    "#     count2 = countLeft2 + countRight2\n",
    "#     totalCount = countLeft0 + countLeft1 + countLeft2 + countRight0 + countRight1 + countRight2\n",
    "    \n",
    "    \n",
    "    print_node(count0, count1, count2, totalCount, index, gain_ratio, level,features)\n",
    "    \n",
    "    left_child_array = []\n",
    "    right_child_array = []\n",
    "    X_left_child = []\n",
    "    X_right_child = []\n",
    "    Y_left_child = []\n",
    "    Y_right_child = []\n",
    "    for i in range(len(X_train)):\n",
    "        if(feature[i] < mean):\n",
    "            left_child_array.append(i)\n",
    "        elif(feature[i] > mean):\n",
    "            right_child_array.append(i)\n",
    "\n",
    "             \n",
    "    for i in left_child_array:\n",
    "        X_left_child.append(X_train[i])\n",
    "        Y_left_child.append(Y_train[i])\n",
    "    \n",
    "    for i in right_child_array:\n",
    "        X_right_child.append(X_train[i])\n",
    "        Y_right_child.append(Y_train[i])\n",
    "        \n",
    "    X_left_child = np.delete(X_left_child,index,axis = 1)\n",
    "    X_right_child = np.delete(X_right_child,index,axis = 1)\n",
    "    features = np.delete(features,index)\n",
    "    \n",
    "\n",
    "    run(X_left_child,Y_left_child,features,level+1)\n",
    "    run(X_right_child,Y_right_child,features,level+1)"
   ]
  },
  {
   "cell_type": "code",
   "execution_count": 15,
   "metadata": {},
   "outputs": [
    {
     "name": "stdout",
     "output_type": "stream",
     "text": [
      "Level  0\n",
      "Count of 0 =  37\n",
      "Count of 1 =  34\n",
      "Count of 2 =  41\n",
      "Current Entropy  is =  0.4758440486038902\n",
      "Splitting on feature X 3 with gain ratio 1.0\n",
      "\n",
      "Level  1\n",
      "Count of  0   37\n",
      "Current Entropy  is = 0.0\n",
      "Reached leaf Node\n",
      "\n",
      "Level  1\n",
      "Count of 0 =  0\n",
      "Count of 1 =  34\n",
      "Count of 2 =  41\n",
      "Current Entropy  is =  0.29913564599242237\n",
      "Splitting on feature X 4 with gain ratio 0.620732397093067\n",
      "\n",
      "Level  2\n",
      "Count of 0 =  0\n",
      "Count of 1 =  33\n",
      "Count of 2 =  5\n",
      "Current Entropy  is =  0.16910438509969486\n",
      "Splitting on feature X 2 with gain ratio 0.051397950830260455\n",
      "\n",
      "Level  3\n",
      "Count of 0 =  0\n",
      "Count of 1 =  28\n",
      "Count of 2 =  5\n",
      "Current Entropy  is =  0.18471773080933496\n",
      "Splitting on feature X 1 with gain ratio 0.09658358100919552\n",
      "\n",
      "Level  4\n",
      "Count of  1   27\n",
      "Count of  2   4\n",
      "Current Entropy  is = 0.0\n",
      "Reached leaf Node\n",
      "\n",
      "Level  4\n",
      "Count of  1   1\n",
      "Count of  2   1\n",
      "Current Entropy  is = 0.0\n",
      "Reached leaf Node\n",
      "\n",
      "Level  3\n",
      "Count of  1   5\n",
      "Current Entropy  is = 0.0\n",
      "Reached leaf Node\n",
      "\n",
      "Level  2\n",
      "Count of 0 =  0\n",
      "Count of 1 =  1\n",
      "Count of 2 =  36\n",
      "Current Entropy  is =  0.05396145305017494\n",
      "Splitting on feature X 1 with gain ratio 0.11548393446319567\n",
      "\n",
      "Level  3\n",
      "Count of 0 =  0\n",
      "Count of 1 =  1\n",
      "Count of 2 =  5\n",
      "Current Entropy  is =  0.1956762467702946\n",
      "Splitting on feature X 2 with gain ratio 1.0\n",
      "\n",
      "Level  4\n",
      "Count of  2   5\n",
      "Current Entropy  is = 0.0\n",
      "Reached leaf Node\n",
      "\n",
      "Level  4\n",
      "Count of  1   1\n",
      "Current Entropy  is = 0.0\n",
      "Reached leaf Node\n",
      "\n",
      "Level  3\n",
      "Count of  2   31\n",
      "Current Entropy  is = 0.0\n",
      "Reached leaf Node\n",
      "\n"
     ]
    }
   ],
   "source": [
    "run(X_train,Y_train,features,0)"
   ]
  },
  {
   "cell_type": "code",
   "execution_count": 16,
   "metadata": {},
   "outputs": [
    {
     "data": {
      "text/plain": [
       "array([[1, 2, 7],\n",
       "       [4, 4, 5]])"
      ]
     },
     "execution_count": 16,
     "metadata": {},
     "output_type": "execute_result"
    }
   ],
   "source": [
    "a = np.array([[1,2,7],[4,4,5]])\n",
    "a"
   ]
  },
  {
   "cell_type": "code",
   "execution_count": 17,
   "metadata": {},
   "outputs": [
    {
     "data": {
      "text/plain": [
       "2"
      ]
     },
     "execution_count": 17,
     "metadata": {},
     "output_type": "execute_result"
    }
   ],
   "source": [
    "len(a[:,1])"
   ]
  },
  {
   "cell_type": "code",
   "execution_count": 18,
   "metadata": {},
   "outputs": [],
   "source": [
    "def a():\n",
    "    return 3"
   ]
  },
  {
   "cell_type": "code",
   "execution_count": 19,
   "metadata": {},
   "outputs": [],
   "source": [
    "def b(a):\n",
    "    return a"
   ]
  },
  {
   "cell_type": "code",
   "execution_count": 20,
   "metadata": {},
   "outputs": [
    {
     "name": "stdout",
     "output_type": "stream",
     "text": [
      "<function a at 0x00000147DE0642F0>\n"
     ]
    }
   ],
   "source": [
    "print(b(a))"
   ]
  },
  {
   "cell_type": "code",
   "execution_count": 21,
   "metadata": {},
   "outputs": [
    {
     "data": {
      "text/plain": [
       "array([[ 1,  2,  3],\n",
       "       [ 5,  6,  7],\n",
       "       [ 8,  9, 10],\n",
       "       [10, 12, 14]])"
      ]
     },
     "execution_count": 21,
     "metadata": {},
     "output_type": "execute_result"
    }
   ],
   "source": [
    "a = np.array([[1,2,3],[5,6,7],[8,9,10],[10,12,14]])\n",
    "a"
   ]
  },
  {
   "cell_type": "code",
   "execution_count": 22,
   "metadata": {},
   "outputs": [
    {
     "data": {
      "text/plain": [
       "array([[ 1,  3],\n",
       "       [ 5,  7],\n",
       "       [ 8, 10],\n",
       "       [10, 14]])"
      ]
     },
     "execution_count": 22,
     "metadata": {},
     "output_type": "execute_result"
    }
   ],
   "source": [
    "np.delete(a,1,1)"
   ]
  },
  {
   "cell_type": "code",
   "execution_count": 23,
   "metadata": {},
   "outputs": [
    {
     "data": {
      "text/plain": [
       "2.0"
      ]
     },
     "execution_count": 23,
     "metadata": {},
     "output_type": "execute_result"
    }
   ],
   "source": [
    "np.log10(100)"
   ]
  },
  {
   "cell_type": "code",
   "execution_count": 24,
   "metadata": {},
   "outputs": [
    {
     "name": "stdout",
     "output_type": "stream",
     "text": [
      "[[ 1  2  3]\n",
      " [ 4  5  6]\n",
      " [ 7  8  9]\n",
      " [10 11 12]]\n",
      "[[1]\n",
      " [2]\n",
      " [3]\n",
      " [4]]\n"
     ]
    }
   ],
   "source": [
    "a = np.array([[1,2,3],[4,5,6],[7,8,9],[10,11,12]])\n",
    "print(a)\n",
    "c = np.array([[1],[2],[3],[4]])\n",
    "print(c)"
   ]
  },
  {
   "cell_type": "code",
   "execution_count": 25,
   "metadata": {},
   "outputs": [],
   "source": [
    "b = a[:,1]"
   ]
  },
  {
   "cell_type": "code",
   "execution_count": 26,
   "metadata": {},
   "outputs": [
    {
     "data": {
      "text/plain": [
       "array([ 2,  5,  8, 11])"
      ]
     },
     "execution_count": 26,
     "metadata": {},
     "output_type": "execute_result"
    }
   ],
   "source": [
    "b"
   ]
  },
  {
   "cell_type": "code",
   "execution_count": 27,
   "metadata": {},
   "outputs": [
    {
     "name": "stdout",
     "output_type": "stream",
     "text": [
      "true\n"
     ]
    }
   ],
   "source": [
    "if(b[1]>2 and c[2][0] == 3):\n",
    "    print(\"true\")"
   ]
  },
  {
   "cell_type": "code",
   "execution_count": 28,
   "metadata": {},
   "outputs": [
    {
     "name": "stdout",
     "output_type": "stream",
     "text": [
      "3\n"
     ]
    }
   ],
   "source": [
    "print(c[2][0])"
   ]
  },
  {
   "cell_type": "code",
   "execution_count": 29,
   "metadata": {},
   "outputs": [
    {
     "data": {
      "text/plain": [
       "5"
      ]
     },
     "execution_count": 29,
     "metadata": {},
     "output_type": "execute_result"
    }
   ],
   "source": [
    "b[1]"
   ]
  },
  {
   "cell_type": "code",
   "execution_count": 30,
   "metadata": {},
   "outputs": [
    {
     "name": "stdout",
     "output_type": "stream",
     "text": [
      "Asdasd\n"
     ]
    }
   ],
   "source": [
    "if(c[2] == 3):\n",
    "    print(\"Asdasd\")"
   ]
  },
  {
   "cell_type": "code",
   "execution_count": 31,
   "metadata": {},
   "outputs": [],
   "source": [
    "d = []\n",
    "d.append(a[1,:])"
   ]
  },
  {
   "cell_type": "code",
   "execution_count": 32,
   "metadata": {},
   "outputs": [
    {
     "data": {
      "text/plain": [
       "[array([4, 5, 6])]"
      ]
     },
     "execution_count": 32,
     "metadata": {},
     "output_type": "execute_result"
    }
   ],
   "source": [
    "d"
   ]
  },
  {
   "cell_type": "code",
   "execution_count": 33,
   "metadata": {},
   "outputs": [],
   "source": [
    "d.append(a[2,:])"
   ]
  },
  {
   "cell_type": "code",
   "execution_count": 34,
   "metadata": {},
   "outputs": [
    {
     "data": {
      "text/plain": [
       "[array([4, 5, 6]), array([7, 8, 9])]"
      ]
     },
     "execution_count": 34,
     "metadata": {},
     "output_type": "execute_result"
    }
   ],
   "source": [
    "d"
   ]
  },
  {
   "cell_type": "code",
   "execution_count": 35,
   "metadata": {},
   "outputs": [
    {
     "data": {
      "text/plain": [
       "array([4, 5, 6])"
      ]
     },
     "execution_count": 35,
     "metadata": {},
     "output_type": "execute_result"
    }
   ],
   "source": [
    "d[0]"
   ]
  },
  {
   "cell_type": "code",
   "execution_count": 36,
   "metadata": {},
   "outputs": [],
   "source": [
    "a = [1,3,4,5]"
   ]
  },
  {
   "cell_type": "code",
   "execution_count": 37,
   "metadata": {},
   "outputs": [
    {
     "name": "stdout",
     "output_type": "stream",
     "text": [
      "1\n",
      "3\n",
      "4\n",
      "5\n"
     ]
    }
   ],
   "source": [
    "for i in a:\n",
    "    print(i)"
   ]
  },
  {
   "cell_type": "code",
   "execution_count": 38,
   "metadata": {},
   "outputs": [],
   "source": [
    "a = np.delete(a,1,0)"
   ]
  },
  {
   "cell_type": "code",
   "execution_count": 39,
   "metadata": {},
   "outputs": [
    {
     "data": {
      "text/plain": [
       "array([1, 4, 5])"
      ]
     },
     "execution_count": 39,
     "metadata": {},
     "output_type": "execute_result"
    }
   ],
   "source": [
    "a"
   ]
  },
  {
   "cell_type": "code",
   "execution_count": 40,
   "metadata": {},
   "outputs": [],
   "source": [
    "def tester():\n",
    "    if(2<3):\n",
    "        kl = 2\n",
    "        gh = 4\n",
    "    print(kl)\n",
    "    print(gh)\n",
    "    return kl,gh"
   ]
  },
  {
   "cell_type": "code",
   "execution_count": 41,
   "metadata": {},
   "outputs": [
    {
     "name": "stdout",
     "output_type": "stream",
     "text": [
      "2\n",
      "4\n",
      "(2, 4)\n"
     ]
    }
   ],
   "source": [
    "print(tester())"
   ]
  },
  {
   "cell_type": "code",
   "execution_count": null,
   "metadata": {},
   "outputs": [],
   "source": []
  },
  {
   "cell_type": "code",
   "execution_count": 42,
   "metadata": {},
   "outputs": [],
   "source": [
    "a = np.array([[],[]])"
   ]
  },
  {
   "cell_type": "code",
   "execution_count": 43,
   "metadata": {},
   "outputs": [
    {
     "data": {
      "text/plain": [
       "0"
      ]
     },
     "execution_count": 43,
     "metadata": {},
     "output_type": "execute_result"
    }
   ],
   "source": [
    "len(a[0])"
   ]
  },
  {
   "cell_type": "code",
   "execution_count": 44,
   "metadata": {},
   "outputs": [],
   "source": [
    "a = []"
   ]
  },
  {
   "cell_type": "code",
   "execution_count": null,
   "metadata": {},
   "outputs": [],
   "source": []
  }
 ],
 "metadata": {
  "kernelspec": {
   "display_name": "Python 3",
   "language": "python",
   "name": "python3"
  },
  "language_info": {
   "codemirror_mode": {
    "name": "ipython",
    "version": 3
   },
   "file_extension": ".py",
   "mimetype": "text/x-python",
   "name": "python",
   "nbconvert_exporter": "python",
   "pygments_lexer": "ipython3",
   "version": "3.7.3"
  }
 },
 "nbformat": 4,
 "nbformat_minor": 2
}
