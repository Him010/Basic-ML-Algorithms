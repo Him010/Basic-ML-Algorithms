{
 "cells": [
  {
   "cell_type": "code",
   "execution_count": 5,
   "metadata": {},
   "outputs": [
    {
     "name": "stdout",
     "output_type": "stream",
     "text": [
      "[1, 2, 4, 5, 7, 8]\n"
     ]
    }
   ],
   "source": [
    "# Bubble Sort\n",
    "l = [5,1,2,4,7,8]\n",
    "n = len(l)\n",
    "for j in range(n-1):            # if n-1 elements are sorted then the last element will also be sorted\n",
    "    for i in range(0,n-1-j):    # because everytime we do not need to do full comparison. after 1st iteration, no need to compare between last and second last element\n",
    "        if l[i] > l[i + 1] :\n",
    "            t = l[i]\n",
    "            l[i] = l[i + 1]\n",
    "            l[i + 1] = t\n",
    "print(l)"
   ]
  },
  {
   "cell_type": "code",
   "execution_count": 21,
   "metadata": {},
   "outputs": [
    {
     "name": "stdout",
     "output_type": "stream",
     "text": [
      "4\n",
      "9 8 7 6 5 4 3 2 1\n",
      "1 2 3 4 5 6 7 8 9 "
     ]
    }
   ],
   "source": [
    "# selection sort for non-repeating elements\n",
    "n = int(input())\n",
    "l = [int(x) for x in input().strip().split()]\n",
    "length = len(l)\n",
    "startingIndex = 0\n",
    "for j in range(length):\n",
    "    minimumElement = 99999\n",
    "    for i in range(startingIndex,length):\n",
    "        if l[i] <= minimumElement:\n",
    "            minimumElement = l[i]\n",
    "            tempIndex = l.index(minimumElement)\n",
    "            temp = l[tempIndex]\n",
    "            l[tempIndex] = l[startingIndex]\n",
    "            l[startingIndex] = temp\n",
    "    startingIndex += 1\n",
    "\n",
    "for i in range(length):\n",
    "    print(l[i], end = \" \")"
   ]
  },
  {
   "cell_type": "code",
   "execution_count": 33,
   "metadata": {},
   "outputs": [
    {
     "name": "stdout",
     "output_type": "stream",
     "text": [
      "3\n",
      "4 1 2 3 1 -1 -1231\n",
      "-1\n"
     ]
    }
   ],
   "source": [
    "# Array Equiibrium Index\n",
    "# INEFFICIENT WAY\n",
    "n = int(input())\n",
    "arr = [int(x) for x in input().strip().split()]\n",
    "length = len(arr)\n",
    "for j in range(length):\n",
    "    sum1 = arr[0]\n",
    "    sum2 = arr[length-1]\n",
    "    for i in range(1,j):\n",
    "        sum1 += arr[i]\n",
    "    for k in range(j+1,length-1):\n",
    "        sum2 += arr[k]\n",
    "    if sum1 == sum2:\n",
    "        index = j\n",
    "        break\n",
    "    else:\n",
    "        index = -1\n",
    "print(index)"
   ]
  },
  {
   "cell_type": "code",
   "execution_count": 36,
   "metadata": {},
   "outputs": [
    {
     "name": "stdout",
     "output_type": "stream",
     "text": [
      "4\n",
      "-7 1 5 2 -4 3 0\n",
      "3\n"
     ]
    }
   ],
   "source": [
    "# Array Equilibrium Index\n",
    "# EFFICIENT WAY\n",
    "n = int(input())\n",
    "arr = [int(x) for x in input().strip().split()]\n",
    "length = len(arr)\n",
    "totalSum = 0\n",
    "leftSum = 0\n",
    "for i in range(length):\n",
    "    totalSum += arr[i]\n",
    "\n",
    "rightSum = totalSum - arr[0]\n",
    "index = -1\n",
    "for i in range(1,length):\n",
    "    leftSum += arr[i-1]\n",
    "    rightSum -= arr[i]\n",
    "    if leftSum == rightSum:\n",
    "        index = i\n",
    "        break\n",
    "print(index)"
   ]
  },
  {
   "cell_type": "code",
   "execution_count": 59,
   "metadata": {},
   "outputs": [
    {
     "name": "stdout",
     "output_type": "stream",
     "text": [
      "2\n",
      "13 14 17 18 2 0 15 -1\n",
      "18 15 -1 "
     ]
    }
   ],
   "source": [
    "n = int(input())\n",
    "arr = [int(x) for x in input().strip().split()]\n",
    "length = len(arr)\n",
    "maxElement = -9999\n",
    "index = 0\n",
    "index = -1\n",
    "for i in range(length):\n",
    "    if arr[i] > maxElement:\n",
    "        maxElement = arr[i]\n",
    "        index = i\n",
    "print(arr[index],end = \" \")\n",
    "for i in range(length-index-1,length):\n",
    "    maxElement = -9999\n",
    "    if index == length-1:\n",
    "        break\n",
    "    for j in range(index+1, length):\n",
    "        if arr[j] > maxElement:\n",
    "            maxElement = arr[j]\n",
    "            index = j\n",
    "    print(arr[index], end = \" \")"
   ]
  },
  {
   "cell_type": "code",
   "execution_count": 98,
   "metadata": {},
   "outputs": [
    {
     "name": "stdout",
     "output_type": "stream",
     "text": [
      "Welcome to Coding Ninjas\n",
      "Ninjas Coding to Welcome "
     ]
    }
   ],
   "source": [
    "# Reverse String Word Wise\n",
    "str = input()\n",
    "list = str.split(\" \")\n",
    "list.reverse()     # don't do a = list.reverse() or list = list.reverse() as it won't return a reference\n",
    "\n",
    "for i in list:\n",
    "    print(i, end = \" \")"
   ]
  },
  {
   "cell_type": "code",
   "execution_count": 2,
   "metadata": {},
   "outputs": [
    {
     "name": "stdout",
     "output_type": "stream",
     "text": [
      "2\n",
      "5 1 2 4 1 1 5 7 9 8\n",
      "1 1 1 2 4 5 5 7 8 9 "
     ]
    }
   ],
   "source": [
    "# Selection Sort for repeating elements\n",
    "n = int(input())\n",
    "l = [int(x) for x in input().strip().split()]\n",
    "length = len(l)\n",
    "startingIndex = 0\n",
    "index = 0\n",
    "for j in range(length):\n",
    "    minimumElement = 99999\n",
    "    for i in range(startingIndex,length):\n",
    "        if l[i] <= minimumElement:\n",
    "            minimumElement = l[i]\n",
    "            index = i\n",
    "    temp = l[index]\n",
    "    l[index] = l[startingIndex]\n",
    "    l[startingIndex] = temp\n",
    "    startingIndex += 1\n",
    "\n",
    "for i in range(length):\n",
    "    print(l[i], end = \" \")"
   ]
  },
  {
   "cell_type": "code",
   "execution_count": 12,
   "metadata": {},
   "outputs": [
    {
     "name": "stdout",
     "output_type": "stream",
     "text": [
      "1\n",
      "1 4 12 2 37 19 39\n",
      "2\n",
      "2 1 6 81 7 89 9 12\n",
      "198\n"
     ]
    }
   ],
   "source": [
    "n1 = int(input())\n",
    "l1 = [int(x) for x in input().strip().split()]\n",
    "n2 = int(input())\n",
    "l2 = [int(x) for x in input().strip().split()]\n",
    "i = 0\n",
    "j = 0\n",
    "sum1 = 0\n",
    "sum2 = 0\n",
    "maxSum = 0\n",
    "while i < len(l1) and j < len(l2):\n",
    "    if l1[i] < l2[j]:\n",
    "        sum1 += l1[i]\n",
    "        i += 1\n",
    "    elif l1[i] > l2[j]:\n",
    "        sum2 += l2[j]\n",
    "        j += 1\n",
    "    else:\n",
    "        sum1 += l1[i]\n",
    "        sum2 += l2[j]\n",
    "        i += 1\n",
    "        j += 1\n",
    "        if sum1 >= sum2:\n",
    "            maxSum += sum1\n",
    "        else:\n",
    "            maxSum += sum2\n",
    "        sum1 = 0\n",
    "        sum2 = 0\n",
    "\n",
    "if i == len(l1):\n",
    "    while j < len(l2):\n",
    "        sum2 += l2[j]\n",
    "        j += 1\n",
    "elif j == len(l2):\n",
    "    while i < len(l1):\n",
    "        sum1 += l1[i]\n",
    "        i += 1\n",
    "\n",
    "if sum1 >= sum2:\n",
    "    maxSum += sum1\n",
    "else:\n",
    "    maxSum += sum2\n",
    "print(maxSum)"
   ]
  },
  {
   "cell_type": "code",
   "execution_count": 25,
   "metadata": {},
   "outputs": [
    {
     "name": "stdout",
     "output_type": "stream",
     "text": [
      "asdafsfasdasd\n",
      "d a s d \n",
      " dasd\n"
     ]
    }
   ],
   "source": [
    "# longest unique substring\n",
    "str = input()\n",
    "startIndex = 0\n",
    "endIndex = 0\n",
    "maxLen = 0\n",
    "checkerSet = {}\n",
    "auxString = \"\"\n",
    "for i in range(len(str)):\n",
    "    if str[i] in checkerSet:\n",
    "        startIndex += 1\n",
    "        endIndex += 1\n",
    "        auxString = auxString[1:]\n",
    "        auxString += str[i]\n",
    "        maxLen += 1\n",
    "    else:\n",
    "        checkerSet[str[i]] = i\n",
    "        auxString += str[i]\n",
    "        endIndex += 1\n",
    "        maxLen += 1\n",
    "\n",
    "for i in range(startIndex,endIndex):\n",
    "    print(str[i], end = \" \")\n",
    "print(\"\\n\",auxString)"
   ]
  },
  {
   "cell_type": "code",
   "execution_count": 16,
   "metadata": {},
   "outputs": [
    {
     "name": "stdout",
     "output_type": "stream",
     "text": [
      "abcdabceb\n",
      "dabce\n"
     ]
    }
   ],
   "source": [
    "# longest unique substring\n",
    "string = input().strip()\n",
    "checkerSet = {}\n",
    "maxLength = 0\n",
    "auxString = \"\"\n",
    "maxString = \"\"\n",
    "for i in range(len(string)):\n",
    "    checkerSet = {}\n",
    "    if len(auxString) > len(maxString):\n",
    "        maxString = auxString\n",
    "    auxString = \"\"\n",
    "    for j in range(i,len(string)):\n",
    "        if string[j] in checkerSet:\n",
    "            break\n",
    "        else:\n",
    "            checkerSet[string[j]] = True\n",
    "            maxLength += 1\n",
    "            auxString += string[j]\n",
    "print(maxString)"
   ]
  },
  {
   "cell_type": "code",
   "execution_count": null,
   "metadata": {},
   "outputs": [],
   "source": []
  }
 ],
 "metadata": {
  "kernelspec": {
   "display_name": "Python 3",
   "language": "python",
   "name": "python3"
  },
  "language_info": {
   "codemirror_mode": {
    "name": "ipython",
    "version": 3
   },
   "file_extension": ".py",
   "mimetype": "text/x-python",
   "name": "python",
   "nbconvert_exporter": "python",
   "pygments_lexer": "ipython3",
   "version": "3.7.3"
  }
 },
 "nbformat": 4,
 "nbformat_minor": 2
}
