{
 "cells": [
  {
   "cell_type": "code",
   "execution_count": 6,
   "metadata": {},
   "outputs": [
    {
     "name": "stdout",
     "output_type": "stream",
     "text": [
      "[[1, 2, 3], [4, 5]]\n",
      "2\n"
     ]
    }
   ],
   "source": [
    "l = [[1,2,3],[4,5]]\n",
    "print(l)\n",
    "print(l[0][1])"
   ]
  },
  {
   "cell_type": "code",
   "execution_count": 18,
   "metadata": {},
   "outputs": [
    {
     "name": "stdout",
     "output_type": "stream",
     "text": [
      "[0, 1, 2, 3, 4, 5, 6, 7, 8, 9]\n",
      "[[0, 0, 0], [0, 0, 0], [0, 0, 0], [0, 0, 0], [0, 0, 0], [0, 0, 0], [0, 0, 0], [0, 0, 0], [0, 0, 0], [0, 0, 0]]\n",
      "\n",
      "\n",
      "[[0, 1, 2, 3, 4], [0, 1, 2, 3, 4], [0, 1, 2, 3, 4], [0, 1, 2, 3, 4], [0, 1, 2, 3, 4], [0, 1, 2, 3, 4], [0, 1, 2, 3, 4], [0, 1, 2, 3, 4], [0, 1, 2, 3, 4], [0, 1, 2, 3, 4]]\n",
      "\n",
      "\n",
      "[[0, 1, 2, 3, 4], [5, 6, 7, 8, 9], [10, 11, 12, 13, 14], [15, 16, 17, 18, 19], [20, 21, 22, 23, 24], [25, 26, 27, 28, 29], [30, 31, 32, 33, 34], [35, 36, 37, 38, 39], [40, 41, 42, 43, 44], [45, 46, 47, 48, 49]]\n"
     ]
    }
   ],
   "source": [
    "# how to create 2-D Arrays\n",
    "l1D = [i for i in range(10)]\n",
    "print(l1D)\n",
    "\n",
    "l2D = [[0,0,0] for i in range(10)]     # for every iteration inside this array we want to add an array inside this array\n",
    "print(l2D)\n",
    "\n",
    "l2D1 = [[j for j in range(5)] for i in range(10)]\n",
    "print() \n",
    "print()\n",
    "print(l2D1)\n",
    "\n",
    "l2D2 = [[5 * i + j for j in range(5)] for i in range(10)]\n",
    "print()\n",
    "print()\n",
    "print(l2D2)"
   ]
  },
  {
   "cell_type": "code",
   "execution_count": 54,
   "metadata": {},
   "outputs": [
    {
     "name": "stdout",
     "output_type": "stream",
     "text": [
      "2 5\n",
      "1 2 3 4 5 6 7 8 9 10\n",
      "[1, 2, 3, 4, 5, 6, 7, 8, 9, 10]\n",
      "[[1, 2, 3, 4, 5], [6, 7, 8, 9, 10]]\n",
      "\n",
      "\n",
      "[[1, 2, 3, 4, 5], [6, 7, 8, 9, 10]]\n"
     ]
    }
   ],
   "source": [
    "# how to take input into a 2-D Array\n",
    "string = input().strip().split(\" \")\n",
    "n = int(string[0])\n",
    "m = int(string[1])\n",
    "\n",
    "l = [int(i) for i in input().strip().split(\" \")]\n",
    "print(l)\n",
    "\n",
    "out = []\n",
    "for i in range(n):\n",
    "    out.append([])\n",
    "    for j in range(m):\n",
    "        out[i].append(l[i * m + j])\n",
    "print(out)\n",
    "\n",
    "out2 = [[l[i * m + j] for j in range(m)] for i in range(n)]\n",
    "print()\n",
    "print()\n",
    "print(out2)"
   ]
  },
  {
   "cell_type": "code",
   "execution_count": 55,
   "metadata": {},
   "outputs": [
    {
     "name": "stdout",
     "output_type": "stream",
     "text": [
      "1 6 7 2 3 8 9 4 5 10 "
     ]
    }
   ],
   "source": [
    "n = len(out2)\n",
    "m = len(out2[0])\n",
    "\n",
    "for j in range(m):\n",
    "    k = n-1\n",
    "    for i in range(n):\n",
    "        if j % 2 == 0 or j % 2 == 2:\n",
    "            print(out2[i][j], end = \" \")\n",
    "        else:\n",
    "            print(out2[k][j], end = \" \")\n",
    "            k -= 1"
   ]
  },
  {
   "cell_type": "code",
   "execution_count": 66,
   "metadata": {},
   "outputs": [
    {
     "name": "stdout",
     "output_type": "stream",
     "text": [
      "2 5\n",
      "1 2 3 4 5 6 7 8 9 10\n",
      "row 1 40\n"
     ]
    }
   ],
   "source": [
    "# Largest Row Or Column\n",
    "string = input().strip().split(\" \")\n",
    "n = int(string[0])\n",
    "m = int(string[1])\n",
    "\n",
    "l = [int(i) for i in input().strip().split(\" \")]\n",
    "out2 = [[l[i * m + j] for j in range(m)] for i in range(n)]\n",
    "\n",
    "rowSum = 0\n",
    "colSum = 0\n",
    "sum = 0\n",
    "maxSum = 0\n",
    "ithRow = 0\n",
    "jthCol = 0\n",
    "\n",
    "for i in range(n):\n",
    "    for j in range(m):\n",
    "        sum += out2[i][j]\n",
    "    if sum > rowSum:\n",
    "        rowSum = sum\n",
    "        ithRow = i\n",
    "    sum = 0\n",
    "        \n",
    "for j in range(m):\n",
    "    for i in range(n):\n",
    "        sum += out2[i][j]\n",
    "    if sum > colSum:\n",
    "        colSum = sum\n",
    "        jthCol = j\n",
    "    sum = 0\n",
    "            \n",
    "# print(str)\n",
    "if rowSum >= colSum:\n",
    "    print(\"row\", end = \" \")\n",
    "    print(ithRow, end = \" \")\n",
    "    print(rowSum)\n",
    "else:\n",
    "    print(\"column\", end = \" \")\n",
    "    print(jthCol, end = \" \")\n",
    "    print(colSum)"
   ]
  },
  {
   "cell_type": "code",
   "execution_count": null,
   "metadata": {},
   "outputs": [],
   "source": []
  }
 ],
 "metadata": {
  "kernelspec": {
   "display_name": "Python 3",
   "language": "python",
   "name": "python3"
  },
  "language_info": {
   "codemirror_mode": {
    "name": "ipython",
    "version": 3
   },
   "file_extension": ".py",
   "mimetype": "text/x-python",
   "name": "python",
   "nbconvert_exporter": "python",
   "pygments_lexer": "ipython3",
   "version": "3.7.3"
  }
 },
 "nbformat": 4,
 "nbformat_minor": 2
}
