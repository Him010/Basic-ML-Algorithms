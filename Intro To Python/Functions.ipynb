{
 "cells": [
  {
   "cell_type": "code",
   "execution_count": 9,
   "metadata": {},
   "outputs": [
    {
     "name": "stdout",
     "output_type": "stream",
     "text": [
      "30\n"
     ]
    }
   ],
   "source": [
    "# functions\n",
    "def sum(a, b):\n",
    "    z = a + b\n",
    "    return z\n",
    "\n",
    "x = 10\n",
    "y = 20\n",
    "a = sum(x,y)\n",
    "print(a)\n"
   ]
  },
  {
   "cell_type": "markdown",
   "metadata": {},
   "source": [
    "#### since python is an interpreted language. therfore the defining of the function should be done before the calling of the function"
   ]
  },
  {
   "cell_type": "code",
   "execution_count": 14,
   "metadata": {},
   "outputs": [
    {
     "name": "stdout",
     "output_type": "stream",
     "text": [
      "10000\n",
      "144\n"
     ]
    }
   ],
   "source": [
    "def power(x,y = 2):\n",
    "    return x ** y\n",
    "s = 10\n",
    "e = 4\n",
    "print(power(10,4))\n",
    "print(power(12))"
   ]
  },
  {
   "cell_type": "code",
   "execution_count": 15,
   "metadata": {},
   "outputs": [
    {
     "name": "stdout",
     "output_type": "stream",
     "text": [
      "6\n",
      "5\n",
      "13\n",
      "24\n"
     ]
    }
   ],
   "source": [
    "def sum3(a = 12, b = 1, c = 2):\n",
    "    return a + b + c\n",
    "\n",
    "print(sum3(1,2,3))\n",
    "print(sum3(1,2))\n",
    "print(sum3(10))\n",
    "print(sum3(b = 10))       # in this way we can pass argument to only b and a and c will use their default values"
   ]
  },
  {
   "cell_type": "code",
   "execution_count": 21,
   "metadata": {},
   "outputs": [
    {
     "name": "stdout",
     "output_type": "stream",
     "text": [
      "84\n"
     ]
    }
   ],
   "source": [
    "# variable number of inputs to a function\n",
    "def sum_variable(a, b, *more):\n",
    "    ans = a + b\n",
    "    for i in more :\n",
    "        ans += i\n",
    "    return ans\n",
    "    \n",
    "print(sum_variable(10,12,2,3,45,6,6))"
   ]
  },
  {
   "cell_type": "code",
   "execution_count": 44,
   "metadata": {},
   "outputs": [
    {
     "name": "stdout",
     "output_type": "stream",
     "text": [
      "30\n",
      "-10\n",
      "(22, -2)\n",
      "54\n",
      "15\n"
     ]
    }
   ],
   "source": [
    "# More than one return value\n",
    "def dummy(a,b):\n",
    "    return a + b, a - b\n",
    "\n",
    "a = 10\n",
    "b = 20\n",
    "sum1, difference = dummy(a,b)\n",
    "print(sum1)\n",
    "print(difference)\n",
    "a = dummy(10,12)\n",
    "print(a)\n",
    "\n",
    "print(dummy(15,39)[0])    # accessing the 0th entry of the tuple i.e. a + b\n",
    "print(dummy(24,9)[1])     # accessing the 1st entry of the tuple i.e. a - b"
   ]
  },
  {
   "cell_type": "code",
   "execution_count": 59,
   "metadata": {},
   "outputs": [
    {
     "name": "stdout",
     "output_type": "stream",
     "text": [
      "500\n",
      "188\n"
     ]
    }
   ],
   "source": [
    "n = int(input())\n",
    "first = 0\n",
    "second = 1\n",
    "ans = 0\n",
    "for i in range(n):\n",
    "    temp = second\n",
    "    second = first + second\n",
    "    first = temp\n",
    "    if second >= n:\n",
    "        break\n",
    "    if second % 2 == 0:\n",
    "        ans += second\n",
    "print(ans)"
   ]
  },
  {
   "cell_type": "code",
   "execution_count": 107,
   "metadata": {},
   "outputs": [
    {
     "name": "stdout",
     "output_type": "stream",
     "text": [
      "5\n",
      "\n",
      "1 \n",
      "3 2 \n",
      "4 5 6 \n",
      "10 9 8 7 \n",
      "11 12 13 14 15 \n"
     ]
    }
   ],
   "source": [
    "n = int(input())\n",
    "count = 1\n",
    "j = 0\n",
    "for i in range(n+1):\n",
    "    countReverse = count + 1 + j\n",
    "    for j in range(i):\n",
    "        if(i%2 == 0):\n",
    "            print(countReverse, end = \" \")\n",
    "            countReverse -= 1\n",
    "        else:\n",
    "            print(count, end = \" \")\n",
    "        count += 1\n",
    "    print()"
   ]
  },
  {
   "cell_type": "code",
   "execution_count": 135,
   "metadata": {},
   "outputs": [
    {
     "name": "stdout",
     "output_type": "stream",
     "text": [
      "3\n",
      "2\n",
      "3\n"
     ]
    }
   ],
   "source": [
    "# every prime number\n",
    "n = int(input())\n",
    "if n > 1:\n",
    "    print(2)\n",
    "    for i in range(3,n+1):\n",
    "        for j in range(2,i+1):\n",
    "            if i % j == 0:\n",
    "                if(j == i):\n",
    "                    print(i)\n",
    "                break"
   ]
  },
  {
   "cell_type": "code",
   "execution_count": 154,
   "metadata": {},
   "outputs": [
    {
     "name": "stdout",
     "output_type": "stream",
     "text": [
      "1000\n",
      "249\n"
     ]
    }
   ],
   "source": [
    "# trailing zeroes in n!\n",
    "n = int(input())\n",
    "ans = 0\n",
    "for i in range(1,n):\n",
    "    a = 5 ** i\n",
    "    if a < n:\n",
    "        tempAns = n // a\n",
    "    else:\n",
    "        break\n",
    "    ans += tempAns\n",
    "print(ans)"
   ]
  },
  {
   "cell_type": "code",
   "execution_count": 58,
   "metadata": {},
   "outputs": [
    {
     "name": "stdout",
     "output_type": "stream",
     "text": [
      "100\n",
      "1100100\n"
     ]
    }
   ],
   "source": [
    "n = int(input())\n",
    "temp = 0\n",
    "temp1 = '0'\n",
    "for i in range(n):\n",
    "    if n == 1:\n",
    "        temp1 += '1'\n",
    "        break\n",
    "    else:\n",
    "        temp = n % 2\n",
    "        n = n // 2\n",
    "        temp1 += str(temp)\n",
    "temp1 = temp1[1:]\n",
    "temp1 = temp1[::-1]\n",
    "temp1 = int(temp1)\n",
    "print(temp1)"
   ]
  },
  {
   "cell_type": "code",
   "execution_count": null,
   "metadata": {},
   "outputs": [],
   "source": []
  }
 ],
 "metadata": {
  "kernelspec": {
   "display_name": "Python 3",
   "language": "python",
   "name": "python3"
  },
  "language_info": {
   "codemirror_mode": {
    "name": "ipython",
    "version": 3
   },
   "file_extension": ".py",
   "mimetype": "text/x-python",
   "name": "python",
   "nbconvert_exporter": "python",
   "pygments_lexer": "ipython3",
   "version": "3.7.3"
  }
 },
 "nbformat": 4,
 "nbformat_minor": 2
}
