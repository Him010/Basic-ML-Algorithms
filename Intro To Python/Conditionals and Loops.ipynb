{
 "cells": [
  {
   "cell_type": "code",
   "execution_count": 7,
   "metadata": {},
   "outputs": [
    {
     "name": "stdout",
     "output_type": "stream",
     "text": [
      "<class 'bool'>\n",
      "<class 'bool'>\n"
     ]
    }
   ],
   "source": [
    "# boolean datatype\n",
    "a = True\n",
    "b = False\n",
    "print(type(a))\n",
    "print(type(b))"
   ]
  },
  {
   "cell_type": "code",
   "execution_count": 13,
   "metadata": {},
   "outputs": [
    {
     "name": "stdout",
     "output_type": "stream",
     "text": [
      "False\n",
      "False\n",
      "True\n",
      "True\n",
      "False\n",
      "True\n"
     ]
    }
   ],
   "source": [
    "# Relational Operators\n",
    "x = 10\n",
    "y = 20\n",
    "print(x > y)\n",
    "print(x >= y)\n",
    "print(x <= y)\n",
    "print(x < y)\n",
    "print(x == y)\n",
    "print(x != y)"
   ]
  },
  {
   "cell_type": "code",
   "execution_count": 19,
   "metadata": {},
   "outputs": [
    {
     "name": "stdout",
     "output_type": "stream",
     "text": [
      "True\n",
      "True\n"
     ]
    }
   ],
   "source": [
    "# Logical Operators\n",
    "x = 10\n",
    "y = 20\n",
    "z = 30\n",
    "print(x < y and x < z)\n",
    "print(x < y or x < z)"
   ]
  },
  {
   "cell_type": "code",
   "execution_count": 22,
   "metadata": {},
   "outputs": [
    {
     "name": "stdout",
     "output_type": "stream",
     "text": [
      "20\n"
     ]
    }
   ],
   "source": [
    "# if else\n",
    "if x > y :\n",
    "    print(x)\n",
    "else :\n",
    "    print(y)"
   ]
  },
  {
   "cell_type": "code",
   "execution_count": 26,
   "metadata": {},
   "outputs": [
    {
     "name": "stdout",
     "output_type": "stream",
     "text": [
      "40\n"
     ]
    }
   ],
   "source": [
    "x = 30\n",
    "y = 40\n",
    "z = 35\n",
    "if x >= y and x >= z :\n",
    "    print(x)\n",
    "elif y >= x and y >= z :\n",
    "    print(y)\n",
    "else :\n",
    "    print(z)"
   ]
  },
  {
   "cell_type": "code",
   "execution_count": 35,
   "metadata": {},
   "outputs": [
    {
     "name": "stdout",
     "output_type": "stream",
     "text": [
      "4\n",
      "1 2 3 4 \n",
      "done\n"
     ]
    }
   ],
   "source": [
    "# while loop\n",
    "n = int(input())\n",
    "i = 1\n",
    "while i <= n :\n",
    "    print(i, end = \" \")\n",
    "    i = i + 1\n",
    "print()\n",
    "print(\"done\")"
   ]
  },
  {
   "cell_type": "code",
   "execution_count": 52,
   "metadata": {},
   "outputs": [
    {
     "name": "stdout",
     "output_type": "stream",
     "text": [
      "5\n",
      "1 2 3 4 5 \n",
      "0 1 2 3 4 5 \n",
      "4 6 8 \n",
      "10 9 8 7 6 5 \n"
     ]
    }
   ],
   "source": [
    "# for loop and range\n",
    "n = int(input())\n",
    "\n",
    "for i in range(1, n + 1) :        # i will start from 1 and go to n+1-1 i.e. n. by default increment is of 1\n",
    "    print(i, end = \" \")\n",
    "print()\n",
    "    \n",
    "for i in range(n + 1) :           # by default range starts from 0\n",
    "    print(i, end = \" \")       \n",
    "print()\n",
    "\n",
    "for i in range(4,10,2) :          # 2 is the step i.e. jump i.e. default increment\n",
    "    print(i, end = \" \")\n",
    "print()\n",
    "\n",
    "for i in range(10,4,-1) :         # if want to go backward then supply the initial and final value like usual \n",
    "                                  # and jump of a negative number\n",
    "    print(i, end = \" \")\n",
    "print()"
   ]
  },
  {
   "cell_type": "code",
   "execution_count": 75,
   "metadata": {},
   "outputs": [
    {
     "name": "stdout",
     "output_type": "stream",
     "text": [
      "74789237489274982349728942\n",
      "It is not a prime number\n"
     ]
    }
   ],
   "source": [
    "# prime number\n",
    "n = int(input())\n",
    "k = 2\n",
    "for i in range(2,n) :\n",
    "    if n%i == 0:\n",
    "        break\n",
    "if i == n-1 :\n",
    "    print(\"It is a prime number\")\n",
    "else : \n",
    "    print(\"It is not a prime number\")"
   ]
  },
  {
   "cell_type": "code",
   "execution_count": 89,
   "metadata": {},
   "outputs": [
    {
     "name": "stdout",
     "output_type": "stream",
     "text": [
      "a\n",
      "b\n",
      "c\n",
      "d\n",
      "1 2 3 "
     ]
    }
   ],
   "source": [
    "# fast iteration\n",
    "s = \"abcd\"\n",
    "for c in s :     # like a for each loop. reads as for every c that is present in string s, do this\n",
    "    print(c)\n",
    "\n",
    "a = (1,2,3)\n",
    "for b in a :\n",
    "    print(b, end = \" \")"
   ]
  },
  {
   "cell_type": "code",
   "execution_count": 122,
   "metadata": {},
   "outputs": [
    {
     "name": "stdout",
     "output_type": "stream",
     "text": [
      "7\n",
      "1            1\n",
      "12          21\n",
      "123        321\n",
      "1234      4321\n",
      "12345    54321\n",
      "123456  654321\n",
      "12345677654321\n"
     ]
    }
   ],
   "source": [
    "n = int(input())\n",
    "j = 1\n",
    "l = n-1\n",
    "for i in range(1,n+1) :\n",
    "    p = i\n",
    "    for j in range(j,i+1):\n",
    "        print(j,end = \"\")\n",
    "    for k in range(l*2) :\n",
    "        print(\" \", end = \"\")\n",
    "    for m in range(p,0,-1) :\n",
    "        print(p,end = \"\")\n",
    "        p -= 1\n",
    "    j = 1\n",
    "    l -= 1\n",
    "    p = i\n",
    "    print()"
   ]
  },
  {
   "cell_type": "code",
   "execution_count": 133,
   "metadata": {},
   "outputs": [
    {
     "name": "stdout",
     "output_type": "stream",
     "text": [
      "Aryan Taneja\n"
     ]
    },
    {
     "ename": "IndexError",
     "evalue": "string index out of range",
     "output_type": "error",
     "traceback": [
      "\u001b[1;31m---------------------------------------------------------------------------\u001b[0m",
      "\u001b[1;31mIndexError\u001b[0m                                Traceback (most recent call last)",
      "\u001b[1;32m<ipython-input-133-781b0bb9ecf4>\u001b[0m in \u001b[0;36m<module>\u001b[1;34m\u001b[0m\n\u001b[0;32m      8\u001b[0m         \u001b[1;32mfor\u001b[0m \u001b[0mj\u001b[0m \u001b[1;32min\u001b[0m \u001b[0mrange\u001b[0m\u001b[1;33m(\u001b[0m\u001b[1;36m0\u001b[0m\u001b[1;33m,\u001b[0m\u001b[0mlen\u001b[0m\u001b[1;33m(\u001b[0m\u001b[0mtempStr\u001b[0m\u001b[1;33m)\u001b[0m\u001b[1;33m)\u001b[0m \u001b[1;33m:\u001b[0m\u001b[1;33m\u001b[0m\u001b[1;33m\u001b[0m\u001b[0m\n\u001b[0;32m      9\u001b[0m             \u001b[0mtempChar\u001b[0m \u001b[1;33m=\u001b[0m \u001b[0mtempStr\u001b[0m\u001b[1;33m[\u001b[0m\u001b[0mstart\u001b[0m\u001b[1;33m]\u001b[0m\u001b[1;33m\u001b[0m\u001b[1;33m\u001b[0m\u001b[0m\n\u001b[1;32m---> 10\u001b[1;33m             \u001b[0mtempStr\u001b[0m\u001b[1;33m[\u001b[0m\u001b[0mstart\u001b[0m\u001b[1;33m]\u001b[0m \u001b[1;33m=\u001b[0m \u001b[0mtempStr\u001b[0m\u001b[1;33m[\u001b[0m\u001b[0mend\u001b[0m\u001b[1;33m]\u001b[0m\u001b[1;33m\u001b[0m\u001b[1;33m\u001b[0m\u001b[0m\n\u001b[0m\u001b[0;32m     11\u001b[0m             \u001b[0mtempStr\u001b[0m\u001b[1;33m[\u001b[0m\u001b[0mend\u001b[0m\u001b[1;33m]\u001b[0m \u001b[1;33m=\u001b[0m \u001b[0mtempChar\u001b[0m\u001b[1;33m\u001b[0m\u001b[1;33m\u001b[0m\u001b[0m\n\u001b[0;32m     12\u001b[0m             \u001b[0mstart\u001b[0m \u001b[1;33m+=\u001b[0m \u001b[1;36m1\u001b[0m\u001b[1;33m\u001b[0m\u001b[1;33m\u001b[0m\u001b[0m\n",
      "\u001b[1;31mIndexError\u001b[0m: string index out of range"
     ]
    }
   ],
   "source": [
    "string = input()\n",
    "for i in range(len(string)) :\n",
    "    if(string[i] == \" \") :\n",
    "        tempStr = string[0:i]\n",
    "        start = 0\n",
    "        tempChar = \"a\"\n",
    "        end = len(tempStr)\n",
    "        for j in range(0,len(tempStr)) :\n",
    "            tempChar = tempStr[start]\n",
    "            tempStr[start] = tempStr[end]\n",
    "            tempStr[end] = tempChar\n",
    "            start += 1\n",
    "            end -= 1\n",
    "        print(tempStr[0:i])"
   ]
  },
  {
   "cell_type": "code",
   "execution_count": 2,
   "metadata": {},
   "outputs": [
    {
     "name": "stdout",
     "output_type": "stream",
     "text": [
      "adafs\n"
     ]
    }
   ],
   "source": [
    "str = \"sfada\"\n",
    "print(str[::-1])     # to print the reverse of a string"
   ]
  },
  {
   "cell_type": "code",
   "execution_count": 23,
   "metadata": {},
   "outputs": [
    {
     "name": "stdout",
     "output_type": "stream",
     "text": [
      "Aryan Taneja\n",
      "nayrA ajenaT "
     ]
    }
   ],
   "source": [
    "string = input()\n",
    "stringStart = 0;\n",
    "count = 0;\n",
    "for i in range(len(string)) :\n",
    "    if(string[i] == \" \") :\n",
    "        count += 1\n",
    "for i in range(len(string)) :\n",
    "    if(string[i] == \" \"):\n",
    "        tempStr = string[stringStart:i]\n",
    "        stringStart = i + 1\n",
    "        tempStr = tempStr[::-1]\n",
    "        count -= 1\n",
    "        print(tempStr, end = \" \")\n",
    "if(count == 0) :\n",
    "        tempStr = string[stringStart:len(string)]\n",
    "        tempStr = tempStr[::-1]\n",
    "        print(tempStr, end = \" \")"
   ]
  },
  {
   "cell_type": "code",
   "execution_count": null,
   "metadata": {},
   "outputs": [],
   "source": []
  }
 ],
 "metadata": {
  "kernelspec": {
   "display_name": "Python 3",
   "language": "python",
   "name": "python3"
  },
  "language_info": {
   "codemirror_mode": {
    "name": "ipython",
    "version": 3
   },
   "file_extension": ".py",
   "mimetype": "text/x-python",
   "name": "python",
   "nbconvert_exporter": "python",
   "pygments_lexer": "ipython3",
   "version": "3.7.3"
  }
 },
 "nbformat": 4,
 "nbformat_minor": 2
}
