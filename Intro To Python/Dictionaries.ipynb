{
 "cells": [
  {
   "cell_type": "code",
   "execution_count": 9,
   "metadata": {},
   "outputs": [
    {
     "name": "stdout",
     "output_type": "stream",
     "text": [
      "{23: 34, 'str': 345}\n",
      "{23: 345, 'str1': 322}\n"
     ]
    }
   ],
   "source": [
    "# how to create a dictionary and update/insert\n",
    "d = {}\n",
    "d[23] = 34      # corresponding to key 23 the value entered is 34\n",
    "d[\"str\"] = 345  # corresponding to key 'str' the value entered is 345\n",
    "print(d)\n",
    "\n",
    "d = {23 : 34, \"str1\" : 322}\n",
    "d[23] = 345         # if the key 23 not exists then it inserts the key and if present then it updates the key\n",
    "print(d)\n",
    "\n",
    "# a list cannot be a dictionary key\n",
    "# keys are IMMUTABLE like strings"
   ]
  },
  {
   "cell_type": "code",
   "execution_count": 14,
   "metadata": {},
   "outputs": [
    {
     "name": "stdout",
     "output_type": "stream",
     "text": [
      "23: 345\n",
      "str1: 322\n"
     ]
    }
   ],
   "source": [
    "# how to iterate over a dictionary\n",
    "for i in d:\n",
    "    print(i, end = \": \")     # it will print the keys\n",
    "    print(d[i])  # it will print the values\n",
    "ans = {}\n",
    "for i in d:\n",
    "    if d[i] > 340:\n",
    "        ans[i] = d"
   ]
  },
  {
   "cell_type": "code",
   "execution_count": 15,
   "metadata": {},
   "outputs": [
    {
     "data": {
      "text/plain": [
       "{23: {23: 345, 'str1': 322}}"
      ]
     },
     "execution_count": 15,
     "metadata": {},
     "output_type": "execute_result"
    }
   ],
   "source": [
    "ans"
   ]
  },
  {
   "cell_type": "code",
   "execution_count": null,
   "metadata": {},
   "outputs": [],
   "source": []
  },
  {
   "cell_type": "code",
   "execution_count": 19,
   "metadata": {},
   "outputs": [
    {
     "data": {
      "text/plain": [
       "{'str1': 322}"
      ]
     },
     "execution_count": 19,
     "metadata": {},
     "output_type": "execute_result"
    }
   ],
   "source": [
    "# delete elements in dictionary\n",
    "del d[23]\n",
    "d"
   ]
  },
  {
   "cell_type": "code",
   "execution_count": 33,
   "metadata": {},
   "outputs": [
    {
     "name": "stdout",
     "output_type": "stream",
     "text": [
      "True\n",
      "True\n",
      "1\n",
      "{}\n",
      "dict_keys([2])\n",
      "dict_values([1])\n",
      "False\n"
     ]
    }
   ],
   "source": [
    "# common functions\n",
    "d1 = {}\n",
    "d2 = {}\n",
    "\n",
    "print(d1 == d2)     # comparing the two dictionaries\n",
    "\n",
    "d1[2] = 1\n",
    "d2[2] = 1\n",
    "print(d1 == d2)     # checking the elements and telling us whether my two dictionaries are same or not \n",
    "\n",
    "print(len(d1))\n",
    "d1.clear()\n",
    "print(d1)\n",
    "\n",
    "print(d2.keys())\n",
    "print(d2.values())\n",
    "\n",
    "print(23 in d2)            # checks if the dictionary d2 has 23 as a key"
   ]
  },
  {
   "cell_type": "code",
   "execution_count": 9,
   "metadata": {},
   "outputs": [
    {
     "name": "stdout",
     "output_type": "stream",
     "text": [
      "2\n",
      "1 3 2 4 1\n",
      "-1\n"
     ]
    }
   ],
   "source": [
    "def equilibrium(arr): \n",
    "\tleftsum = 0\n",
    "\trightsum = 0\n",
    "\tn = len(arr) \n",
    "\tfor i in range(n): \n",
    "\t\tleftsum = 0\n",
    "\t\trightsum = 0\n",
    "\t\tfor j in range(i): \n",
    "\t\t\tleftsum += arr[j] \n",
    "\t\tfor j in range(i + 1, n): \n",
    "\t\t\trightsum += arr[j] \n",
    "\t\tif leftsum == rightsum: \n",
    "\t\t\treturn i \n",
    "\treturn -1\n",
    "n= int(input())\n",
    "arr = [int(i) for i in input().strip().split(\" \")]\n",
    "print (equilibrium(arr))"
   ]
  },
  {
   "cell_type": "code",
   "execution_count": null,
   "metadata": {},
   "outputs": [],
   "source": []
  }
 ],
 "metadata": {
  "kernelspec": {
   "display_name": "Python 3",
   "language": "python",
   "name": "python3"
  },
  "language_info": {
   "codemirror_mode": {
    "name": "ipython",
    "version": 3
   },
   "file_extension": ".py",
   "mimetype": "text/x-python",
   "name": "python",
   "nbconvert_exporter": "python",
   "pygments_lexer": "ipython3",
   "version": "3.7.3"
  }
 },
 "nbformat": 4,
 "nbformat_minor": 2
}
