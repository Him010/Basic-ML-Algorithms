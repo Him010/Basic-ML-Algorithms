{
 "cells": [
  {
   "cell_type": "markdown",
   "metadata": {},
   "source": [
    "## Intro To Jupyter\n",
    "\n",
    "we can write markdown or python code in our cells."
   ]
  },
  {
   "cell_type": "code",
   "execution_count": 8,
   "metadata": {},
   "outputs": [
    {
     "name": "stdout",
     "output_type": "stream",
     "text": [
      "10 12\n",
      "12\n"
     ]
    }
   ],
   "source": [
    "# print function\n",
    "a = 10\n",
    "print(a, end = \" \")\n",
    "print(12)\n",
    "print(12)"
   ]
  },
  {
   "cell_type": "code",
   "execution_count": 13,
   "metadata": {},
   "outputs": [
    {
     "name": "stdout",
     "output_type": "stream",
     "text": [
      "10\n",
      "20\n"
     ]
    },
    {
     "data": {
      "text/plain": [
       "20"
      ]
     },
     "execution_count": 13,
     "metadata": {},
     "output_type": "execute_result"
    }
   ],
   "source": [
    "# last line is output\n",
    "a = 10\n",
    "b = 20\n",
    "print(a)\n",
    "print(b)\n",
    "b"
   ]
  },
  {
   "cell_type": "code",
   "execution_count": 18,
   "metadata": {},
   "outputs": [
    {
     "name": "stdout",
     "output_type": "stream",
     "text": [
      "<class 'int'>\n",
      "<class 'float'>\n",
      "<class 'complex'>\n"
     ]
    }
   ],
   "source": [
    "# variables and types of numbers\n",
    "a = 10\n",
    "print(type(a))\n",
    "a = 12.3\n",
    "print(type(a))\n",
    "a = 2 + 3j\n",
    "print(type(a))"
   ]
  },
  {
   "cell_type": "code",
   "execution_count": 26,
   "metadata": {},
   "outputs": [
    {
     "name": "stdout",
     "output_type": "stream",
     "text": [
      "12\n",
      "20\n",
      "32\n",
      "-8\n",
      "240\n",
      "0.6\n",
      "0\n",
      "144\n",
      "12\n"
     ]
    }
   ],
   "source": [
    "# operators\n",
    "a = 12\n",
    "c = a+b\n",
    "print(a)\n",
    "print(b)\n",
    "print(c)\n",
    "print(a - b)\n",
    "print(a * b)\n",
    "print(a / b)\n",
    "print(a // b)    # floor division\n",
    "print(a ** 2)    # exponentiation\n",
    "print(a % b)"
   ]
  },
  {
   "cell_type": "code",
   "execution_count": 41,
   "metadata": {},
   "outputs": [
    {
     "name": "stdout",
     "output_type": "stream",
     "text": [
      "Hello\n"
     ]
    }
   ],
   "source": [
    "# strings\n",
    "a = 'Hello'\n",
    "a = \"Hello\"\n",
    "# double quotes and single quotes doesn't matter\n",
    "print(a)"
   ]
  },
  {
   "cell_type": "code",
   "execution_count": 50,
   "metadata": {},
   "outputs": [
    {
     "name": "stdout",
     "output_type": "stream",
     "text": [
      "5\n",
      "<class 'str'>\n",
      "G\n",
      "Good Morning\n",
      "<class 'str'>\n"
     ]
    }
   ],
   "source": [
    "# typical string properties\n",
    "print(len(a))\n",
    "print(type(a))\n",
    "print(a[0])\n",
    "# strings are immutable\n",
    "# a[1] = '2'     can't do this\n",
    "a = \"Good \"   # can do this\n",
    "# part of a string cannot be changed but the whole string can be redefined i.e. it points to a different location\n",
    "b = \"Morning\"\n",
    "c = a + b    #String Concatenation\n",
    "print(c)\n",
    "# d = a + 2    # string + integer isn't going to work\n",
    "print(type('2'))    # so python doesn't have characters. every thing in python is treated as a string"
   ]
  },
  {
   "cell_type": "code",
   "execution_count": 62,
   "metadata": {},
   "outputs": [
    {
     "name": "stdout",
     "output_type": "stream",
     "text": [
      "ABC\n",
      "Abc\n",
      "abc\n",
      "asffdsf\n",
      "True\n",
      "False\n"
     ]
    }
   ],
   "source": [
    "# few function for strings\n",
    "a = \"Abc\"\n",
    "print(a.upper())\n",
    "print(a)        # a remains the same. that means a.upper() makes a new string instead of making the changes in a\n",
    "print(a.lower())\n",
    "b = \"   asffdsf   \"\n",
    "print(b.strip())  # removes the leading and trailing white spaces\n",
    "print(a.isalpha())\n",
    "print(b.isalpha())  # false because b has spaces too"
   ]
  },
  {
   "cell_type": "code",
   "execution_count": 72,
   "metadata": {},
   "outputs": [
    {
     "name": "stdout",
     "output_type": "stream",
     "text": [
      "kjfdshf\n",
      "kjfdshf\n",
      "<class 'str'>\n",
      "123\n",
      "123\n",
      "<class 'int'>\n",
      "123.2342\n",
      "123.2342\n",
      "<class 'float'>\n"
     ]
    }
   ],
   "source": [
    "# User Input\n",
    "a = input()\n",
    "print(a)\n",
    "print(type(a))\n",
    "# input function returns a string\n",
    "\n",
    "a = int(input())\n",
    "print(a)\n",
    "print(type(a))\n",
    "\n",
    "a = float(input())\n",
    "print(a)\n",
    "print(type(a))"
   ]
  },
  {
   "cell_type": "code",
   "execution_count": 80,
   "metadata": {},
   "outputs": [
    {
     "data": {
      "text/plain": [
       "tuple"
      ]
     },
     "execution_count": 80,
     "metadata": {},
     "output_type": "execute_result"
    }
   ],
   "source": [
    "a_b_c = 1,000,000\n",
    "type(a_b_c)"
   ]
  },
  {
   "cell_type": "code",
   "execution_count": 81,
   "metadata": {},
   "outputs": [
    {
     "name": "stdout",
     "output_type": "stream",
     "text": [
      "(1, 0, 0)\n"
     ]
    }
   ],
   "source": [
    "print(a_b_c)"
   ]
  },
  {
   "cell_type": "code",
   "execution_count": 82,
   "metadata": {},
   "outputs": [
    {
     "ename": "SyntaxError",
     "evalue": "invalid syntax (<ipython-input-82-fd5f99168ec0>, line 1)",
     "output_type": "error",
     "traceback": [
      "\u001b[1;36m  File \u001b[1;32m\"<ipython-input-82-fd5f99168ec0>\"\u001b[1;36m, line \u001b[1;32m1\u001b[0m\n\u001b[1;33m    a b c = 1000 2000 3000\u001b[0m\n\u001b[1;37m      ^\u001b[0m\n\u001b[1;31mSyntaxError\u001b[0m\u001b[1;31m:\u001b[0m invalid syntax\n"
     ]
    }
   ],
   "source": [
    "a b c = 1000 2000 3000"
   ]
  },
  {
   "cell_type": "code",
   "execution_count": 87,
   "metadata": {},
   "outputs": [
    {
     "name": "stdout",
     "output_type": "stream",
     "text": [
      "abcd12\n"
     ]
    }
   ],
   "source": [
    "s =\"abcd\"\n",
    "print(s + str(12))"
   ]
  },
  {
   "cell_type": "code",
   "execution_count": 3,
   "metadata": {},
   "outputs": [
    {
     "name": "stdout",
     "output_type": "stream",
     "text": [
      "a\n",
      "a\n"
     ]
    }
   ],
   "source": [
    "# indexing and negative indexing\n",
    "s = \"abc\"\n",
    "print(s[0])\n",
    "print(s[-3])"
   ]
  },
  {
   "cell_type": "code",
   "execution_count": 12,
   "metadata": {},
   "outputs": [
    {
     "name": "stdout",
     "output_type": "stream",
     "text": [
      "bc\n",
      "ef\n",
      "efg\n",
      "abc\n",
      "abcdefg\n"
     ]
    }
   ],
   "source": [
    "# slicing\n",
    "s = \"abcdefg\"\n",
    "print(s[1:3])     # starting is included but ending is not included\n",
    "print(s[-3:-1])   # cannot give s[-1:-3] because slicing always from left to right\n",
    "print(s[4:])      # starting from 4th index and going till the end\n",
    "print(s[:3])      # strting from start till the index 3-1 i.e. 2\n",
    "print(s[:])       # print everything from starting to end"
   ]
  },
  {
   "cell_type": "code",
   "execution_count": 13,
   "metadata": {},
   "outputs": [
    {
     "name": "stdout",
     "output_type": "stream",
     "text": [
      "cdefg\n"
     ]
    }
   ],
   "source": [
    "print(\"abcdefg\"[2:])"
   ]
  },
  {
   "cell_type": "code",
   "execution_count": 25,
   "metadata": {},
   "outputs": [
    {
     "name": "stdout",
     "output_type": "stream",
     "text": [
      "<class 'tuple'>\n",
      "1\n",
      "(1, 'Good', 2.3)\n",
      "(1, 'Good')\n"
     ]
    }
   ],
   "source": [
    "# tuple\n",
    "t = (1,2,3)\n",
    "print(type(t))\n",
    "print(t[0])\n",
    "\n",
    "t = (1, \"Good\", 2.3)    # a tuple can have different kinds of entities bundled together\n",
    "print(t)\n",
    "# t[0] = 23             # not valid as tuples like strings are immutable\n",
    "print(t[0:2])           # tuples do support slicing like strings"
   ]
  },
  {
   "cell_type": "code",
   "execution_count": 41,
   "metadata": {},
   "outputs": [
    {
     "name": "stdout",
     "output_type": "stream",
     "text": [
      "(1, 2, 'd', 1)\n",
      "(1, 2, 1, 2)\n",
      "True\n",
      "False\n",
      "2\n",
      "2\n",
      "ddasda\n"
     ]
    }
   ],
   "source": [
    "# operators on tuples\n",
    "t = (1,2)\n",
    "k = (\"d\",1)\n",
    "print(t + k)\n",
    "print(t * 2)        # tuple copied two times. t * 3 makes tuple copy three times\n",
    "print(1 in t)       # asking a question whether 1 comes in tuple t or not\n",
    "print(2 in k)\n",
    "print(max(t))       # prints the maximum in the tuple t\n",
    "print(len(t))       # prints the length of the tuple t\n",
    "# print(max(k))     # Invalid as cannot compare bwetween string and integer\n",
    "g = (\"ddasda\",\"b\")\n",
    "print(max(g))      "
   ]
  }
 ],
 "metadata": {
  "kernelspec": {
   "display_name": "Python 3",
   "language": "python",
   "name": "python3"
  },
  "language_info": {
   "codemirror_mode": {
    "name": "ipython",
    "version": 3
   },
   "file_extension": ".py",
   "mimetype": "text/x-python",
   "name": "python",
   "nbconvert_exporter": "python",
   "pygments_lexer": "ipython3",
   "version": "3.7.3"
  }
 },
 "nbformat": 4,
 "nbformat_minor": 2
}
