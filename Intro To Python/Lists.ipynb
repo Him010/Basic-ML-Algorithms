{
 "cells": [
  {
   "cell_type": "code",
   "execution_count": 22,
   "metadata": {},
   "outputs": [
    {
     "name": "stdout",
     "output_type": "stream",
     "text": [
      "[]\n",
      "()\n",
      "[1, 5, 6]\n",
      "[1, 2, 3]\n",
      "[0, 0, 0, 0, 0, 0, 0, 0, 0, 0]\n",
      "[0, 1, 4, 9, 16, 25, 36, 49, 64, 81]\n",
      "[1, 2, 'as', True]\n"
     ]
    }
   ],
   "source": [
    "# creating lists\n",
    "a = [1,2,3]\n",
    "type(a)\n",
    "\n",
    "a1 = list()      # to make an empty list\n",
    "print(a1)\n",
    "a2 = tuple()     # to make an empty tuple\n",
    "print(a2)\n",
    "\n",
    "a2 = list([1,5,6])\n",
    "a3 = list(a)\n",
    "print(a2)\n",
    "print(a3)\n",
    "\n",
    "\n",
    "a4 = [0 for i in range(10)]         # it means for every i in range(10) add a 0 to my list\n",
    "print(a4)\n",
    "\n",
    "a5 = [i * i for i in range(10)]     # it means for every i in range(10) add i*i i.e. i**2 to m list\n",
    "print(a5)\n",
    "\n",
    "a6 = [1,2,\"as\",True]\n",
    "print(a6)"
   ]
  },
  {
   "cell_type": "code",
   "execution_count": 28,
   "metadata": {},
   "outputs": [
    {
     "name": "stdout",
     "output_type": "stream",
     "text": [
      "2\n",
      "3\n",
      "[2]\n"
     ]
    },
    {
     "data": {
      "text/plain": [
       "3"
      ]
     },
     "execution_count": 28,
     "metadata": {},
     "output_type": "execute_result"
    }
   ],
   "source": [
    "# how to access data\n",
    "print(a[1])\n",
    "print(a[-1])\n",
    "print(a[1:2])\n",
    "len(a)"
   ]
  },
  {
   "cell_type": "code",
   "execution_count": 29,
   "metadata": {},
   "outputs": [
    {
     "name": "stdout",
     "output_type": "stream",
     "text": [
      "1\n",
      "2\n",
      "3\n"
     ]
    }
   ],
   "source": [
    "# fast iterate\n",
    "for i in a:\n",
    "    print(i)"
   ]
  },
  {
   "cell_type": "code",
   "execution_count": 38,
   "metadata": {},
   "outputs": [
    {
     "name": "stdout",
     "output_type": "stream",
     "text": [
      "['a', 'bss', 'c', 'd']\n",
      "['', 'a', 'v', 'c', 'd']\n"
     ]
    }
   ],
   "source": [
    "# taking input into lists when space is entered is typical\n",
    "# eg.\n",
    "# inp = input()\n",
    "# print(inp)\n",
    "\n",
    "# so to make the input possible by using space instead of enter we have to first look at sring properties\n",
    "str = \"a,bss,c,d\"\n",
    "print(str.split(\",\"))      # splits the string around comma and makes a list with the values\n",
    "str1 = \" a v c d\"\n",
    "print(str1.split(\" \"))     # splits the string around space and makes a list with the values"
   ]
  },
  {
   "cell_type": "code",
   "execution_count": 50,
   "metadata": {},
   "outputs": [
    {
     "name": "stdout",
     "output_type": "stream",
     "text": [
      "123 414\n",
      "[123, 414]\n"
     ]
    }
   ],
   "source": [
    "# a little more explained code for taking array input\n",
    "str = input().strip()      # did split as to remove any brackets before and after the value has been entered\n",
    "list = str.split(\" \")\n",
    "\n",
    "for i in range(0, len(list)):\n",
    "    list[i] = int(list[i])\n",
    "print(list)"
   ]
  },
  {
   "cell_type": "code",
   "execution_count": 58,
   "metadata": {},
   "outputs": [
    {
     "name": "stdout",
     "output_type": "stream",
     "text": [
      "1 4 2 3 4\n",
      "[1, 4, 2, 3, 4]\n"
     ]
    }
   ],
   "source": [
    "# l = input().strip().split(\" \")\n",
    "# print(l)\n",
    "\n",
    "# one-line for taking array input\n",
    "l = [int(x) for x in input().strip().split(\" \")]\n",
    "print(l)"
   ]
  },
  {
   "cell_type": "code",
   "execution_count": 59,
   "metadata": {},
   "outputs": [],
   "source": [
    "# lists 2"
   ]
  },
  {
   "cell_type": "code",
   "execution_count": 100,
   "metadata": {},
   "outputs": [
    {
     "name": "stdout",
     "output_type": "stream",
     "text": [
      "[1, 'ac', 3, 2]\n",
      "[1, 23, 'ac', 3, 2]\n"
     ]
    }
   ],
   "source": [
    "# add elements in a list\n",
    "l = [1,\"ac\",3]\n",
    "l.append(2)       # append always adds the element to the end of tht list\n",
    "print(l)\n",
    "\n",
    "l.insert(1,23)   # inserted 23 at index 1 so all the elements to the right of index 1 gets shifted to the right\n",
    "print(l)"
   ]
  },
  {
   "cell_type": "code",
   "execution_count": 101,
   "metadata": {},
   "outputs": [
    {
     "data": {
      "text/plain": [
       "[1, 23, 'ac', 3, 2, 2, 3, 4]"
      ]
     },
     "execution_count": 101,
     "metadata": {},
     "output_type": "execute_result"
    }
   ],
   "source": [
    "# l2 = [2,3,4]\n",
    "l.extend(l2)     # current list gets extended with the new list with all the elements getting added in the end\n",
    "l"
   ]
  },
  {
   "cell_type": "code",
   "execution_count": 102,
   "metadata": {},
   "outputs": [
    {
     "name": "stdout",
     "output_type": "stream",
     "text": [
      "[1, 23, 'ac', 3, 2, 2, 3, 4]\n",
      "[1, 23, 'ac', 3, 2, 2, 3, 4]\n",
      "[1, 23, 'ac', 2, 2, 3, 4]\n",
      "[1, 'ac', 2, 2, 3, 4]\n",
      "[2, 2, 3, 4]\n"
     ]
    }
   ],
   "source": [
    "# deleting elements\n",
    "# l.pop()    # without argument it's going to remove the last element\n",
    "print(l)\n",
    "\n",
    "# l.pop(2)   # it pops the element present at index 2\n",
    "print(l)\n",
    "\n",
    "l.remove(3)   # it removes the element 3. i.e. it will check the first occurrence of 3 and then remove it\n",
    "print(l)\n",
    "\n",
    "del l[1]      # it removes the element present at index 1\n",
    "print(l)\n",
    "\n",
    "del l[0:2]\n",
    "print(l)"
   ]
  },
  {
   "cell_type": "code",
   "execution_count": 108,
   "metadata": {},
   "outputs": [
    {
     "data": {
      "text/plain": [
       "[1, 2, 3, 1, 2, 3]"
      ]
     },
     "execution_count": 108,
     "metadata": {},
     "output_type": "execute_result"
    }
   ],
   "source": [
    "l = [1,2,3]\n",
    "# addition of list with int is not ok\n",
    "l + l\n",
    "# multiplication with int is fine\n",
    "l * 2"
   ]
  },
  {
   "cell_type": "code",
   "execution_count": 121,
   "metadata": {},
   "outputs": [
    {
     "name": "stdout",
     "output_type": "stream",
     "text": [
      "2\n",
      "[1, 1, 2, 3, 4, 5, 7, 9]\n",
      "5\n",
      "[9, 7, 5, 4, 3, 2, 1, 1]\n"
     ]
    },
    {
     "data": {
      "text/plain": [
       "True"
      ]
     },
     "execution_count": 121,
     "metadata": {},
     "output_type": "execute_result"
    }
   ],
   "source": [
    "l = [2,3,4,1,5,9,1,7]\n",
    "l.sort()\n",
    "print(l.count(1))     # tells us how many times 1 has come in the list\n",
    "print(l)\n",
    "\n",
    "print(l.index(5))     # tells us the index of element 5\n",
    "l.reverse()\n",
    "print(l)\n",
    "\n",
    "7 in l     # it will return a boolean. it will tell if 7 is present in l or not"
   ]
  },
  {
   "cell_type": "code",
   "execution_count": 120,
   "metadata": {},
   "outputs": [
    {
     "data": {
      "text/plain": [
       "41241"
      ]
     },
     "execution_count": 120,
     "metadata": {},
     "output_type": "execute_result"
    }
   ],
   "source": [
    "list = [1,90,4,2,41241]\n",
    "print(max(list))         # it tells the maximum element in the list"
   ]
  },
  {
   "cell_type": "code",
   "execution_count": 19,
   "metadata": {},
   "outputs": [
    {
     "name": "stdout",
     "output_type": "stream",
     "text": [
      "4 5 1 2 3 4 5 6 7 8 9 10 11 12 13 14 15 16 17 18 19 20\n",
      "1 2 3 4 5 10 15 20 19 18 17 16 11 6 7 8 9 14 13 12 "
     ]
    }
   ],
   "source": [
    "str=input().strip().split(\" \")\n",
    "rows=int(str[0])\n",
    "columns=int(str[1])\n",
    "# l=[int(i) for i in input().strip().split(\" \")]  new input. not required\n",
    "l = [int(i) for i in str]\n",
    "l = l[2:]\n",
    "array=[]\n",
    "for i in range(rows):\n",
    "    array.append([])\n",
    "    for j in range(columns):\n",
    "        array[i].append(l[i*columns+j])\n",
    "\n",
    "def spiral(m, n, a) : \n",
    "    k = 0; l = 0\n",
    "    while (k < m and l < n) : \n",
    "        for i in range(l, n) : \n",
    "            print(a[k][i], end = \" \") \n",
    "        k += 1\n",
    "        for i in range(k, m) : \n",
    "            print(a[i][n - 1], end = \" \") \n",
    "        n -= 1\n",
    "        if ( k < m) : \n",
    "            for i in range(n - 1, (l - 1), -1) : \n",
    "                print(a[m - 1][i], end = \" \") \n",
    "            m -= 1\n",
    "        if (l < n) : \n",
    "            for i in range(m - 1, k - 1, -1) : \n",
    "                print(a[i][l], end = \" \") \n",
    "            l += 1\n",
    "spiral(rows,columns,array)"
   ]
  },
  {
   "cell_type": "code",
   "execution_count": 20,
   "metadata": {},
   "outputs": [
    {
     "name": "stdout",
     "output_type": "stream",
     "text": [
      "4 5 1 2 3 4 5 6 7 8 9 10 11 12 13 14 15 16 17 18 19 20\n",
      "1 2 3 4 5 10 15 20 19 18 17 16 11 6 7 8 9 14 13 12 "
     ]
    }
   ],
   "source": [
    "str=input().strip().split(\" \")\n",
    "rows=int(str[0])\n",
    "columns=int(str[1])\n",
    "l = [int(i) for i in str]\n",
    "l = l[2:]\n",
    "array=[]\n",
    "for i in range(rows):\n",
    "    array.append([])\n",
    "    for j in range(columns):\n",
    "        array[i].append(l[i*columns+j])\n",
    "\n",
    "def spiral(m, n, a) : \n",
    "    k = 0; l = 0\n",
    "    while (k < m and l < n) : \n",
    "        for i in range(l, n) : \n",
    "            print(a[k][i], end = \" \") \n",
    "        k += 1\n",
    "        for i in range(k, m) : \n",
    "            print(a[i][n - 1], end = \" \") \n",
    "        n -= 1\n",
    "        if ( k < m) : \n",
    "            for i in range(n - 1, (l - 1), -1) : \n",
    "                print(a[m - 1][i], end = \" \") \n",
    "            m -= 1\n",
    "        if (l < n) : \n",
    "            for i in range(m - 1, k - 1, -1) : \n",
    "                print(a[i][l], end = \" \") \n",
    "            l += 1\n",
    "spiral(rows,columns,array)"
   ]
  },
  {
   "cell_type": "code",
   "execution_count": null,
   "metadata": {},
   "outputs": [],
   "source": []
  }
 ],
 "metadata": {
  "kernelspec": {
   "display_name": "Python 3",
   "language": "python",
   "name": "python3"
  },
  "language_info": {
   "codemirror_mode": {
    "name": "ipython",
    "version": 3
   },
   "file_extension": ".py",
   "mimetype": "text/x-python",
   "name": "python",
   "nbconvert_exporter": "python",
   "pygments_lexer": "ipython3",
   "version": "3.7.3"
  }
 },
 "nbformat": 4,
 "nbformat_minor": 2
}
