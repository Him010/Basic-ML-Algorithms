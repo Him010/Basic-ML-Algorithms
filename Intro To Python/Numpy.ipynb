{
 "cells": [
  {
   "cell_type": "code",
   "execution_count": 24,
   "metadata": {},
   "outputs": [
    {
     "ename": "NameError",
     "evalue": "name 'math' is not defined",
     "output_type": "error",
     "traceback": [
      "\u001b[1;31m---------------------------------------------------------------------------\u001b[0m",
      "\u001b[1;31mNameError\u001b[0m                                 Traceback (most recent call last)",
      "\u001b[1;32m<ipython-input-24-7a82bb3c8d36>\u001b[0m in \u001b[0;36m<module>\u001b[1;34m\u001b[0m\n\u001b[0;32m      1\u001b[0m \u001b[1;32mimport\u001b[0m \u001b[0mmath\u001b[0m \u001b[1;32mas\u001b[0m \u001b[0mm\u001b[0m\u001b[1;33m\u001b[0m\u001b[1;33m\u001b[0m\u001b[0m\n\u001b[1;32m----> 2\u001b[1;33m \u001b[0mmath\u001b[0m\u001b[1;33m.\u001b[0m\u001b[0msqrt\u001b[0m\u001b[1;33m(\u001b[0m\u001b[1;36m10\u001b[0m\u001b[1;33m)\u001b[0m\u001b[1;33m\u001b[0m\u001b[1;33m\u001b[0m\u001b[0m\n\u001b[0m",
      "\u001b[1;31mNameError\u001b[0m: name 'math' is not defined"
     ]
    }
   ],
   "source": [
    "import math as m\n",
    "math.sqrt(10)"
   ]
  },
  {
   "cell_type": "code",
   "execution_count": 1,
   "metadata": {},
   "outputs": [],
   "source": [
    "# Numpy arrays will have elements of same type\n",
    "import numpy as np"
   ]
  },
  {
   "cell_type": "code",
   "execution_count": 49,
   "metadata": {},
   "outputs": [
    {
     "name": "stdout",
     "output_type": "stream",
     "text": [
      "[1 2 3]\n",
      "['1' '2' '3']\n",
      "int32\n",
      "<class 'numpy.ndarray'>\n",
      "float64\n",
      "<class 'numpy.ndarray'>\n",
      "[[0. 0. 0.]\n",
      " [0. 0. 0.]]\n"
     ]
    }
   ],
   "source": [
    "# creating numpy arrays\n",
    "l = [1,2,3]\n",
    "print(np.array(l))\n",
    "\n",
    "l1 = [1,2,\"3\"]\n",
    "print(np.array(l1))      # since 3 is a string therefore it will convert the whole array into a string\n",
    "\n",
    "# using helper functions to create numpy arrays\n",
    "a = np.zeros(10,int)          # creates an array with all zeros. by default the array have all float values\n",
    "b = np.ones((2,3,2))       # creates an array with all ones. by default the array have all integer values\n",
    "\n",
    "print(a.dtype)            # tells us what is the datatype of this array\n",
    "print(type(a))\n",
    "\n",
    "print(b.dtype)            # tells us what is the datatype of this array\n",
    "print(type(b))\n",
    "\n",
    "# Multidimensional Arrays\n",
    "print(np.zeros((2,3)))          # so to create a 2-D array we can give it two arguments in the form of a single tuple that i want the array to be of 2 * 3 size"
   ]
  },
  {
   "cell_type": "code",
   "execution_count": 52,
   "metadata": {},
   "outputs": [
    {
     "name": "stdout",
     "output_type": "stream",
     "text": [
      "[1 0 0 0 0 0 0 0 0 0]\n",
      "[0 0]\n",
      "(2, 3, 2)\n",
      "(10,)\n"
     ]
    }
   ],
   "source": [
    "a[0] = \"1\"\n",
    "print(a)     # a[0] = \"1\" got converted into integer cutomatically\n",
    "# a[0] = \"sa\"    # NOT VALID as string \"sa\" cannot be converted to an integer\n",
    "\n",
    "print(a[2:4])\n",
    "\n",
    "print(b.shape)      # shape is basically the size of the array\n",
    "print(a.shape)      # here the output is (10,) which means that we have 10 rows and 1 column"
   ]
  },
  {
   "cell_type": "code",
   "execution_count": 66,
   "metadata": {},
   "outputs": [
    {
     "name": "stdout",
     "output_type": "stream",
     "text": [
      "[1 2 3]\n",
      "\n",
      "[1 4]\n"
     ]
    }
   ],
   "source": [
    "a = np.array([[1,2,3],[4,5,6]])\n",
    "print(a[0])\n",
    "print()\n",
    "print(a[:,0])         # it means that i want every row because of : sign and only the 0th column. could also do like\n",
    "                      # print(a[:,0:2]) it means that i want all the rows but in columns i want it from 0 to 2 i.e. 0 and 1 as 2 being non-inclusive"
   ]
  },
  {
   "cell_type": "code",
   "execution_count": 70,
   "metadata": {},
   "outputs": [
    {
     "name": "stdout",
     "output_type": "stream",
     "text": [
      "[0 1 2 3 4 5 6 7 8 9]\n"
     ]
    }
   ],
   "source": [
    "print(np.arange(10))"
   ]
  },
  {
   "cell_type": "code",
   "execution_count": 72,
   "metadata": {},
   "outputs": [
    {
     "name": "stdout",
     "output_type": "stream",
     "text": [
      "(4,)\n"
     ]
    }
   ],
   "source": [
    "a = np.array([0, 1, 2, 3])\n",
    "print(a.shape)"
   ]
  },
  {
   "cell_type": "markdown",
   "metadata": {},
   "source": [
    "# Numpy Operations"
   ]
  },
  {
   "cell_type": "code",
   "execution_count": 18,
   "metadata": {},
   "outputs": [
    {
     "name": "stdout",
     "output_type": "stream",
     "text": [
      "[3 4 5]\n",
      "[ 6  8 10]\n",
      "[2 4 6]\n",
      "[ 5 12 21]\n",
      "[1 4 9]\n",
      "[   1   64 2187]\n"
     ]
    }
   ],
   "source": [
    "a = np.array([1,2,3])\n",
    "b = np.array([5,6,7])\n",
    "print(a + 2)       # 2 gets added to every element in the array\n",
    "print(a + b)\n",
    "print(a * 2)\n",
    "print(a * b)\n",
    "print(a ** 2)\n",
    "print(a ** b)      # it means 1 ** 5, 2 ** 6, 3 ** 7"
   ]
  },
  {
   "cell_type": "code",
   "execution_count": 21,
   "metadata": {},
   "outputs": [
    {
     "name": "stdout",
     "output_type": "stream",
     "text": [
      "2.0\n",
      "6\n"
     ]
    }
   ],
   "source": [
    "print(a.mean())     # gives the mean of the array a\n",
    "print(a.sum())      # gives the sum of the array a"
   ]
  },
  {
   "cell_type": "code",
   "execution_count": 27,
   "metadata": {},
   "outputs": [
    {
     "name": "stdout",
     "output_type": "stream",
     "text": [
      "6.928203230275509\n"
     ]
    }
   ],
   "source": [
    "a = np.array([1,2,3])\n",
    "b = np.array([5,6,7])\n",
    "# find the distance between two points using a and b\n",
    "d = ((a - b) ** 2).sum()\n",
    "distance = m.sqrt(d)\n",
    "print(distance)"
   ]
  },
  {
   "cell_type": "code",
   "execution_count": 31,
   "metadata": {},
   "outputs": [
    {
     "name": "stdout",
     "output_type": "stream",
     "text": [
      "14.75\n"
     ]
    }
   ],
   "source": [
    "x = np.array([1,3,5,6])\n",
    "xFromMean = ((x-x.mean())**2).sum()\n",
    "print(xFromMean)"
   ]
  },
  {
   "cell_type": "code",
   "execution_count": 34,
   "metadata": {},
   "outputs": [
    {
     "data": {
      "text/plain": [
       "array([[ 70, 100],\n",
       "       [150, 220]])"
      ]
     },
     "execution_count": 34,
     "metadata": {},
     "output_type": "execute_result"
    }
   ],
   "source": [
    "a1 = np.array([[1,2],[3,4]])\n",
    "a2 = np.array([[10,20],[30,40]])\n",
    "\n",
    "a1.dot(a2)          # dot product of a1 and a2"
   ]
  },
  {
   "cell_type": "code",
   "execution_count": 38,
   "metadata": {},
   "outputs": [],
   "source": [
    "# np.mat()    # matrices classes in numpy. almost like 2-D Arrays. numpy matrices are actually a subclass of numpy arrays and they are strictly 2-D\n",
    "# so if two numpy matrices a and b are there then doing a * b is actually going to take their product rather than normal multiplication"
   ]
  },
  {
   "cell_type": "code",
   "execution_count": 47,
   "metadata": {},
   "outputs": [
    {
     "data": {
      "text/plain": [
       "26"
      ]
     },
     "execution_count": 47,
     "metadata": {},
     "output_type": "execute_result"
    }
   ],
   "source": [
    "a = np.array([0, 1, 2, 3])\n",
    "b = np.array([2, 3, 4, 5])\n",
    "a.dot(b)"
   ]
  },
  {
   "cell_type": "code",
   "execution_count": 48,
   "metadata": {},
   "outputs": [
    {
     "data": {
      "text/plain": [
       "(2, 3)"
      ]
     },
     "execution_count": 48,
     "metadata": {},
     "output_type": "execute_result"
    }
   ],
   "source": [
    "a = np.matrix('1 2 4; 3 4 5')\n",
    "a.shape"
   ]
  },
  {
   "cell_type": "code",
   "execution_count": 59,
   "metadata": {},
   "outputs": [
    {
     "data": {
      "text/plain": [
       "array([1, 5])"
      ]
     },
     "execution_count": 59,
     "metadata": {},
     "output_type": "execute_result"
    }
   ],
   "source": [
    "np.sum([[0, 1], [0, 5]], axis=1)   \n",
    "# axis = 0 means that the sum will be calculated along the column and axis = 1 means the sum will be calculated along the row"
   ]
  },
  {
   "cell_type": "code",
   "execution_count": 24,
   "metadata": {},
   "outputs": [
    {
     "name": "stdout",
     "output_type": "stream",
     "text": [
      "2 3\n",
      "1 2 3 4 5 6\n",
      "[[1, 2, 3], [4, 5, 6]]\n",
      "1 2 3 6 5 4 "
     ]
    }
   ],
   "source": [
    "string = input().strip().split(\" \")\n",
    "n = int(string[0])\n",
    "m = int(string[1])\n",
    "l = [int(i) for i in input().strip().split(\" \")]\n",
    "array = [[l[i * m + j] for j in range(m)] for i in range(n)]\n",
    "print(array)\n",
    "startIndexRow = 0\n",
    "endIndexRow = n-1\n",
    "startIndexCol = 0\n",
    "endIndexCol = m-1\n",
    "c = 1\n",
    "totalElements = n * m\n",
    "while c <= totalElements:\n",
    "    for j in range(startIndexCol,endIndexCol + 1):\n",
    "        if c <= totalElements:\n",
    "            print(array[startIndexRow][j], end = \" \")\n",
    "            c += 1\n",
    "    startIndexRow += 1\n",
    "    \n",
    "    \n",
    "    for i in range(startIndexRow,endIndexRow + 1):\n",
    "        if c <= totalElements:\n",
    "            print(array[i][endIndexCol], end = \" \")\n",
    "            c += 1\n",
    "    endIndexCol -= 1\n",
    "    \n",
    "    \n",
    "    for j in range(endIndexCol,startIndexCol - 1,-1):\n",
    "        if c <= totalElements:\n",
    "            print(array[endIndexRow][j], end = \" \")\n",
    "            c += 1\n",
    "    endIndexRow -= 1\n",
    "    \n",
    "    \n",
    "    for i in range(endIndexRow,startIndexRow - 1,-1):\n",
    "        if c <= totalElements:\n",
    "            print(array[i][startIndexCol], end = \" \")\n",
    "            c += 1\n",
    "    startIndexCol += 1"
   ]
  },
  {
   "cell_type": "code",
   "execution_count": 31,
   "metadata": {},
   "outputs": [
    {
     "name": "stdout",
     "output_type": "stream",
     "text": [
      "4 5 1 2 3 4 5 6 7 8 9 10 11 12 13 14 15 16 17 18 19 20\n",
      "[[1, 2, 3, 4, 5], [6, 7, 8, 9, 10], [11, 12, 13, 14, 15], [16, 17, 18, 19, 20]]\n",
      "1 2 3 4 5 10 15 20 19 18 17 16 11 6 7 8 9 14 13 12 "
     ]
    }
   ],
   "source": [
    "string = input().strip().split(\" \")\n",
    "l = [int(i) for i in string]\n",
    "l = l[2:]\n",
    "n = int(string[0])\n",
    "m = int(string[1])\n",
    "array = [[l[i * m + j] for j in range(m)] for i in range(n)]\n",
    "print(array)\n",
    "startIndexRow = 0\n",
    "endIndexRow = n-1\n",
    "startIndexCol = 0\n",
    "endIndexCol = m-1\n",
    "c = 1\n",
    "totalElements = n * m\n",
    "while c <= totalElements:\n",
    "    for j in range(startIndexCol,endIndexCol + 1):\n",
    "        if c <= totalElements:\n",
    "            print(array[startIndexRow][j], end = \" \")\n",
    "            c += 1\n",
    "    startIndexRow += 1\n",
    "    \n",
    "    \n",
    "    for i in range(startIndexRow,endIndexRow + 1):\n",
    "        if c <= totalElements:\n",
    "            print(array[i][endIndexCol], end = \" \")\n",
    "            c += 1\n",
    "    endIndexCol -= 1\n",
    "    \n",
    "    \n",
    "    for j in range(endIndexCol,startIndexCol - 1,-1):\n",
    "        if c <= totalElements:\n",
    "            print(array[endIndexRow][j], end = \" \")\n",
    "            c += 1\n",
    "    endIndexRow -= 1\n",
    "    \n",
    "    \n",
    "    for i in range(endIndexRow,startIndexRow - 1,-1):\n",
    "        if c <= totalElements:\n",
    "            print(array[i][startIndexCol], end = \" \")\n",
    "            c += 1\n",
    "    startIndexCol += 1"
   ]
  },
  {
   "cell_type": "code",
   "execution_count": 7,
   "metadata": {},
   "outputs": [
    {
     "name": "stdout",
     "output_type": "stream",
     "text": [
      "[[1 2 3 4 5]\n",
      " [5 4 2 3 1]]\n"
     ]
    },
    {
     "ename": "IndexError",
     "evalue": "index 5 is out of bounds for axis 0 with size 2",
     "output_type": "error",
     "traceback": [
      "\u001b[1;31m---------------------------------------------------------------------------\u001b[0m",
      "\u001b[1;31mIndexError\u001b[0m                                Traceback (most recent call last)",
      "\u001b[1;32m<ipython-input-7-0f0189296fb8>\u001b[0m in \u001b[0;36m<module>\u001b[1;34m\u001b[0m\n\u001b[0;32m      1\u001b[0m \u001b[0ma\u001b[0m \u001b[1;33m=\u001b[0m \u001b[0mnp\u001b[0m\u001b[1;33m.\u001b[0m\u001b[0marray\u001b[0m\u001b[1;33m(\u001b[0m\u001b[1;33m[\u001b[0m\u001b[1;33m[\u001b[0m\u001b[1;36m1\u001b[0m\u001b[1;33m,\u001b[0m\u001b[1;36m2\u001b[0m\u001b[1;33m,\u001b[0m\u001b[1;36m3\u001b[0m\u001b[1;33m,\u001b[0m\u001b[1;36m4\u001b[0m\u001b[1;33m,\u001b[0m\u001b[1;36m5\u001b[0m\u001b[1;33m]\u001b[0m\u001b[1;33m,\u001b[0m\u001b[1;33m[\u001b[0m\u001b[1;36m5\u001b[0m\u001b[1;33m,\u001b[0m\u001b[1;36m4\u001b[0m\u001b[1;33m,\u001b[0m\u001b[1;36m2\u001b[0m\u001b[1;33m,\u001b[0m\u001b[1;36m3\u001b[0m\u001b[1;33m,\u001b[0m\u001b[1;36m1\u001b[0m\u001b[1;33m]\u001b[0m\u001b[1;33m]\u001b[0m\u001b[1;33m)\u001b[0m\u001b[1;33m\u001b[0m\u001b[1;33m\u001b[0m\u001b[0m\n\u001b[0;32m      2\u001b[0m \u001b[0mprint\u001b[0m\u001b[1;33m(\u001b[0m\u001b[0ma\u001b[0m\u001b[1;33m)\u001b[0m\u001b[1;33m\u001b[0m\u001b[1;33m\u001b[0m\u001b[0m\n\u001b[1;32m----> 3\u001b[1;33m \u001b[0ma\u001b[0m\u001b[1;33m[\u001b[0m\u001b[1;36m5\u001b[0m\u001b[1;33m]\u001b[0m \u001b[1;33m=\u001b[0m \u001b[1;36m1\u001b[0m\u001b[1;33m\u001b[0m\u001b[1;33m\u001b[0m\u001b[0m\n\u001b[0m\u001b[0;32m      4\u001b[0m \u001b[0ma\u001b[0m\u001b[1;33m.\u001b[0m\u001b[0mshape\u001b[0m\u001b[1;33m\u001b[0m\u001b[1;33m\u001b[0m\u001b[0m\n",
      "\u001b[1;31mIndexError\u001b[0m: index 5 is out of bounds for axis 0 with size 2"
     ]
    }
   ],
   "source": [
    "a = np.array([[1,2,3,4,5],[5,4,2,3,1]])\n",
    "print(a)\n",
    "a[5] = 1"
   ]
  },
  {
   "cell_type": "code",
   "execution_count": null,
   "metadata": {},
   "outputs": [],
   "source": []
  }
 ],
 "metadata": {
  "kernelspec": {
   "display_name": "Python 3",
   "language": "python",
   "name": "python3"
  },
  "language_info": {
   "codemirror_mode": {
    "name": "ipython",
    "version": 3
   },
   "file_extension": ".py",
   "mimetype": "text/x-python",
   "name": "python",
   "nbconvert_exporter": "python",
   "pygments_lexer": "ipython3",
   "version": "3.7.3"
  }
 },
 "nbformat": 4,
 "nbformat_minor": 2
}
