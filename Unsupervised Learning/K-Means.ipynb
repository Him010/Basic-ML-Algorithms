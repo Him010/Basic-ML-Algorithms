{
 "cells": [
  {
   "cell_type": "code",
   "execution_count": 1,
   "metadata": {},
   "outputs": [],
   "source": [
    "import numpy as np\n",
    "import matplotlib.pyplot as plt"
   ]
  },
  {
   "cell_type": "code",
   "execution_count": 2,
   "metadata": {},
   "outputs": [],
   "source": [
    "X = np.array([[1,2],[1.5,1.8],[5,8],[7,8],[1,0.6],[9,11],[2,2],[6,6],[10,11],[11,10]])"
   ]
  },
  {
   "cell_type": "code",
   "execution_count": 3,
   "metadata": {},
   "outputs": [
    {
     "data": {
      "image/png": "[encoded data removed]",
      "text/plain": [
       "<Figure size 432x288 with 1 Axes>"
      ]
     },
     "metadata": {
      "needs_background": "light"
     },
     "output_type": "display_data"
    }
   ],
   "source": [
    "plt.scatter(X[:,0],X[:,1])\n",
    "plt.show()"
   ]
  },
  {
   "cell_type": "code",
   "execution_count": 20,
   "metadata": {},
   "outputs": [],
   "source": [
    "def fit(data,k=2,max_iter = 100):\n",
    "    means = []\n",
    "    #randomly initialise the means\n",
    "    for i in range(k):\n",
    "        means.append(data[i])\n",
    "    for i in range(max_iter):\n",
    "        #assign data points to cluster they belong to\n",
    "        #create empty clusters\n",
    "        clusters =[]\n",
    "        for j in range(k):\n",
    "            clusters.append([])\n",
    "        for point in data:\n",
    "            #find distance to all mean values\n",
    "            distances = [((point-m)**2).sum() for m in means]\n",
    "            #find min distance\n",
    "            minDistance = min(distances)\n",
    "            #find mean for which we got min disatnce->l\n",
    "            l = distances.index(minDistance)\n",
    "            #add this point to cluster l\n",
    "            clusters[l].append(point)\n",
    "            \n",
    "        #calculate new mean value\n",
    "        change = False\n",
    "        for j in range(k):\n",
    "            new_mean = np.average(clusters[j],axis = 0)\n",
    "            if not np.array_equal(means[j],new_mean):\n",
    "                change = True\n",
    "            means[j] = new_mean\n",
    "        if not change:\n",
    "            break\n",
    "    return means"
   ]
  },
  {
   "cell_type": "code",
   "execution_count": 23,
   "metadata": {},
   "outputs": [],
   "source": [
    "def predict(test_data,means):\n",
    "    predictions = []\n",
    "    for point in test_data:\n",
    "        #find distance to all mean values\n",
    "        distances = [((point-m)**2).sum() for m in means]\n",
    "        #find min distance\n",
    "        minDistance = min(distances)\n",
    "        #find mean for which we got min disatnce->l\n",
    "        l = distances.index(minDistance)\n",
    "        #add this point to cluster l\n",
    "        predictions.append(l)\n",
    "    return predictions"
   ]
  },
  {
   "cell_type": "code",
   "execution_count": 24,
   "metadata": {},
   "outputs": [],
   "source": [
    "means = fit(X,2)"
   ]
  },
  {
   "cell_type": "code",
   "execution_count": 25,
   "metadata": {},
   "outputs": [
    {
     "data": {
      "text/plain": [
       "[0, 0, 1, 1, 0, 1, 0, 1, 1, 1]"
      ]
     },
     "execution_count": 25,
     "metadata": {},
     "output_type": "execute_result"
    }
   ],
   "source": [
    "predict(X,means)"
   ]
  },
  {
   "cell_type": "code",
   "execution_count": 37,
   "metadata": {},
   "outputs": [],
   "source": [
    "class K_Means:\n",
    "    \n",
    "    def __init__(self,k=2,max_iter=100):\n",
    "        print(\"constructor\")\n",
    "        self.k=k\n",
    "        self.max_iter = max_iter\n",
    "        \n",
    "    def fit(self,data,k=2,max_iter = 100):\n",
    "        self.means = []\n",
    "        #randomly initialise the means\n",
    "        for i in range(k):\n",
    "            self.means.append(data[i])\n",
    "        for i in range(max_iter):\n",
    "            #assign data points to cluster they belong to\n",
    "            #create empty clusters\n",
    "            clusters =[]\n",
    "            for j in range(k):\n",
    "                clusters.append([])\n",
    "            for point in data:\n",
    "                #find distance to all mean values\n",
    "                distances = [((point-m)**2).sum() for m in self.means]\n",
    "                #find min distance\n",
    "                minDistance = min(distances)\n",
    "                #find mean for which we got min disatnce->l\n",
    "                l = distances.index(minDistance)\n",
    "                #add this point to cluster l\n",
    "                clusters[l].append(point)\n",
    "            \n",
    "            #calculate new mean value\n",
    "            change = False\n",
    "            for j in range(k):\n",
    "                new_mean = np.average(clusters[j],axis = 0)\n",
    "                if not np.array_equal(self.means[j],new_mean):\n",
    "                    change = True\n",
    "                self.means[j] = new_mean\n",
    "            if not change:\n",
    "                break\n",
    "    \n",
    "    def predict(self,test_data):\n",
    "        predictions = []\n",
    "        for point in test_data:\n",
    "            #find distance to all mean values\n",
    "            distances = [((point-m)**2).sum() for m in self.means]\n",
    "            #find min distance\n",
    "            minDistance = min(distances)\n",
    "            #find mean for which we got min disatnce->l\n",
    "            l = distances.index(minDistance)\n",
    "            #add this point to cluster l\n",
    "            predictions.append(l)\n",
    "        return predictions"
   ]
  },
  {
   "cell_type": "code",
   "execution_count": 38,
   "metadata": {},
   "outputs": [
    {
     "name": "stdout",
     "output_type": "stream",
     "text": [
      "constructor\n"
     ]
    }
   ],
   "source": [
    "kmeans = K_Means()"
   ]
  },
  {
   "cell_type": "code",
   "execution_count": 39,
   "metadata": {},
   "outputs": [],
   "source": [
    "kmeans.fit(X)"
   ]
  },
  {
   "cell_type": "code",
   "execution_count": 40,
   "metadata": {},
   "outputs": [
    {
     "data": {
      "text/plain": [
       "[0, 0, 1, 1, 0, 1, 0, 1, 1, 1]"
      ]
     },
     "execution_count": 40,
     "metadata": {},
     "output_type": "execute_result"
    }
   ],
   "source": [
    "kmeans.predict(X)"
   ]
  },
  {
   "cell_type": "code",
   "execution_count": null,
   "metadata": {},
   "outputs": [],
   "source": []
  }
 ],
 "metadata": {
  "kernelspec": {
   "display_name": "Python 3",
   "language": "python",
   "name": "python3"
  },
  "language_info": {
   "codemirror_mode": {
    "name": "ipython",
    "version": 3
   },
   "file_extension": ".py",
   "mimetype": "text/x-python",
   "name": "python",
   "nbconvert_exporter": "python",
   "pygments_lexer": "ipython3",
   "version": "3.7.4"
  }
 },
 "nbformat": 4,
 "nbformat_minor": 2
}
