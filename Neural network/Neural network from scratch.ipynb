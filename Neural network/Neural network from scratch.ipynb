{
 "cells": [
  {
   "cell_type": "code",
   "execution_count": 1,
   "metadata": {},
   "outputs": [],
   "source": [
    "import numpy as np"
   ]
  },
  {
   "cell_type": "code",
   "execution_count": 2,
   "metadata": {},
   "outputs": [
    {
     "data": {
      "text/plain": [
       "((4, 2), (4, 1))"
      ]
     },
     "execution_count": 2,
     "metadata": {},
     "output_type": "execute_result"
    }
   ],
   "source": [
    "X = np.array([[0,0],[0,1],[1,0],[1,1]])\n",
    "Y = np.array([[0,0,0,1]]).T\n",
    "X.shape,Y.shape"
   ]
  },
  {
   "cell_type": "code",
   "execution_count": 3,
   "metadata": {},
   "outputs": [],
   "source": [
    "def sigmoid(z):\n",
    "    return 1/(1+np.exp(-z))"
   ]
  },
  {
   "cell_type": "code",
   "execution_count": 4,
   "metadata": {},
   "outputs": [],
   "source": [
    "def deriveSig(z):\n",
    "    return sigmoid(z) * (1-sigmoid(z))"
   ]
  },
  {
   "cell_type": "markdown",
   "metadata": {},
   "source": [
    "# Forward Propagation without Hidden Layer"
   ]
  },
  {
   "cell_type": "code",
   "execution_count": 5,
   "metadata": {},
   "outputs": [
    {
     "data": {
      "text/plain": [
       "(array([[-0.80785379],\n",
       "        [-0.88398097]]), array([0.30025405]))"
      ]
     },
     "execution_count": 5,
     "metadata": {},
     "output_type": "execute_result"
    }
   ],
   "source": [
    "#no hidden layer weights\n",
    "weights = 2*np.random.random((2,1))-1\n",
    "bias = 2*np.random.random(1)-1\n",
    "lr = 0.1\n",
    "weights,bias"
   ]
  },
  {
   "cell_type": "code",
   "execution_count": 6,
   "metadata": {},
   "outputs": [],
   "source": [
    "#forward propagation without any hidden layer\n",
    "output0 = X\n",
    "output = sigmoid(np.dot(output0,weights)+bias)"
   ]
  },
  {
   "cell_type": "markdown",
   "metadata": {},
   "source": [
    "# Backward Propagation"
   ]
  },
  {
   "cell_type": "code",
   "execution_count": 7,
   "metadata": {},
   "outputs": [
    {
     "data": {
      "text/plain": [
       "(array([[8.61991797],\n",
       "        [8.67019961]]), array([-12.73924087]), array([[2.93370683e-06],\n",
       "        [1.68064829e-02],\n",
       "        [1.59955022e-02],\n",
       "        [9.89552361e-01]]))"
      ]
     },
     "execution_count": 7,
     "metadata": {},
     "output_type": "execute_result"
    }
   ],
   "source": [
    "#forward propagation without any hidden layer\n",
    "output0 = X\n",
    "output = sigmoid(np.dot(output0,weights)+bias)\n",
    "\n",
    "#Back Propagation using Gradient descent\n",
    "for i in range(10000):\n",
    "    first_term = output-Y\n",
    "    input_last_layer = np.dot(output0,weights)+bias\n",
    "    second_term = deriveSig(input_last_layer)\n",
    "    first_two = first_term * second_term\n",
    "\n",
    "    changes = np.array([[0.0],[0.0]])\n",
    "\n",
    "    for i in range(2):\n",
    "        for j in range(4):\n",
    "            changes[i][0] += first_two[j][0]*output0[j][i]\n",
    "\n",
    "    weights -= lr*changes \n",
    "    bias_changes = 0.0\n",
    "    for j in range(4):\n",
    "        bias_changes += first_two[j][0]*1\n",
    "\n",
    "    bias -= lr*bias_changes\n",
    "\n",
    "output = sigmoid(np.dot(X,weights)+bias)\n",
    "weights,bias,output"
   ]
  },
  {
   "cell_type": "code",
   "execution_count": 8,
   "metadata": {},
   "outputs": [
    {
     "data": {
      "text/plain": [
       "(array([[8.55367266],\n",
       "        [8.58477193]]), array([-13.0314487]), array([[2.19034632e-06],\n",
       "        [1.15817338e-02],\n",
       "        [1.12310764e-02],\n",
       "        [9.83809313e-01]]))"
      ]
     },
     "execution_count": 8,
     "metadata": {},
     "output_type": "execute_result"
    }
   ],
   "source": [
    "#forward propagation without any hidden layer\n",
    "output0 = X\n",
    "output = sigmoid(np.dot(output0,weights)+bias)\n",
    "\n",
    "#Back Propagation using Gradient descent(optimised)\n",
    "for i in range(10000):\n",
    "    first_term = output-Y\n",
    "    input_last_layer = np.dot(output0,weights)+bias\n",
    "    second_term = deriveSig(input_last_layer)\n",
    "    first_two = first_term * second_term\n",
    "\n",
    "    changes = np.array([[0.0],[0.0]])\n",
    "\n",
    "    changes = output0.T.dot(first_two)\n",
    "    weights -= lr*changes \n",
    "    bias_changes = 0.0\n",
    "\n",
    "    bias_changes = first_two.sum()\n",
    "\n",
    "    bias -= lr*bias_changes\n",
    "\n",
    "output = sigmoid(np.dot(X,weights)+bias)\n",
    "weights,bias,output"
   ]
  },
  {
   "cell_type": "markdown",
   "metadata": {},
   "source": [
    "# Forward Propagation with hidden layer"
   ]
  },
  {
   "cell_type": "code",
   "execution_count": 23,
   "metadata": {},
   "outputs": [
    {
     "data": {
      "text/plain": [
       "((4, 2), (4, 1))"
      ]
     },
     "execution_count": 23,
     "metadata": {},
     "output_type": "execute_result"
    }
   ],
   "source": [
    "X = np.array([[0,0],[0,1],[1,0],[1,1]])\n",
    "Y = np.array([[0,1,1,0]]).T\n",
    "X.shape,Y.shape"
   ]
  },
  {
   "cell_type": "code",
   "execution_count": 24,
   "metadata": {},
   "outputs": [],
   "source": [
    "wh = 2*np.random.random((2,2))-1\n",
    "bh = 2*np.random.random((1,2))-1\n",
    "wo = 2*np.random.random((2,1))-1\n",
    "bo = 2*np.random.random((1,1))-1\n",
    "lr = 0.1"
   ]
  },
  {
   "cell_type": "code",
   "execution_count": 25,
   "metadata": {},
   "outputs": [
    {
     "data": {
      "text/plain": [
       "array([[0.51343322],\n",
       "       [0.49053515],\n",
       "       [0.48609488],\n",
       "       [0.46316164]])"
      ]
     },
     "execution_count": 25,
     "metadata": {},
     "output_type": "execute_result"
    }
   ],
   "source": [
    "output0 = X\n",
    "outputHidden = sigmoid(np.dot(output0,wh)+bh)\n",
    "output = sigmoid(np.dot(outputHidden,wo)+bo)\n",
    "\n",
    "#first_term = outputHidden\n",
    "output"
   ]
  },
  {
   "cell_type": "markdown",
   "metadata": {},
   "source": [
    "# Backward Propagation"
   ]
  },
  {
   "cell_type": "code",
   "execution_count": 26,
   "metadata": {},
   "outputs": [
    {
     "data": {
      "text/plain": [
       "(array([[0.07905139],\n",
       "        [0.93229502],\n",
       "        [0.93229442],\n",
       "        [0.06807092]]), array([[4.36942575, 4.88219012],\n",
       "        [4.35427161, 4.85978784]]), array([[-6.75204801, -2.07003465]]), array([[-7.08758752],\n",
       "        [ 6.81891807]]), array([[-3.21105008]]))"
      ]
     },
     "execution_count": 26,
     "metadata": {},
     "output_type": "execute_result"
    }
   ],
   "source": [
    "for i in range(10000):\n",
    "    output0 = X\n",
    "    inputHidden = np.dot(output0,wh)+bh\n",
    "    outputHidden = sigmoid(inputHidden)\n",
    "    inputForOutputLayer = np.dot(outputHidden,wo)+bo\n",
    "    output = sigmoid(inputForOutputLayer)\n",
    "\n",
    "    first_term_Output_layer = output-Y\n",
    "    second_term_Output_layer = deriveSig(inputForOutputLayer)\n",
    "    first_two_Output_layer = first_term_Output_layer*second_term_Output_layer\n",
    "\n",
    "    first_term_hidden_layer = np.dot(first_two_Output_layer,wo.T)\n",
    "    second_term_hidden_layer = deriveSig(inputHidden)\n",
    "    first_two_hidden_layer = first_term_hidden_layer*second_term_hidden_layer\n",
    "\n",
    "    changes_output_layer = np.dot(outputHidden.T,first_two_Output_layer)\n",
    "    changes_output_bias = np.sum(first_two_Output_layer,axis = 0,keepdims = True)\n",
    "\n",
    "    changes_hidden_layer = np.dot(output0.T,first_two_hidden_layer)\n",
    "    changes_hidden_bias = np.sum(first_two_hidden_layer,axis = 0,keepdims = True)\n",
    "\n",
    "    wo = wo-lr*changes_output_layer\n",
    "    bo = bo-lr*changes_output_bias\n",
    "\n",
    "    wh = wh-lr*changes_hidden_layer\n",
    "    bh = bh-lr*changes_hidden_bias\n",
    "    \n",
    "output0 = X\n",
    "inputHidden = np.dot(output0,wh)+bh\n",
    "outputHidden = sigmoid(inputHidden)\n",
    "inputForOutputLayer = np.dot(outputHidden,wo)+bo\n",
    "output = sigmoid(inputForOutputLayer)\n",
    "\n",
    "output,wh,bh,wo,bo"
   ]
  },
  {
   "cell_type": "code",
   "execution_count": null,
   "metadata": {},
   "outputs": [],
   "source": []
  }
 ],
 "metadata": {
  "kernelspec": {
   "display_name": "Python 3",
   "language": "python",
   "name": "python3"
  },
  "language_info": {
   "codemirror_mode": {
    "name": "ipython",
    "version": 3
   },
   "file_extension": ".py",
   "mimetype": "text/x-python",
   "name": "python",
   "nbconvert_exporter": "python",
   "pygments_lexer": "ipython3",
   "version": "3.7.3"
  }
 },
 "nbformat": 4,
 "nbformat_minor": 2
}
