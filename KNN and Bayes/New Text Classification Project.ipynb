{
 "cells": [
  {
   "cell_type": "markdown",
   "metadata": {},
   "source": [
    "## Making dictionary of words.."
   ]
  },
  {
   "cell_type": "code",
   "execution_count": 15,
   "metadata": {},
   "outputs": [],
   "source": [
    "import os"
   ]
  },
  {
   "cell_type": "code",
   "execution_count": 16,
   "metadata": {},
   "outputs": [],
   "source": [
    "dictionary= {}"
   ]
  },
  {
   "cell_type": "code",
   "execution_count": 17,
   "metadata": {},
   "outputs": [],
   "source": [
    "# list of stop words\n",
    "\n",
    "stop_words = [\"a\", \"about\", \"above\", \"after\", \"again\", \"against\", \"ain\", \"all\", \"am\", \"an\", \"and\", \"any\", \"are\", \"aren\", \"aren't\", \"as\", \"at\", \"be\", \"because\", \"been\", \"before\", \"being\", \"below\", \"between\", \"both\", \"but\", \"by\", \"can\", \"couldn\", \"couldn't\", \"d\", \"did\", \"didn\", \"didn't\", \"do\", \"does\", \"doesn\", \"doesn't\", \"doing\", \"don\", \"don't\", \"down\", \"during\", \"each\", \"few\", \"for\", \"from\", \"further\", \"had\", \"hadn\", \"hadn't\", \"has\", \"hasn\", \"hasn't\", \"have\", \"haven\", \"haven't\", \"having\", \"he\", \"her\", \"here\", \"hers\", \"herself\", \"him\", \"himself\", \"his\", \"how\", \"i\", \"if\", \"in\", \"into\", \"is\", \"isn\", \"isn't\", \"it\", \"it's\", \"its\", \"itself\", \"just\", \"ll\", \"m\", \"ma\", \"me\", \"mightn\", \"mightn't\", \"more\", \"most\", \"mustn\", \"mustn't\", \"my\", \"myself\", \"needn\", \"needn't\", \"no\", \"nor\", \"not\", \"now\", \"o\", \"of\", \"off\", \"on\", \"once\", \"only\", \"or\", \"other\", \"our\", \"ours\", \"ourselves\", \"out\", \"over\", \"own\", \"re\", \"s\", \"same\", \"shan\", \"shan't\", \"she\", \"she's\", \"should\", \"should've\", \"shouldn\", \"shouldn't\", \"so\", \"some\", \"such\", \"t\", \"than\", \"that\", \"that'll\", \"the\", \"their\", \"theirs\", \"them\", \"themselves\", \"then\", \"there\", \"these\", \"they\", \"this\", \"those\", \"through\", \"to\", \"too\", \"under\", \"until\", \"up\", \"ve\", \"very\", \"was\", \"wasn\", \"wasn't\", \"we\", \"were\", \"weren\", \"weren't\", \"what\", \"when\", \"where\", \"which\", \"while\", \"who\", \"whom\", \"why\", \"will\", \"with\", \"won\", \"won't\", \"wouldn\", \"wouldn't\", \"y\", \"you\", \"you'd\", \"you'll\", \"you're\", \"you've\", \"your\", \"yours\", \"yourself\", \"yourselves\", \"could\", \"he'd\", \"he'll\", \"he's\", \"here's\", \"how's\", \"i'd\", \"i'll\", \"i'm\", \"i've\", \"let's\", \"ought\", \"she'd\", \"she'll\", \"that's\", \"there's\", \"they'd\", \"they'll\", \"they're\", \"they've\", \"we'd\", \"we'll\", \"we're\", \"we've\", \"what's\", \"when's\", \"where's\", \"who's\", \"why's\", \"would\", \"able\", \"abst\", \"accordance\", \"according\", \"accordingly\", \"across\", \"act\", \"actually\", \"added\", \"adj\", \"affected\", \"affecting\", \"affects\", \"afterwards\", \"ah\", \"almost\", \"alone\", \"along\", \"already\", \"also\", \"although\", \"always\", \"among\", \"amongst\", \"announce\", \"another\", \"anybody\", \"anyhow\", \"anymore\", \"anyone\", \"anything\", \"anyway\", \"anyways\", \"anywhere\", \"apparently\", \"approximately\", \"arent\", \"arise\", \"around\", \"aside\", \"ask\", \"asking\", \"auth\", \"available\", \"away\", \"awfully\", \"b\", \"back\", \"became\", \"become\", \"becomes\", \"becoming\", \"beforehand\", \"begin\", \"beginning\", \"beginnings\", \"begins\", \"behind\", \"believe\", \"beside\", \"besides\", \"beyond\", \"biol\", \"brief\", \"briefly\", \"c\", \"ca\", \"came\", \"cannot\", \"can't\", \"cause\", \"causes\", \"certain\", \"certainly\", \"co\", \"com\", \"come\", \"comes\", \"contain\", \"containing\", \"contains\", \"couldnt\", \"date\", \"different\", \"done\", \"downwards\", \"due\", \"e\", \"ed\", \"edu\", \"effect\", \"eg\", \"eight\", \"eighty\", \"either\", \"else\", \"elsewhere\", \"end\", \"ending\", \"enough\", \"especially\", \"et\", \"etc\", \"even\", \"ever\", \"every\", \"everybody\", \"everyone\", \"everything\", \"everywhere\", \"ex\", \"except\", \"f\", \"far\", \"ff\", \"fifth\", \"first\", \"five\", \"fix\", \"followed\", \"following\", \"follows\", \"former\", \"formerly\", \"forth\", \"found\", \"four\", \"furthermore\", \"g\", \"gave\", \"get\", \"gets\", \"getting\", \"give\", \"given\", \"gives\", \"giving\", \"go\", \"goes\", \"gone\", \"got\", \"gotten\", \"h\", \"happens\", \"hardly\", \"hed\", \"hence\", \"hereafter\", \"hereby\", \"herein\", \"heres\", \"hereupon\", \"hes\", \"hi\", \"hid\", \"hither\", \"home\", \"howbeit\", \"however\", \"hundred\", \"id\", \"ie\", \"im\", \"immediate\", \"immediately\", \"importance\", \"important\", \"inc\", \"indeed\", \"index\", \"information\", \"instead\", \"invention\", \"inward\", \"itd\", \"it'll\", \"j\", \"k\", \"keep\", \"keeps\", \"kept\", \"kg\", \"km\", \"know\", \"known\", \"knows\", \"l\", \"largely\", \"last\", \"lately\", \"later\", \"latter\", \"latterly\", \"least\", \"less\", \"lest\", \"let\", \"lets\", \"like\", \"liked\", \"likely\", \"line\", \"little\", \"'ll\", \"look\", \"looking\", \"looks\", \"ltd\", \"made\", \"mainly\", \"make\", \"makes\", \"many\", \"may\", \"maybe\", \"mean\", \"means\", \"meantime\", \"meanwhile\", \"merely\", \"mg\", \"might\", \"million\", \"miss\", \"ml\", \"moreover\", \"mostly\", \"mr\", \"mrs\", \"much\", \"mug\", \"must\", \"n\", \"na\", \"name\", \"namely\", \"nay\", \"nd\", \"near\", \"nearly\", \"necessarily\", \"necessary\", \"need\", \"needs\", \"neither\", \"never\", \"nevertheless\", \"new\", \"next\", \"nine\", \"ninety\", \"nobody\", \"non\", \"none\", \"nonetheless\", \"noone\", \"normally\", \"nos\", \"noted\", \"nothing\", \"nowhere\", \"obtain\", \"obtained\", \"obviously\", \"often\", \"oh\", \"ok\", \"okay\", \"old\", \"omitted\", \"one\", \"ones\", \"onto\", \"ord\", \"others\", \"otherwise\", \"outside\", \"overall\", \"owing\", \"p\", \"page\", \"pages\", \"part\", \"particular\", \"particularly\", \"past\", \"per\", \"perhaps\", \"placed\", \"please\", \"plus\", \"poorly\", \"possible\", \"possibly\", \"potentially\", \"pp\", \"predominantly\", \"present\", \"previously\", \"primarily\", \"probably\", \"promptly\", \"proud\", \"provides\", \"put\", \"q\", \"que\", \"quickly\", \"quite\", \"qv\", \"r\", \"ran\", \"rather\", \"rd\", \"readily\", \"really\", \"recent\", \"recently\", \"ref\", \"refs\", \"regarding\", \"regardless\", \"regards\", \"related\", \"relatively\", \"research\", \"respectively\", \"resulted\", \"resulting\", \"results\", \"right\", \"run\", \"said\", \"saw\", \"say\", \"saying\", \"says\", \"sec\", \"section\", \"see\", \"seeing\", \"seem\", \"seemed\", \"seeming\", \"seems\", \"seen\", \"self\", \"selves\", \"sent\", \"seven\", \"several\", \"shall\", \"shed\", \"shes\", \"show\", \"showed\", \"shown\", \"showns\", \"shows\", \"significant\", \"significantly\", \"similar\", \"similarly\", \"since\", \"six\", \"slightly\", \"somebody\", \"somehow\", \"someone\", \"somethan\", \"something\", \"sometime\", \"sometimes\", \"somewhat\", \"somewhere\", \"soon\", \"sorry\", \"specifically\", \"specified\", \"specify\", \"specifying\", \"still\", \"stop\", \"strongly\", \"sub\", \"substantially\", \"successfully\", \"sufficiently\", \"suggest\", \"sup\", \"sure\", \"take\", \"taken\", \"taking\", \"tell\", \"tends\", \"th\", \"thank\", \"thanks\", \"thanx\", \"thats\", \"that've\", \"thence\", \"thereafter\", \"thereby\", \"thered\", \"therefore\", \"therein\", \"there'll\", \"thereof\", \"therere\", \"theres\", \"thereto\", \"thereupon\", \"there've\", \"theyd\", \"theyre\", \"think\", \"thou\", \"though\", \"thoughh\", \"thousand\", \"throug\", \"throughout\", \"thru\", \"thus\", \"til\", \"tip\", \"together\", \"took\", \"toward\", \"towards\", \"tried\", \"tries\", \"truly\", \"try\", \"trying\", \"ts\", \"twice\", \"two\", \"u\", \"un\", \"unfortunately\", \"unless\", \"unlike\", \"unlikely\", \"unto\", \"upon\", \"ups\", \"us\", \"use\", \"used\", \"useful\", \"usefully\", \"usefulness\", \"uses\", \"using\", \"usually\", \"v\", \"value\", \"various\", \"'ve\", \"via\", \"viz\", \"vol\", \"vols\", \"vs\", \"w\", \"want\", \"wants\", \"wasnt\", \"way\", \"wed\", \"welcome\", \"went\", \"werent\", \"whatever\", \"what'll\", \"whats\", \"whence\", \"whenever\", \"whereafter\", \"whereas\", \"whereby\", \"wherein\", \"wheres\", \"whereupon\", \"wherever\", \"whether\", \"whim\", \"whither\", \"whod\", \"whoever\", \"whole\", \"who'll\", \"whomever\", \"whos\", \"whose\", \"widely\", \"willing\", \"wish\", \"within\", \"without\", \"wont\", \"words\", \"world\", \"wouldnt\", \"www\", \"x\", \"yes\", \"yet\", \"youd\", \"youre\", \"z\", \"zero\", \"a's\", \"ain't\", \"allow\", \"allows\", \"apart\", \"appear\", \"appreciate\", \"appropriate\", \"associated\", \"best\", \"better\", \"c'mon\", \"c's\", \"cant\", \"changes\", \"clearly\", \"concerning\", \"consequently\", \"consider\", \"considering\", \"corresponding\", \"course\", \"currently\", \"definitely\", \"described\", \"despite\", \"entirely\", \"exactly\", \"example\", \"going\", \"greetings\", \"hello\", \"help\", \"hopefully\", \"ignored\", \"inasmuch\", \"indicate\", \"indicated\", \"indicates\", \"inner\", \"insofar\", \"it'd\", \"keep\", \"keeps\", \"novel\", \"presumably\", \"reasonably\", \"second\", \"secondly\", \"sensible\", \"serious\", \"seriously\", \"sure\", \"t's\", \"third\", \"thorough\", \"thoroughly\", \"three\", \"well\", \"wonder\", \"a\", \"about\", \"above\", \"above\", \"across\", \"after\", \"afterwards\", \"again\", \"against\", \"all\", \"almost\", \"alone\", \"along\", \"already\", \"also\", \"although\", \"always\", \"am\", \"among\", \"amongst\", \"amoungst\", \"amount\", \"an\", \"and\", \"another\", \"any\", \"anyhow\", \"anyone\", \"anything\", \"anyway\", \"anywhere\", \"are\", \"around\", \"as\", \"at\", \"back\", \"be\", \"became\", \"because\", \"become\", \"becomes\", \"becoming\", \"been\", \"before\", \"beforehand\", \"behind\", \"being\", \"below\", \"beside\", \"besides\", \"between\", \"beyond\", \"bill\", \"both\", \"bottom\", \"but\", \"by\", \"call\", \"can\", \"cannot\", \"cant\", \"co\", \"con\", \"could\", \"couldnt\", \"cry\", \"de\", \"describe\", \"detail\", \"do\", \"done\", \"down\", \"due\", \"during\", \"each\", \"eg\", \"eight\", \"either\", \"eleven\", \"else\", \"elsewhere\", \"empty\", \"enough\", \"etc\", \"even\", \"ever\", \"every\", \"everyone\", \"everything\", \"everywhere\", \"except\", \"few\", \"fifteen\", \"fify\", \"fill\", \"find\", \"fire\", \"first\", \"five\", \"for\", \"former\", \"formerly\", \"forty\", \"found\", \"four\", \"from\", \"front\", \"full\", \"further\", \"get\", \"give\", \"go\", \"had\", \"has\", \"hasnt\", \"have\", \"he\", \"hence\", \"her\", \"here\", \"hereafter\", \"hereby\", \"herein\", \"hereupon\", \"hers\", \"herself\", \"him\", \"himself\", \"his\", \"how\", \"however\", \"hundred\", \"ie\", \"if\", \"in\", \"inc\", \"indeed\", \"interest\", \"into\", \"is\", \"it\", \"its\", \"itself\", \"keep\", \"last\", \"latter\", \"latterly\", \"least\", \"less\", \"ltd\", \"made\", \"many\", \"may\", \"me\", \"meanwhile\", \"might\", \"mill\", \"mine\", \"more\", \"moreover\", \"most\", \"mostly\", \"move\", \"much\", \"must\", \"my\", \"myself\", \"name\", \"namely\", \"neither\", \"never\", \"nevertheless\", \"next\", \"nine\", \"no\", \"nobody\", \"none\", \"noone\", \"nor\", \"not\", \"nothing\", \"now\", \"nowhere\", \"of\", \"off\", \"often\", \"on\", \"once\", \"one\", \"only\", \"onto\", \"or\", \"other\", \"others\", \"otherwise\", \"our\", \"ours\", \"ourselves\", \"out\", \"over\", \"own\", \"part\", \"per\", \"perhaps\", \"please\", \"put\", \"rather\", \"re\", \"same\", \"see\", \"seem\", \"seemed\", \"seeming\", \"seems\", \"serious\", \"several\", \"she\", \"should\", \"show\", \"side\", \"since\", \"sincere\", \"six\", \"sixty\", \"so\", \"some\", \"somehow\", \"someone\", \"something\", \"sometime\", \"sometimes\", \"somewhere\", \"still\", \"such\", \"system\", \"take\", \"ten\", \"than\", \"that\", \"the\", \"their\", \"them\", \"themselves\", \"then\", \"thence\", \"there\", \"thereafter\", \"thereby\", \"therefore\", \"therein\", \"thereupon\", \"these\", \"they\", \"thickv\", \"thin\", \"third\", \"this\", \"those\", \"though\", \"three\", \"through\", \"throughout\", \"thru\", \"thus\", \"to\", \"together\", \"too\", \"top\", \"toward\", \"towards\", \"twelve\", \"twenty\", \"two\", \"un\", \"under\", \"until\", \"up\", \"upon\", \"us\", \"very\", \"via\", \"was\", \"we\", \"well\", \"were\", \"what\", \"whatever\", \"when\", \"whence\", \"whenever\", \"where\", \"whereafter\", \"whereas\", \"whereby\", \"wherein\", \"whereupon\", \"wherever\", \"whether\", \"which\", \"while\", \"whither\", \"who\", \"whoever\", \"whole\", \"whom\", \"whose\", \"why\", \"will\", \"with\", \"within\", \"without\", \"would\", \"yet\", \"you\", \"your\", \"yours\", \"yourself\", \"yourselves\", \"the\", \"a\", \"b\", \"c\", \"d\", \"e\", \"f\", \"g\", \"h\", \"i\", \"j\", \"k\", \"l\", \"m\", \"n\", \"o\", \"p\", \"q\", \"r\", \"s\", \"t\", \"u\", \"v\", \"w\", \"x\", \"y\", \"z\", \"A\", \"B\", \"C\", \"D\", \"E\", \"F\", \"G\", \"H\", \"I\", \"J\", \"K\", \"L\", \"M\", \"N\", \"O\", \"P\", \"Q\", \"R\", \"S\", \"T\", \"U\", \"V\", \"W\", \"X\", \"Y\", \"Z\", \"co\", \"op\", \"research-articl\", \"pagecount\", \"cit\", \"ibid\", \"les\", \"le\", \"au\", \"que\", \"est\", \"pas\", \"vol\", \"el\", \"los\", \"pp\", \"u201d\", \"well-b\", \"http\", \"volumtype\", \"par\", \"0o\", \"0s\", \"3a\", \"3b\", \"3d\", \"6b\", \"6o\", \"a1\", \"a2\", \"a3\", \"a4\", \"ab\", \"ac\", \"ad\", \"ae\", \"af\", \"ag\", \"aj\", \"al\", \"an\", \"ao\", \"ap\", \"ar\", \"av\", \"aw\", \"ax\", \"ay\", \"az\", \"b1\", \"b2\", \"b3\", \"ba\", \"bc\", \"bd\", \"be\", \"bi\", \"bj\", \"bk\", \"bl\", \"bn\", \"bp\", \"br\", \"bs\", \"bt\", \"bu\", \"bx\", \"c1\", \"c2\", \"c3\", \"cc\", \"cd\", \"ce\", \"cf\", \"cg\", \"ch\", \"ci\", \"cj\", \"cl\", \"cm\", \"cn\", \"cp\", \"cq\", \"cr\", \"cs\", \"ct\", \"cu\", \"cv\", \"cx\", \"cy\", \"cz\", \"d2\", \"da\", \"dc\", \"dd\", \"de\", \"df\", \"di\", \"dj\", \"dk\", \"dl\", \"do\", \"dp\", \"dr\", \"ds\", \"dt\", \"du\", \"dx\", \"dy\", \"e2\", \"e3\", \"ea\", \"ec\", \"ed\", \"ee\", \"ef\", \"ei\", \"ej\", \"el\", \"em\", \"en\", \"eo\", \"ep\", \"eq\", \"er\", \"es\", \"et\", \"eu\", \"ev\", \"ex\", \"ey\", \"f2\", \"fa\", \"fc\", \"ff\", \"fi\", \"fj\", \"fl\", \"fn\", \"fo\", \"fr\", \"fs\", \"ft\", \"fu\", \"fy\", \"ga\", \"ge\", \"gi\", \"gj\", \"gl\", \"go\", \"gr\", \"gs\", \"gy\", \"h2\", \"h3\", \"hh\", \"hi\", \"hj\", \"ho\", \"hr\", \"hs\", \"hu\", \"hy\", \"i\", \"i2\", \"i3\", \"i4\", \"i6\", \"i7\", \"i8\", \"ia\", \"ib\", \"ic\", \"ie\", \"ig\", \"ih\", \"ii\", \"ij\", \"il\", \"in\", \"io\", \"ip\", \"iq\", \"ir\", \"iv\", \"ix\", \"iy\", \"iz\", \"jj\", \"jr\", \"js\", \"jt\", \"ju\", \"ke\", \"kg\", \"kj\", \"km\", \"ko\", \"l2\", \"la\", \"lb\", \"lc\", \"lf\", \"lj\", \"ln\", \"lo\", \"lr\", \"ls\", \"lt\", \"m2\", \"ml\", \"mn\", \"mo\", \"ms\", \"mt\", \"mu\", \"n2\", \"nc\", \"nd\", \"ne\", \"ng\", \"ni\", \"nj\", \"nl\", \"nn\", \"nr\", \"ns\", \"nt\", \"ny\", \"oa\", \"ob\", \"oc\", \"od\", \"of\", \"og\", \"oi\", \"oj\", \"ol\", \"om\", \"on\", \"oo\", \"oq\", \"or\", \"os\", \"ot\", \"ou\", \"ow\", \"ox\", \"oz\", \"p1\", \"p2\", \"p3\", \"pc\", \"pd\", \"pe\", \"pf\", \"ph\", \"pi\", \"pj\", \"pk\", \"pl\", \"pm\", \"pn\", \"po\", \"pq\", \"pr\", \"ps\", \"pt\", \"pu\", \"py\", \"qj\", \"qu\", \"r2\", \"ra\", \"rc\", \"rd\", \"rf\", \"rh\", \"ri\", \"rj\", \"rl\", \"rm\", \"rn\", \"ro\", \"rq\", \"rr\", \"rs\", \"rt\", \"ru\", \"rv\", \"ry\", \"s2\", \"sa\", \"sc\", \"sd\", \"se\", \"sf\", \"si\", \"sj\", \"sl\", \"sm\", \"sn\", \"sp\", \"sq\", \"sr\", \"ss\", \"st\", \"sy\", \"sz\", \"t1\", \"t2\", \"t3\", \"tb\", \"tc\", \"td\", \"te\", \"tf\", \"th\", \"ti\", \"tj\", \"tl\", \"tm\", \"tn\", \"tp\", \"tq\", \"tr\", \"ts\", \"tt\", \"tv\", \"tx\", \"ue\", \"ui\", \"uj\", \"uk\", \"um\", \"un\", \"uo\", \"ur\", \"ut\", \"va\", \"wa\", \"vd\", \"wi\", \"vj\", \"vo\", \"wo\", \"vq\", \"vt\", \"vu\", \"x1\", \"x2\", \"x3\", \"xf\", \"xi\", \"xj\", \"xk\", \"xl\", \"xn\", \"xo\", \"xs\", \"xt\", \"xv\", \"xx\", \"y2\", \"yj\", \"yl\", \"yr\", \"ys\", \"yt\", \"zi\", \"zz\"]"
   ]
  },
  {
   "cell_type": "code",
   "execution_count": 18,
   "metadata": {},
   "outputs": [
    {
     "data": {
      "text/plain": [
       "1527"
      ]
     },
     "execution_count": 18,
     "metadata": {},
     "output_type": "execute_result"
    }
   ],
   "source": [
    "len(stop_words)"
   ]
  },
  {
   "cell_type": "code",
   "execution_count": 20,
   "metadata": {},
   "outputs": [],
   "source": [
    "#making dictionary of all possible words in give data files..\n",
    "\n",
    "\n",
    "# opening files\n",
    "path = \"C:/Users/hp/Downloads/20_newsgroups/\"\n",
    "train= os.listdir(path)\n",
    "\n",
    "for z in train:\n",
    "    class_path= path+z+\"/\"\n",
    "    file_list= os.listdir(class_path)\n",
    "    \n",
    "    for j in file_list:\n",
    "        file= open(class_path+j,'r')\n",
    "        r= file.read()\n",
    "\n",
    "        s=\"\"\n",
    "        \n",
    "        # removing special characters\n",
    "        for alphabet in r:\n",
    "            code= ord(alphabet)\n",
    "            if(code<32 or code>32 and code<65 or code>90 and code<97 or code>122):\n",
    "                continue\n",
    "            else:\n",
    "                s+=alphabet\n",
    "        \n",
    "        # spliting words and removing stopwords\n",
    "        for word in s.split():\n",
    "\n",
    "            if(word in dictionary):\n",
    "                dictionary[word]+=1                      # adding words to dictionary\n",
    "            else:\n",
    "                word_is_stopword= False\n",
    "                for i in stop_words:\n",
    "                    if(i==word):\n",
    "                        word_is_stopword=True\n",
    "                if(word_is_stopword==False):\n",
    "                    dictionary[word]=1"
   ]
  },
  {
   "cell_type": "code",
   "execution_count": 21,
   "metadata": {},
   "outputs": [
    {
     "data": {
      "text/plain": [
       "388152"
      ]
     },
     "execution_count": 21,
     "metadata": {},
     "output_type": "execute_result"
    }
   ],
   "source": [
    "len(dictionary)"
   ]
  },
  {
   "cell_type": "code",
   "execution_count": 25,
   "metadata": {},
   "outputs": [],
   "source": [
    "# sorting dictionary into decending frequency of words..\n",
    "\n",
    "from collections import OrderedDict \n",
    "sorted_dictionary = OrderedDict(sorted(dictionary.items() , key = lambda x:x[1] , reverse = True))"
   ]
  },
  {
   "cell_type": "code",
   "execution_count": 26,
   "metadata": {},
   "outputs": [],
   "source": [
    "# choosing words with high frequency..\n",
    "\n",
    "required_words={}\n",
    "\n",
    "for word in sorted_dictionary.keys():\n",
    "    \n",
    "    if(sorted_dictionary[word]>149):\n",
    "        required_words[word]=sorted_dictionary[word]"
   ]
  },
  {
   "cell_type": "code",
   "execution_count": 27,
   "metadata": {},
   "outputs": [
    {
     "data": {
      "text/plain": [
       "4810"
      ]
     },
     "execution_count": 27,
     "metadata": {},
     "output_type": "execute_result"
    }
   ],
   "source": [
    "# number of words appropriate for features..\n",
    "\n",
    "len(required_words)"
   ]
  },
  {
   "cell_type": "code",
   "execution_count": 28,
   "metadata": {},
   "outputs": [],
   "source": [
    "# feature list\n",
    "\n",
    "features= list(required_words.keys())"
   ]
  },
  {
   "cell_type": "markdown",
   "metadata": {},
   "source": [
    "## Constructing traing data.."
   ]
  },
  {
   "cell_type": "code",
   "execution_count": 29,
   "metadata": {},
   "outputs": [],
   "source": [
    "import numpy as np"
   ]
  },
  {
   "cell_type": "code",
   "execution_count": 30,
   "metadata": {},
   "outputs": [],
   "source": [
    "X_train= np.zeros((20000,len(features)),int)\n",
    "Y_train= np.zeros((20000,1),int)"
   ]
  },
  {
   "cell_type": "code",
   "execution_count": 33,
   "metadata": {},
   "outputs": [],
   "source": [
    "# Building X_train and Y_train by traversing on files..\n",
    "\n",
    "path = \"C:/Users/hp/Downloads/20_newsgroups/\"\n",
    "train= os.listdir(path)\n",
    "\n",
    "classCount=1\n",
    "tupleValue=0\n",
    "for z in train:\n",
    "    class_path= path+z+\"/\"\n",
    "    file_list= os.listdir(class_path)\n",
    "    \n",
    "    for j in file_list:\n",
    "        file= open(class_path+j,'r')\n",
    "        r= file.read()\n",
    "\n",
    "        s=\"\"\n",
    "        for alphabet in r:\n",
    "            code= ord(alphabet)\n",
    "            if(code<32 or code>32 and code<65 or code>90 and code<97 or code>122):\n",
    "                continue\n",
    "            else:\n",
    "                s+=alphabet\n",
    "        \n",
    "        for word in s.split():\n",
    "            \n",
    "            if(word in features):\n",
    "                \n",
    "                feature_index=0\n",
    "                for i in range(len(features)):\n",
    "                    if(word==features[i]):\n",
    "                               feature_index=i\n",
    "                               break\n",
    "                            \n",
    "                X_train[tupleValue][feature_index]+=1\n",
    "                Y_train[tupleValue][0]=classCount\n",
    "                \n",
    "        tupleValue+=1\n",
    "    classCount+=1"
   ]
  },
  {
   "cell_type": "code",
   "execution_count": 34,
   "metadata": {},
   "outputs": [],
   "source": [
    "# Saving X_train and Y_train\n",
    "\n",
    "np.savetxt(\"X_train_NewTestClassification.csv\",X_train, fmt=\"%2.3f\", delimiter=',')\n",
    "np.savetxt(\"Y_train_NewTestClassification.csv\",Y_train, fmt=\"%2.3f\", delimiter=',')"
   ]
  },
  {
   "cell_type": "code",
   "execution_count": null,
   "metadata": {},
   "outputs": [],
   "source": [
    "# Using saved X_train and Y_train\n",
    "\n",
    "X_train= np.genfromtxt(\"X_train_NewTestClassification.csv\", delimiter=',')\n",
    "Y_train= np.genfromtxt(\"Y_train_NewTestClassification.csv\", delimiter=',')"
   ]
  },
  {
   "cell_type": "code",
   "execution_count": 35,
   "metadata": {},
   "outputs": [],
   "source": [
    "# list of names of given classes..\n",
    "\n",
    "classes_name= [\"atheism\", \"graphics\",\"os.ms-windows.misc\",\"sys.ibm.pc.hardware\",\"sys.mac.hardware\",\"windows.x\",\"forsale\",\"autos\",\"motorcycles\",\"sport.baseball\" ,\"sport_hockey\",\"crypt\",\"electronics\",\"med\", \"space\",\"religion.christian\",\"politics.guns\",\"politics.mideast\",\"politics.misc\",\"religion.misc\"]"
   ]
  },
  {
   "cell_type": "code",
   "execution_count": 59,
   "metadata": {},
   "outputs": [],
   "source": [
    "# Fit function \n",
    "# Constructing dictionary to fit training data.\n",
    "\n",
    "def fit(X_train,Y_train):\n",
    "    \n",
    "    result= {}\n",
    "    \n",
    "    for current_class in set(Y_train[:,0]):\n",
    "        \n",
    "        result[classes_name[current_class-1]]={}\n",
    "        result[\"total_data\"]=len(Y_train)\n",
    "        \n",
    "        current_class_rows = (Y_train[:,0] == current_class)\n",
    "        X_train_current = X_train[current_class_rows]\n",
    "        Y_train_current = Y_train[current_class_rows]\n",
    "          \n",
    "        total_words_in_class=0\n",
    "        for j in range(X_train.shape[1]):\n",
    "            \n",
    "            total_words_in_feature= X_train_current[:,j].sum()\n",
    "                            \n",
    "            result[classes_name[current_class-1]][j]=total_words_in_feature\n",
    "            total_words_in_class += total_words_in_feature\n",
    "        \n",
    "        result[classes_name[current_class-1]][\"total_word_count\"]= total_words_in_class\n",
    "        result[classes_name[current_class-1]][\"total_count\"]= len(Y_train_current)\n",
    "    \n",
    "    return result"
   ]
  },
  {
   "cell_type": "markdown",
   "metadata": {},
   "source": [
    "## Constructing testing data.."
   ]
  },
  {
   "cell_type": "code",
   "execution_count": 37,
   "metadata": {},
   "outputs": [],
   "source": [
    "X_test= np.zeros((2000,len(features)),int)\n",
    "Y_test= np.zeros((2000,1),int)"
   ]
  },
  {
   "cell_type": "code",
   "execution_count": 38,
   "metadata": {},
   "outputs": [],
   "source": [
    "# Building X_test and Y_test by traversing on files..\n",
    "\n",
    "\n",
    "path = \"C:/Users/hp/Downloads/mini_newsgroups/\"\n",
    "train= os.listdir(path)\n",
    "\n",
    "classCount=1\n",
    "tuple=0\n",
    "for z in train:\n",
    "    class_path= path+z+\"/\"\n",
    "    file_list= os.listdir(class_path)\n",
    "    \n",
    "    for j in file_list:\n",
    "        file= open(class_path+j,'r')\n",
    "        r= file.read()\n",
    "\n",
    "        s=\"\"\n",
    "        for alphabet in r:\n",
    "            code= ord(alphabet)\n",
    "            if(code<32 or code>32 and code<65 or code>90 and code<97 or code>122):\n",
    "                continue\n",
    "            else:\n",
    "                s+=alphabet\n",
    "        \n",
    "        for word in s.split():\n",
    "            \n",
    "            if(word in features):\n",
    "                \n",
    "                feature_index=0\n",
    "                for i in range(len(features)):\n",
    "                    if(word==features[i]):\n",
    "                               feature_index=i\n",
    "                               break\n",
    "                            \n",
    "                X_test[tuple][feature_index]+=1\n",
    "                Y_test[tuple][0]=classCount\n",
    "        \n",
    "        tuple+=1\n",
    "    classCount+=1"
   ]
  },
  {
   "cell_type": "code",
   "execution_count": 39,
   "metadata": {},
   "outputs": [],
   "source": [
    "# Probability function to return probability of data belongs to particular class.\n",
    "\n",
    "def probabilty(result, x , current_class):\n",
    "    \n",
    "    output= np.log(result[current_class][\"total_count\"])-np.log(result[\"total_data\"])\n",
    "    \n",
    "    for i in range(len(x)):\n",
    "        \n",
    "        if(x[i]==0):\n",
    "            continue\n",
    "        count_of_words_in_feature= result[current_class][i] +1\n",
    "        total_count_of_words= result[current_class][\"total_word_count\"]+ len(result[current_class].keys())\n",
    "        \n",
    "        probability_of_feature_i= np.log(count_of_words_in_feature)- np.log(total_count_of_words)\n",
    "        \n",
    "        output = output + (probability_of_feature_i)*(x[i])\n",
    "    \n",
    "    return output"
   ]
  },
  {
   "cell_type": "code",
   "execution_count": 40,
   "metadata": {},
   "outputs": [],
   "source": [
    "# Function to predict Best fit class for given data.\n",
    "# Compares all probabilities and return class with highest probability.\n",
    "\n",
    "def predictSinglePoint(result, x):\n",
    "    \n",
    "    classes= result.keys()\n",
    "    \n",
    "    best_class_prob=-1000\n",
    "    best_class=-1000\n",
    "    first_run= True\n",
    "    \n",
    "    for i in classes:\n",
    "        \n",
    "        if(i==\"total_data\"):\n",
    "            continue\n",
    "        probability_of_i= probabilty(result, x ,i)\n",
    "        \n",
    "        if(first_run or probability_of_i> best_class_prob):\n",
    "            best_class=i\n",
    "            best_class_prob= probability_of_i\n",
    "        first_run=False\n",
    "    \n",
    "    return best_class"
   ]
  },
  {
   "cell_type": "code",
   "execution_count": 41,
   "metadata": {},
   "outputs": [],
   "source": [
    "# Predict function\n",
    "# constructs to Y_pred for X_test\n",
    "\n",
    "def predict(result, X_test):\n",
    "    \n",
    "    Y_predict=[]\n",
    "    \n",
    "    for x in X_test:\n",
    "        x_class = predictSinglePoint(result,x)\n",
    "        Y_predict.append(x_class)\n",
    "    \n",
    "    Y_predict= np.array(Y_predict)\n",
    "    \n",
    "    return Y_predict"
   ]
  },
  {
   "cell_type": "markdown",
   "metadata": {},
   "source": [
    "## Running the algorithm"
   ]
  },
  {
   "cell_type": "code",
   "execution_count": 60,
   "metadata": {},
   "outputs": [],
   "source": [
    "result= fit(X_train,Y_train)"
   ]
  },
  {
   "cell_type": "code",
   "execution_count": 57,
   "metadata": {},
   "outputs": [],
   "source": [
    "setarr= set(Y_train[:,0])"
   ]
  },
  {
   "cell_type": "code",
   "execution_count": 58,
   "metadata": {},
   "outputs": [
    {
     "name": "stdout",
     "output_type": "stream",
     "text": [
      "{0, 1, 2, 3, 4, 5, 6, 7, 8, 9, 10, 11, 12, 13, 14, 15, 16, 17, 18, 19, 20}\n"
     ]
    }
   ],
   "source": [
    "print(setarr)"
   ]
  },
  {
   "cell_type": "code",
   "execution_count": null,
   "metadata": {},
   "outputs": [],
   "source": []
  },
  {
   "cell_type": "code",
   "execution_count": 47,
   "metadata": {},
   "outputs": [],
   "source": [
    "Y_pred= predict(result,X_test)"
   ]
  },
  {
   "cell_type": "code",
   "execution_count": 48,
   "metadata": {},
   "outputs": [
    {
     "name": "stdout",
     "output_type": "stream",
     "text": [
      "['politics.misc' 'atheism' 'atheism' ... 'religion.misc' 'religion.misc'\n",
      " 'religion.misc']\n"
     ]
    }
   ],
   "source": [
    "print(Y_pred)"
   ]
  },
  {
   "cell_type": "code",
   "execution_count": 49,
   "metadata": {},
   "outputs": [],
   "source": [
    "Y_pred_integer=[]\n",
    "\n",
    "for i in Y_pred:\n",
    "    \n",
    "    for j in range(len(classes_name)):\n",
    "        \n",
    "        if(i==classes_name[j]):\n",
    "            Y_pred_integer.append(j+1)\n",
    "            break;"
   ]
  },
  {
   "cell_type": "markdown",
   "metadata": {},
   "source": [
    "## Efficiency of algorithm"
   ]
  },
  {
   "cell_type": "code",
   "execution_count": 50,
   "metadata": {},
   "outputs": [],
   "source": [
    "accurcy_arr= np.zeros((2000,1),int)\n",
    "\n",
    "for i in range(len(Y_pred_integer)):\n",
    "    \n",
    "    if(Y_pred_integer[i]==Y_test[i][0]):\n",
    "        accurcy_arr[i]=1\n",
    "    else:\n",
    "        accurcy_arr[i]=0"
   ]
  },
  {
   "cell_type": "code",
   "execution_count": 51,
   "metadata": {},
   "outputs": [],
   "source": [
    "accuracy= (accurcy_arr[:,0].sum())/2000"
   ]
  },
  {
   "cell_type": "markdown",
   "metadata": {},
   "source": [
    "### Our result"
   ]
  },
  {
   "cell_type": "code",
   "execution_count": 52,
   "metadata": {},
   "outputs": [
    {
     "name": "stdout",
     "output_type": "stream",
     "text": [
      "              precision    recall  f1-score   support\n",
      "\n",
      "           1       0.79      0.86      0.82       100\n",
      "           2       0.87      0.90      0.89       100\n",
      "           3       0.87      0.94      0.90       100\n",
      "           4       0.91      0.89      0.90       100\n",
      "           5       0.96      0.96      0.96       100\n",
      "           6       0.98      0.95      0.96       100\n",
      "           7       0.90      0.95      0.92       100\n",
      "           8       0.94      0.96      0.95       100\n",
      "           9       0.98      0.98      0.98       100\n",
      "          10       0.97      0.98      0.98       100\n",
      "          11       1.00      0.96      0.98       100\n",
      "          12       0.98      0.94      0.96       100\n",
      "          13       0.92      0.96      0.94       100\n",
      "          14       0.98      0.94      0.96       100\n",
      "          15       0.96      0.96      0.96       100\n",
      "          16       0.98      0.98      0.98       100\n",
      "          17       0.79      0.92      0.85       100\n",
      "          18       0.98      0.93      0.95       100\n",
      "          19       0.85      0.70      0.77       100\n",
      "          20       0.74      0.67      0.70       100\n",
      "\n",
      "   micro avg       0.92      0.92      0.92      2000\n",
      "   macro avg       0.92      0.92      0.92      2000\n",
      "weighted avg       0.92      0.92      0.92      2000\n",
      "\n",
      "[[86  0  0  0  0  0  1  0  0  0  0  0  0  1  0  1  1  0  1  9]\n",
      " [ 0 90  5  3  0  1  0  0  0  0  0  0  1  0  0  0  0  0  0  0]\n",
      " [ 0  2 94  4  0  0  0  0  0  0  0  0  0  0  0  0  0  0  0  0]\n",
      " [ 0  1  4 89  3  0  3  0  0  0  0  0  0  0  0  0  0  0  0  0]\n",
      " [ 0  0  1  1 96  0  1  0  0  0  0  0  1  0  0  0  0  0  0  0]\n",
      " [ 0  2  1  0  0 95  0  0  1  0  0  0  0  0  1  0  0  0  0  0]\n",
      " [ 0  0  1  1  0  0 95  2  0  0  0  0  1  0  0  0  0  0  0  0]\n",
      " [ 0  0  0  0  0  0  1 96  0  0  0  0  3  0  0  0  0  0  0  0]\n",
      " [ 0  0  0  0  0  1  1  0 98  0  0  0  0  0  0  0  0  0  0  0]\n",
      " [ 0  0  0  0  0  0  0  1  0 98  0  0  0  0  1  0  0  0  0  0]\n",
      " [ 0  0  0  0  0  0  0  0  0  2 96  0  0  1  0  0  0  0  1  0]\n",
      " [ 0  2  1  0  0  0  1  1  0  0  0 94  1  0  0  0  0  0  0  0]\n",
      " [ 0  1  1  0  0  0  0  1  0  0  0  0 96  0  1  0  0  0  0  0]\n",
      " [ 1  2  0  0  0  0  0  0  1  0  0  0  1 94  0  0  0  0  0  1]\n",
      " [ 0  3  0  0  1  0  0  0  0  0  0  0  0  0 96  0  0  0  0  0]\n",
      " [ 0  0  0  0  0  0  1  0  0  0  0  0  0  0  0 98  1  0  0  0]\n",
      " [ 0  0  0  0  0  0  0  0  0  0  0  1  0  0  0  0 92  0  4  3]\n",
      " [ 1  0  0  0  0  0  2  0  0  0  0  1  0  0  0  0  0 93  3  0]\n",
      " [ 0  0  0  0  0  0  0  1  0  1  0  0  0  0  1  0 14  2 70 11]\n",
      " [21  0  0  0  0  0  0  0  0  0  0  0  0  0  0  1  8  0  3 67]]\n",
      "0.9165\n"
     ]
    }
   ],
   "source": [
    "from sklearn.metrics import classification_report, confusion_matrix\n",
    "print(classification_report(Y_test,Y_pred_integer))\n",
    "print(confusion_matrix(Y_test,Y_pred_integer))\n",
    "print(accuracy)"
   ]
  },
  {
   "cell_type": "markdown",
   "metadata": {},
   "source": [
    "### Inbuilt classifier result"
   ]
  },
  {
   "cell_type": "code",
   "execution_count": 53,
   "metadata": {},
   "outputs": [
    {
     "name": "stderr",
     "output_type": "stream",
     "text": [
      "C:\\Users\\hp\\Anaconda3\\lib\\site-packages\\sklearn\\utils\\validation.py:761: DataConversionWarning: A column-vector y was passed when a 1d array was expected. Please change the shape of y to (n_samples, ), for example using ravel().\n",
      "  y = column_or_1d(y, warn=True)\n"
     ]
    }
   ],
   "source": [
    "from sklearn.naive_bayes import MultinomialNB\n",
    "\n",
    "clf= MultinomialNB()\n",
    "clf.fit(X_train,Y_train)\n",
    "clf_Y_pred= clf.predict(X_test)"
   ]
  },
  {
   "cell_type": "code",
   "execution_count": 55,
   "metadata": {},
   "outputs": [
    {
     "name": "stdout",
     "output_type": "stream",
     "text": [
      "              precision    recall  f1-score   support\n",
      "\n",
      "           1       0.79      0.86      0.82       100\n",
      "           2       0.87      0.90      0.89       100\n",
      "           3       0.87      0.94      0.90       100\n",
      "           4       0.91      0.89      0.90       100\n",
      "           5       0.96      0.96      0.96       100\n",
      "           6       0.98      0.95      0.96       100\n",
      "           7       0.90      0.95      0.92       100\n",
      "           8       0.94      0.96      0.95       100\n",
      "           9       0.98      0.98      0.98       100\n",
      "          10       0.97      0.98      0.98       100\n",
      "          11       1.00      0.96      0.98       100\n",
      "          12       0.98      0.94      0.96       100\n",
      "          13       0.92      0.96      0.94       100\n",
      "          14       0.98      0.94      0.96       100\n",
      "          15       0.96      0.96      0.96       100\n",
      "          16       0.98      0.98      0.98       100\n",
      "          17       0.79      0.92      0.85       100\n",
      "          18       0.98      0.93      0.95       100\n",
      "          19       0.85      0.70      0.77       100\n",
      "          20       0.74      0.67      0.70       100\n",
      "\n",
      "   micro avg       0.92      0.92      0.92      2000\n",
      "   macro avg       0.92      0.92      0.92      2000\n",
      "weighted avg       0.92      0.92      0.92      2000\n",
      "\n",
      "[[86  0  0  0  0  0  1  0  0  0  0  0  0  1  0  1  1  0  1  9]\n",
      " [ 0 90  5  3  0  1  0  0  0  0  0  0  1  0  0  0  0  0  0  0]\n",
      " [ 0  2 94  4  0  0  0  0  0  0  0  0  0  0  0  0  0  0  0  0]\n",
      " [ 0  1  4 89  3  0  3  0  0  0  0  0  0  0  0  0  0  0  0  0]\n",
      " [ 0  0  1  1 96  0  1  0  0  0  0  0  1  0  0  0  0  0  0  0]\n",
      " [ 0  2  1  0  0 95  0  0  1  0  0  0  0  0  1  0  0  0  0  0]\n",
      " [ 0  0  1  1  0  0 95  2  0  0  0  0  1  0  0  0  0  0  0  0]\n",
      " [ 0  0  0  0  0  0  1 96  0  0  0  0  3  0  0  0  0  0  0  0]\n",
      " [ 0  0  0  0  0  1  1  0 98  0  0  0  0  0  0  0  0  0  0  0]\n",
      " [ 0  0  0  0  0  0  0  1  0 98  0  0  0  0  1  0  0  0  0  0]\n",
      " [ 0  0  0  0  0  0  0  0  0  2 96  0  0  1  0  0  0  0  1  0]\n",
      " [ 0  2  1  0  0  0  1  1  0  0  0 94  1  0  0  0  0  0  0  0]\n",
      " [ 0  1  1  0  0  0  0  1  0  0  0  0 96  0  1  0  0  0  0  0]\n",
      " [ 1  2  0  0  0  0  0  0  1  0  0  0  1 94  0  0  0  0  0  1]\n",
      " [ 0  3  0  0  1  0  0  0  0  0  0  0  0  0 96  0  0  0  0  0]\n",
      " [ 0  0  0  0  0  0  1  0  0  0  0  0  0  0  0 98  1  0  0  0]\n",
      " [ 0  0  0  0  0  0  0  0  0  0  0  1  0  0  0  0 92  0  4  3]\n",
      " [ 1  0  0  0  0  0  2  0  0  0  0  1  0  0  0  0  0 93  3  0]\n",
      " [ 0  0  0  0  0  0  0  1  0  1  0  0  0  0  1  0 14  2 70 11]\n",
      " [21  0  0  0  0  0  0  0  0  0  0  0  0  0  0  1  8  0  3 67]]\n",
      "0.9165\n"
     ]
    }
   ],
   "source": [
    "print(classification_report(Y_test,clf_Y_pred))\n",
    "print(confusion_matrix(Y_test,clf_Y_pred))\n",
    "print(clf.score(X_test,Y_test))"
   ]
  },
  {
   "cell_type": "code",
   "execution_count": null,
   "metadata": {},
   "outputs": [],
   "source": []
  }
 ],
 "metadata": {
  "kernelspec": {
   "display_name": "Python 3",
   "language": "python",
   "name": "python3"
  },
  "language_info": {
   "codemirror_mode": {
    "name": "ipython",
    "version": 3
   },
   "file_extension": ".py",
   "mimetype": "text/x-python",
   "name": "python",
   "nbconvert_exporter": "python",
   "pygments_lexer": "ipython3",
   "version": "3.7.3"
  }
 },
 "nbformat": 4,
 "nbformat_minor": 2
}
