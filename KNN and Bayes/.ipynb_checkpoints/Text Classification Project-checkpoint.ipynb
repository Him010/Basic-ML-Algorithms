{
 "cells": [
  {
   "cell_type": "code",
   "execution_count": 1,
   "metadata": {},
   "outputs": [],
   "source": [
    "#importing all required libraries for project\n",
    "\n",
    "import numpy as np\n",
    "from sklearn.metrics import confusion_matrix,classification_report\n",
    "from sklearn.naive_bayes import MultinomialNB\n",
    "from nltk.corpus import stopwords\n",
    "import os"
   ]
  },
  {
   "cell_type": "code",
   "execution_count": 2,
   "metadata": {},
   "outputs": [],
   "source": [
    "#Finding stopwords used in english language\n",
    "stopWords = list(set(stopwords.words('english')))"
   ]
  },
  {
   "cell_type": "code",
   "execution_count": 3,
   "metadata": {},
   "outputs": [
    {
     "data": {
      "text/plain": [
       "1185"
      ]
     },
     "execution_count": 3,
     "metadata": {},
     "output_type": "execute_result"
    }
   ],
   "source": [
    "# defining our own stop words and appending it with stopwords present in nltk module\n",
    "stop_words = [\"a\", \"about\", \"above\", \"after\", \"again\", \"against\", \"ain\", \"all\", \"am\", \"an\", \"and\", \"any\", \"are\", \"aren\", \"aren't\", \"as\", \"at\", \"be\", \"because\", \"been\", \"before\", \"being\", \"below\", \"between\", \"both\", \"but\", \"by\", \"can\", \"couldn\", \"couldn't\", \"d\", \"did\", \"didn\", \"didn't\", \"do\", \"does\", \"doesn\", \"doesn't\", \"doing\", \"don\", \"don't\", \"down\", \"during\", \"each\", \"few\", \"for\", \"from\", \"further\", \"had\", \"hadn\", \"hadn't\", \"has\", \"hasn\", \"hasn't\", \"have\", \"haven\", \"haven't\", \"having\", \"he\", \"her\", \"here\", \"hers\", \"herself\", \"him\", \"himself\", \"his\", \"how\", \"i\", \"if\", \"in\", \"into\", \"is\", \"isn\", \"isn't\", \"it\", \"it's\", \"its\", \"itself\", \"just\", \"ll\", \"m\", \"ma\", \"me\", \"mightn\", \"mightn't\", \"more\", \"most\", \"mustn\", \"mustn't\", \"my\", \"myself\", \"needn\", \"needn't\", \"no\", \"nor\", \"not\", \"now\", \"o\", \"of\", \"off\", \"on\", \"once\", \"only\", \"or\", \"other\", \"our\", \"ours\", \"ourselves\", \"out\", \"over\", \"own\", \"re\", \"s\", \"same\", \"shan\", \"shan't\", \"she\", \"she's\", \"should\", \"should've\", \"shouldn\", \"shouldn't\", \"so\", \"some\", \"such\", \"t\", \"than\", \"that\", \"that'll\", \"the\", \"their\", \"theirs\", \"them\", \"themselves\", \"then\", \"there\", \"these\", \"they\", \"this\", \"those\", \"through\", \"to\", \"too\", \"under\", \"until\", \"up\", \"ve\", \"very\", \"was\", \"wasn\", \"wasn't\", \"we\", \"were\", \"weren\", \"weren't\", \"what\", \"when\", \"where\", \"which\", \"while\", \"who\", \"whom\", \"why\", \"will\", \"with\", \"won\", \"won't\", \"wouldn\", \"wouldn't\", \"y\", \"you\", \"you'd\", \"you'll\", \"you're\", \"you've\", \"your\", \"yours\", \"yourself\", \"yourselves\", \"could\", \"he'd\", \"he'll\", \"he's\", \"here's\", \"how's\", \"i'd\", \"i'll\", \"i'm\", \"i've\", \"let's\", \"ought\", \"she'd\", \"she'll\", \"that's\", \"there's\", \"they'd\", \"they'll\", \"they're\", \"they've\", \"we'd\", \"we'll\", \"we're\", \"we've\", \"what's\", \"when's\", \"where's\", \"who's\", \"why's\", \"would\", \"able\", \"abst\", \"accordance\", \"according\", \"accordingly\", \"across\", \"act\", \"actually\", \"added\", \"adj\", \"affected\", \"affecting\", \"affects\", \"afterwards\", \"ah\", \"almost\", \"alone\", \"along\", \"already\", \"also\", \"although\", \"always\", \"among\", \"amongst\", \"announce\", \"another\", \"anybody\", \"anyhow\", \"anymore\", \"anyone\", \"anything\", \"anyway\", \"anyways\", \"anywhere\", \"apparently\", \"approximately\", \"arent\", \"arise\", \"around\", \"aside\", \"ask\", \"asking\", \"auth\", \"available\", \"away\", \"awfully\", \"b\", \"back\", \"became\", \"become\", \"becomes\", \"becoming\", \"beforehand\", \"begin\", \"beginning\", \"beginnings\", \"begins\", \"behind\", \"believe\", \"beside\", \"besides\", \"beyond\", \"biol\", \"brief\", \"briefly\", \"c\", \"ca\", \"came\", \"cannot\", \"can't\", \"cause\", \"causes\", \"certain\", \"certainly\", \"co\", \"com\", \"come\", \"comes\", \"contain\", \"containing\", \"contains\", \"couldnt\", \"date\", \"different\", \"done\", \"downwards\", \"due\", \"e\", \"ed\", \"edu\", \"effect\", \"eg\", \"eight\", \"eighty\", \"either\", \"else\", \"elsewhere\", \"end\", \"ending\", \"enough\", \"especially\", \"et\", \"etc\", \"even\", \"ever\", \"every\", \"everybody\", \"everyone\", \"everything\", \"everywhere\", \"ex\", \"except\", \"f\", \"far\", \"ff\", \"fifth\", \"first\", \"five\", \"fix\", \"followed\", \"following\", \"follows\", \"former\", \"formerly\", \"forth\", \"found\", \"four\", \"furthermore\", \"g\", \"gave\", \"get\", \"gets\", \"getting\", \"give\", \"given\", \"gives\", \"giving\", \"go\", \"goes\", \"gone\", \"got\", \"gotten\", \"h\", \"happens\", \"hardly\", \"hed\", \"hence\", \"hereafter\", \"hereby\", \"herein\", \"heres\", \"hereupon\", \"hes\", \"hi\", \"hid\", \"hither\", \"home\", \"howbeit\", \"however\", \"hundred\", \"id\", \"ie\", \"im\", \"immediate\", \"immediately\", \"importance\", \"important\", \"inc\", \"indeed\", \"index\", \"information\", \"instead\", \"invention\", \"inward\", \"itd\", \"it'll\", \"j\", \"k\", \"keep\", \"keeps\", \"kept\", \"kg\", \"km\", \"know\", \"known\", \"knows\", \"l\", \"largely\", \"last\", \"lately\", \"later\", \"latter\", \"latterly\", \"least\", \"less\", \"lest\", \"let\", \"lets\", \"like\", \"liked\", \"likely\", \"line\", \"little\", \"'ll\", \"look\", \"looking\", \"looks\", \"ltd\", \"made\", \"mainly\", \"make\", \"makes\", \"many\", \"may\", \"maybe\", \"mean\", \"means\", \"meantime\", \"meanwhile\", \"merely\", \"mg\", \"might\", \"million\", \"miss\", \"ml\", \"moreover\", \"mostly\", \"mr\", \"mrs\", \"much\", \"mug\", \"must\", \"n\", \"na\", \"name\", \"namely\", \"nay\", \"nd\", \"near\", \"nearly\", \"necessarily\", \"necessary\", \"need\", \"needs\", \"neither\", \"never\", \"nevertheless\", \"new\", \"next\", \"nine\", \"ninety\", \"nobody\", \"non\", \"none\", \"nonetheless\", \"noone\", \"normally\", \"nos\", \"noted\", \"nothing\", \"nowhere\", \"obtain\", \"obtained\", \"obviously\", \"often\", \"oh\", \"ok\", \"okay\", \"old\", \"omitted\", \"one\", \"ones\", \"onto\", \"ord\", \"others\", \"otherwise\", \"outside\", \"overall\", \"owing\", \"p\", \"page\", \"pages\", \"part\", \"particular\", \"particularly\", \"past\", \"per\", \"perhaps\", \"placed\", \"please\", \"plus\", \"poorly\", \"possible\", \"possibly\", \"potentially\", \"pp\", \"predominantly\", \"present\", \"previously\", \"primarily\", \"probably\", \"promptly\", \"proud\", \"provides\", \"put\", \"q\", \"que\", \"quickly\", \"quite\", \"qv\", \"r\", \"ran\", \"rather\", \"rd\", \"readily\", \"really\", \"recent\", \"recently\", \"ref\", \"refs\", \"regarding\", \"regardless\", \"regards\", \"related\", \"relatively\", \"research\", \"respectively\", \"resulted\", \"resulting\", \"results\", \"right\", \"run\", \"said\", \"saw\", \"say\", \"saying\", \"says\", \"sec\", \"section\", \"see\", \"seeing\", \"seem\", \"seemed\", \"seeming\", \"seems\", \"seen\", \"self\", \"selves\", \"sent\", \"seven\", \"several\", \"shall\", \"shed\", \"shes\", \"show\", \"showed\", \"shown\", \"showns\", \"shows\", \"significant\", \"significantly\", \"similar\", \"similarly\", \"since\", \"six\", \"slightly\", \"somebody\", \"somehow\", \"someone\", \"somethan\", \"something\", \"sometime\", \"sometimes\", \"somewhat\", \"somewhere\", \"soon\", \"sorry\", \"specifically\", \"specified\", \"specify\", \"specifying\", \"still\", \"stop\", \"strongly\", \"sub\", \"substantially\", \"successfully\", \"sufficiently\", \"suggest\", \"sup\", \"sure\", \"take\", \"taken\", \"taking\", \"tell\", \"tends\", \"th\", \"thank\", \"thanks\", \"thanx\", \"thats\", \"that've\", \"thence\", \"thereafter\", \"thereby\", \"thered\", \"therefore\", \"therein\", \"there'll\", \"thereof\", \"therere\", \"theres\", \"thereto\", \"thereupon\", \"there've\", \"theyd\", \"theyre\", \"think\", \"thou\", \"though\", \"thoughh\", \"thousand\", \"throug\", \"throughout\", \"thru\", \"thus\", \"til\", \"tip\", \"together\", \"took\", \"toward\", \"towards\", \"tried\", \"tries\", \"truly\", \"try\", \"trying\", \"ts\", \"twice\", \"two\", \"u\", \"un\", \"unfortunately\", \"unless\", \"unlike\", \"unlikely\", \"unto\", \"upon\", \"ups\", \"us\", \"use\", \"used\", \"useful\", \"usefully\", \"usefulness\", \"uses\", \"using\", \"usually\", \"v\", \"value\", \"various\", \"'ve\", \"via\", \"viz\", \"vol\", \"vols\", \"vs\", \"w\", \"want\", \"wants\", \"wasnt\", \"way\", \"wed\", \"welcome\", \"went\", \"werent\", \"whatever\", \"what'll\", \"whats\", \"whence\", \"whenever\", \"whereafter\", \"whereas\", \"whereby\", \"wherein\", \"wheres\", \"whereupon\", \"wherever\", \"whether\", \"whim\", \"whither\", \"whod\", \"whoever\", \"whole\", \"who'll\", \"whomever\", \"whos\", \"whose\", \"widely\", \"willing\", \"wish\", \"within\", \"without\", \"wont\", \"words\", \"world\", \"wouldnt\", \"www\", \"x\", \"yes\", \"yet\", \"youd\", \"youre\", \"z\", \"zero\", \"a's\", \"ain't\", \"allow\", \"allows\", \"apart\", \"appear\", \"appreciate\", \"appropriate\", \"associated\", \"best\", \"better\", \"c'mon\", \"c's\", \"cant\", \"changes\", \"clearly\", \"concerning\", \"consequently\", \"consider\", \"considering\", \"corresponding\", \"course\", \"currently\", \"definitely\", \"described\", \"despite\", \"entirely\", \"exactly\", \"example\", \"going\", \"greetings\", \"hello\", \"help\", \"hopefully\", \"ignored\", \"inasmuch\", \"indicate\", \"indicated\", \"indicates\", \"inner\", \"insofar\", \"it'd\", \"keep\", \"keeps\", \"novel\", \"presumably\", \"reasonably\", \"second\", \"secondly\", \"sensible\", \"serious\", \"seriously\", \"sure\", \"t's\", \"third\", \"thorough\", \"thoroughly\", \"three\", \"well\", \"wonder\", \"a\", \"about\", \"above\", \"above\", \"across\", \"after\", \"afterwards\", \"again\", \"against\", \"all\", \"almost\", \"alone\", \"along\", \"already\", \"also\", \"although\", \"always\", \"am\", \"among\", \"amongst\", \"amoungst\", \"amount\", \"an\", \"and\", \"another\", \"any\", \"anyhow\", \"anyone\", \"anything\", \"anyway\", \"anywhere\", \"are\", \"around\", \"as\", \"at\", \"back\", \"be\", \"became\", \"because\", \"become\", \"becomes\", \"becoming\", \"been\", \"before\", \"beforehand\", \"behind\", \"being\", \"below\", \"beside\", \"besides\", \"between\", \"beyond\", \"bill\", \"both\", \"bottom\", \"but\", \"by\", \"call\", \"can\", \"cannot\", \"cant\", \"co\", \"con\", \"could\", \"couldnt\", \"cry\", \"de\", \"describe\", \"detail\", \"do\", \"done\", \"down\", \"due\", \"during\", \"each\", \"eg\", \"eight\", \"either\", \"eleven\", \"else\", \"elsewhere\", \"empty\", \"enough\", \"etc\", \"even\", \"ever\", \"every\", \"everyone\", \"everything\", \"everywhere\", \"except\", \"few\", \"fifteen\", \"fify\", \"fill\", \"find\", \"fire\", \"first\", \"five\", \"for\", \"former\", \"formerly\", \"forty\", \"found\", \"four\", \"from\", \"front\", \"full\", \"further\", \"get\", \"give\", \"go\", \"had\", \"has\", \"hasnt\", \"have\", \"he\", \"hence\", \"her\", \"here\", \"hereafter\", \"hereby\", \"herein\", \"hereupon\", \"hers\", \"herself\", \"him\", \"himself\", \"his\", \"how\", \"however\", \"hundred\", \"ie\", \"if\", \"in\", \"inc\", \"indeed\", \"interest\", \"into\", \"is\", \"it\", \"its\", \"itself\", \"keep\", \"last\", \"latter\", \"latterly\", \"least\", \"less\", \"ltd\", \"made\", \"many\", \"may\", \"me\", \"meanwhile\", \"might\", \"mill\", \"mine\", \"more\", \"moreover\", \"most\", \"mostly\", \"move\", \"much\", \"must\", \"my\", \"myself\", \"name\", \"namely\", \"neither\", \"never\", \"nevertheless\", \"next\", \"nine\", \"no\", \"nobody\", \"none\", \"noone\", \"nor\", \"not\", \"nothing\", \"now\", \"nowhere\", \"of\", \"off\", \"often\", \"on\", \"once\", \"one\", \"only\", \"onto\", \"or\", \"other\", \"others\", \"otherwise\", \"our\", \"ours\", \"ourselves\", \"out\", \"over\", \"own\", \"part\", \"per\", \"perhaps\", \"please\", \"put\", \"rather\", \"re\", \"same\", \"see\", \"seem\", \"seemed\", \"seeming\", \"seems\", \"serious\", \"several\", \"she\", \"should\", \"show\", \"side\", \"since\", \"sincere\", \"six\", \"sixty\", \"so\", \"some\", \"somehow\", \"someone\", \"something\", \"sometime\", \"sometimes\", \"somewhere\", \"still\", \"such\", \"system\", \"take\", \"ten\", \"than\", \"that\", \"the\", \"their\", \"them\", \"themselves\", \"then\", \"thence\", \"there\", \"thereafter\", \"thereby\", \"therefore\", \"therein\", \"thereupon\", \"these\", \"they\", \"thickv\", \"thin\", \"third\", \"this\", \"those\", \"though\", \"three\", \"through\", \"throughout\", \"thru\", \"thus\", \"to\", \"together\", \"too\", \"top\", \"toward\", \"towards\", \"twelve\", \"twenty\", \"two\", \"un\", \"under\", \"until\", \"up\", \"upon\", \"us\", \"very\", \"via\", \"was\", \"we\", \"well\", \"were\", \"what\", \"whatever\", \"when\", \"whence\", \"whenever\", \"where\", \"whereafter\", \"whereas\", \"whereby\", \"wherein\", \"whereupon\", \"wherever\", \"whether\", \"which\", \"while\", \"whither\", \"who\", \"whoever\", \"whole\", \"whom\", \"whose\", \"why\", \"will\", \"with\", \"within\", \"without\", \"would\", \"yet\", \"you\", \"your\", \"yours\", \"yourself\", \"yourselves\", \"the\", \"a\", \"b\", \"c\", \"d\", \"e\", \"f\", \"g\", \"h\", \"i\", \"j\", \"k\", \"l\", \"m\", \"n\", \"o\", \"p\", \"q\", \"r\", \"s\", \"t\", \"u\", \"v\", \"w\", \"x\", \"y\", \"z\", \"A\", \"B\", \"C\", \"D\", \"E\", \"F\", \"G\", \"H\", \"I\", \"J\", \"K\", \"L\", \"M\", \"N\", \"O\", \"P\", \"Q\", \"R\", \"S\", \"T\", \"U\", \"V\", \"W\", \"X\", \"Y\", \"Z\", \"co\", \"op\", \"research-articl\", \"pagecount\", \"cit\", \"ibid\", \"les\", \"le\", \"au\", \"que\", \"est\", \"pas\", \"vol\", \"el\", \"los\", \"pp\", \"u201d\", \"well-b\", \"http\", \"volumtype\", \"par\", \"0o\", \"0s\", \"3a\", \"3b\", \"3d\", \"6b\", \"6o\", \"a1\", \"a2\", \"a3\", \"a4\", \"ab\", \"ac\", \"ad\", \"ae\", \"af\", \"ag\", \"aj\", \"al\", \"an\", \"ao\", \"ap\", \"ar\", \"av\", \"aw\", \"ax\", \"ay\", \"az\", \"b1\", \"b2\", \"b3\", \"ba\", \"bc\", \"bd\", \"be\", \"bi\", \"bj\", \"bk\", \"bl\", \"bn\", \"bp\", \"br\", \"bs\", \"bt\", \"bu\", \"bx\", \"c1\", \"c2\", \"c3\", \"cc\", \"cd\", \"ce\", \"cf\", \"cg\", \"ch\", \"ci\", \"cj\", \"cl\", \"cm\", \"cn\", \"cp\", \"cq\", \"cr\", \"cs\", \"ct\", \"cu\", \"cv\", \"cx\", \"cy\", \"cz\", \"d2\", \"da\", \"dc\", \"dd\", \"de\", \"df\", \"di\", \"dj\", \"dk\", \"dl\", \"do\", \"dp\", \"dr\", \"ds\", \"dt\", \"du\", \"dx\", \"dy\", \"e2\", \"e3\", \"ea\", \"ec\", \"ed\", \"ee\", \"ef\", \"ei\", \"ej\", \"el\", \"em\", \"en\", \"eo\", \"ep\", \"eq\", \"er\", \"es\", \"et\", \"eu\", \"ev\", \"ex\", \"ey\", \"f2\", \"fa\", \"fc\", \"ff\", \"fi\", \"fj\", \"fl\", \"fn\", \"fo\", \"fr\", \"fs\", \"ft\", \"fu\", \"fy\", \"ga\", \"ge\", \"gi\", \"gj\", \"gl\", \"go\", \"gr\", \"gs\", \"gy\", \"h2\", \"h3\", \"hh\", \"hi\", \"hj\", \"ho\", \"hr\", \"hs\", \"hu\", \"hy\", \"i\", \"i2\", \"i3\", \"i4\", \"i6\", \"i7\", \"i8\", \"ia\", \"ib\", \"ic\", \"ie\", \"ig\", \"ih\", \"ii\", \"ij\", \"il\", \"in\", \"io\", \"ip\", \"iq\", \"ir\", \"iv\", \"ix\", \"iy\", \"iz\", \"jj\", \"jr\", \"js\", \"jt\", \"ju\", \"ke\", \"kg\", \"kj\", \"km\", \"ko\", \"l2\", \"la\", \"lb\", \"lc\", \"lf\", \"lj\", \"ln\", \"lo\", \"lr\", \"ls\", \"lt\", \"m2\", \"ml\", \"mn\", \"mo\", \"ms\", \"mt\", \"mu\", \"n2\", \"nc\", \"nd\", \"ne\", \"ng\", \"ni\", \"nj\", \"nl\", \"nn\", \"nr\", \"ns\", \"nt\", \"ny\", \"oa\", \"ob\", \"oc\", \"od\", \"of\", \"og\", \"oi\", \"oj\", \"ol\", \"om\", \"on\", \"oo\", \"oq\", \"or\", \"os\", \"ot\", \"ou\", \"ow\", \"ox\", \"oz\", \"p1\", \"p2\", \"p3\", \"pc\", \"pd\", \"pe\", \"pf\", \"ph\", \"pi\", \"pj\", \"pk\", \"pl\", \"pm\", \"pn\", \"po\", \"pq\", \"pr\", \"ps\", \"pt\", \"pu\", \"py\", \"qj\", \"qu\", \"r2\", \"ra\", \"rc\", \"rd\", \"rf\", \"rh\", \"ri\", \"rj\", \"rl\", \"rm\", \"rn\", \"ro\", \"rq\", \"rr\", \"rs\", \"rt\", \"ru\", \"rv\", \"ry\", \"s2\", \"sa\", \"sc\", \"sd\", \"se\", \"sf\", \"si\", \"sj\", \"sl\", \"sm\", \"sn\", \"sp\", \"sq\", \"sr\", \"ss\", \"st\", \"sy\", \"sz\", \"t1\", \"t2\", \"t3\", \"tb\", \"tc\", \"td\", \"te\", \"tf\", \"th\", \"ti\", \"tj\", \"tl\", \"tm\", \"tn\", \"tp\", \"tq\", \"tr\", \"ts\", \"tt\", \"tv\", \"tx\", \"ue\", \"ui\", \"uj\", \"uk\", \"um\", \"un\", \"uo\", \"ur\", \"ut\", \"va\", \"wa\", \"vd\", \"wi\", \"vj\", \"vo\", \"wo\", \"vq\", \"vt\", \"vu\", \"x1\", \"x2\", \"x3\", \"xf\", \"xi\", \"xj\", \"xk\", \"xl\", \"xn\", \"xo\", \"xs\", \"xt\", \"xv\", \"xx\", \"y2\", \"yj\", \"yl\", \"yr\", \"ys\", \"yt\", \"zi\", \"zz\"]\n",
    "for i in range(len(stop_words)):\n",
    "    stopWords.append(stop_words[i])\n",
    "stopWords = set(stopWords)\n",
    "len(stopWords)"
   ]
  },
  {
   "cell_type": "code",
   "execution_count": 4,
   "metadata": {},
   "outputs": [
    {
     "data": {
      "text/plain": [
       "354287"
      ]
     },
     "execution_count": 4,
     "metadata": {},
     "output_type": "execute_result"
    }
   ],
   "source": [
    "# making dictionary of words present in given data files\n",
    "all_feature_list = {}\n",
    "\n",
    "#opening folders using os module and getting name of all classes\n",
    "path = \"C:/Users/Himanshu/AppData/Local/Programs/Python/Python37-32/Scripts/ML course/KNN and Bayes/20_newsgroups/\"\n",
    "folders = os.listdir(path)\n",
    "\n",
    "#Accessing each type of folder in 20_newsgroups folder\n",
    "for folder in folders:\n",
    "    folder_path = path + folder +\"/\"\n",
    "    file_list = os.listdir(folder_path)\n",
    "    \n",
    "    #Accesing each file in each class\n",
    "    for i in file_list:\n",
    "        file = open(folder_path+i,'r')\n",
    "        article = file.read()\n",
    "        \n",
    "        #Removing special characters or punctuation marks in article\n",
    "        new_article = \"\"\n",
    "        for character in article:\n",
    "            code= ord(character) #gives ASCII value of passed character\n",
    "            if(code<32 or code>32 and code<65 or code>90 and code<97 or code>122):\n",
    "                continue\n",
    "            else:\n",
    "                new_article+=character\n",
    "                \n",
    "        #Adding each word in article if its not a stopword\n",
    "        for word in new_article.split():\n",
    "            word = word.lower()\n",
    "            if word in all_feature_list:\n",
    "                all_feature_list[word] +=1\n",
    "            elif word in stopWords:\n",
    "                continue\n",
    "            else:\n",
    "                all_feature_list[word] = 1\n",
    "            \n",
    "len(all_feature_list)"
   ]
  },
  {
   "cell_type": "code",
   "execution_count": 5,
   "metadata": {},
   "outputs": [],
   "source": [
    "#soting keys in dictionary on basis of their values\n",
    "from collections import OrderedDict\n",
    "sorted_feature_list = OrderedDict(sorted(all_feature_list.items(),key = lambda x:x[1],reverse = True))"
   ]
  },
  {
   "cell_type": "code",
   "execution_count": 6,
   "metadata": {},
   "outputs": [
    {
     "data": {
      "text/plain": [
       "4600"
      ]
     },
     "execution_count": 6,
     "metadata": {},
     "output_type": "execute_result"
    }
   ],
   "source": [
    "#Choosing words have some decent frequency in whole dataset\n",
    "required_words = {}\n",
    "\n",
    "for word in sorted_feature_list.keys():\n",
    "    if(sorted_feature_list[word]>75):\n",
    "        required_words[word] = sorted_feature_list[word]\n",
    "\n",
    "len(required_words)"
   ]
  },
  {
   "cell_type": "code",
   "execution_count": 7,
   "metadata": {},
   "outputs": [],
   "source": [
    "#Making features list with the required words \n",
    "\n",
    "features = list(required_words.keys())"
   ]
  },
  {
   "cell_type": "markdown",
   "metadata": {},
   "source": [
    "# Making training data"
   ]
  },
  {
   "cell_type": "code",
   "execution_count": 8,
   "metadata": {},
   "outputs": [],
   "source": [
    "#Making empty np array for training dataset\n",
    "X_train = np.zeros((20000,len(features)),int)\n",
    "Y_train = np.zeros((20000,1),int)"
   ]
  },
  {
   "cell_type": "code",
   "execution_count": 9,
   "metadata": {},
   "outputs": [],
   "source": [
    "#Building X_train and Y_train by traversing each file\n",
    "path = \"C:/Users/Himanshu/AppData/Local/Programs/Python/Python37-32/Scripts/ML course/KNN and Bayes/20_newsgroups/\"\n",
    "folders = os.listdir(path)\n",
    "\n",
    "class_count = 0\n",
    "row_count = 0\n",
    "for folder in folders:\n",
    "    folder_path = path + folder +\"/\"\n",
    "    file_list = os.listdir(folder_path)\n",
    "    \n",
    "    for i in file_list:\n",
    "        file = open(folder_path+i,'r')\n",
    "        article = file.read()\n",
    "        \n",
    "        new_article = \"\"\n",
    "        for character in article:\n",
    "            code= ord(character) #gives ASCII value of passed character\n",
    "            if(code<32 or code>32 and code<65 or code>90 and code<97 or code>122):\n",
    "                continue\n",
    "            else:\n",
    "                new_article+=character\n",
    "                \n",
    "        #Adding each word in article if its not a stopword\n",
    "        for word in new_article.split():\n",
    "            word = word.lower()\n",
    "            if word in features:\n",
    "                colval = features.index(word)\n",
    "                X_train[row_count][colval] +=1\n",
    "    \n",
    "        Y_train[row_count][0] = class_count\n",
    "        row_count+=1\n",
    "    \n",
    "    class_count+=1\n",
    "                "
   ]
  },
  {
   "cell_type": "code",
   "execution_count": 10,
   "metadata": {},
   "outputs": [],
   "source": [
    "#Saving X_train & Y_train\n",
    "\n",
    "np.savetxt(\"X_train_Classification.csv\",X_train, fmt=\"%2.3f\", delimiter=',')\n",
    "np.savetxt(\"Y_train_Classification.csv\",Y_train, fmt=\"%2.3f\", delimiter=',')"
   ]
  },
  {
   "cell_type": "markdown",
   "metadata": {},
   "source": [
    "# Making Test Data"
   ]
  },
  {
   "cell_type": "code",
   "execution_count": 11,
   "metadata": {},
   "outputs": [],
   "source": [
    "#Making empty np array for testing dataset\n",
    "\n",
    "X_test= np.zeros((2000,len(features)),int)\n",
    "Y_test= np.zeros((2000,1),int)"
   ]
  },
  {
   "cell_type": "code",
   "execution_count": 12,
   "metadata": {},
   "outputs": [],
   "source": [
    "#Building X_test and Y_test by traversing each file\n",
    "path = \"C:/Users/Himanshu/AppData/Local/Programs/Python/Python37-32/Scripts/ML course/KNN and Bayes/mini_newsgroups/\"\n",
    "folders = os.listdir(path)\n",
    "\n",
    "class_count = 0\n",
    "row_count = 0\n",
    "for folder in folders:\n",
    "    folder_path = path + folder +\"/\"\n",
    "    file_list = os.listdir(folder_path)\n",
    "    \n",
    "    for i in file_list:\n",
    "        file = open(folder_path+i,'r')\n",
    "        article = file.read()\n",
    "        \n",
    "        new_article = \"\"\n",
    "        for character in article:\n",
    "            code= ord(character) #gives ASCII value of passed character\n",
    "            if(code<32 or code>32 and code<65 or code>90 and code<97 or code>122):\n",
    "                continue\n",
    "            else:\n",
    "                new_article+=character\n",
    "                \n",
    "        #Adding each word in article if its not a stopword\n",
    "        for word in new_article.split():\n",
    "            word = word.lower()\n",
    "            if word in features:\n",
    "                colval = features.index(word)\n",
    "                X_test[row_count][colval] +=1\n",
    "    \n",
    "        Y_test[row_count][0] = class_count\n",
    "        row_count+=1\n",
    "    \n",
    "    class_count+=1\n",
    "                "
   ]
  },
  {
   "cell_type": "markdown",
   "metadata": {},
   "source": [
    "## Inbuilt Classifier result"
   ]
  },
  {
   "cell_type": "code",
   "execution_count": 16,
   "metadata": {},
   "outputs": [
    {
     "name": "stderr",
     "output_type": "stream",
     "text": [
      "c:\\users\\himanshu\\appdata\\local\\programs\\python\\python37-32\\lib\\site-packages\\sklearn\\utils\\validation.py:724: DataConversionWarning: A column-vector y was passed when a 1d array was expected. Please change the shape of y to (n_samples, ), for example using ravel().\n",
      "  y = column_or_1d(y, warn=True)\n"
     ]
    }
   ],
   "source": [
    "clf= MultinomialNB()\n",
    "clf.fit(X_train,Y_train)\n",
    "clf_Y_pred= clf.predict(X_test)"
   ]
  },
  {
   "cell_type": "code",
   "execution_count": 17,
   "metadata": {},
   "outputs": [
    {
     "name": "stdout",
     "output_type": "stream",
     "text": [
      "              precision    recall  f1-score   support\n",
      "\n",
      "           0       0.77      0.88      0.82       100\n",
      "           1       0.89      0.89      0.89       100\n",
      "           2       0.89      0.94      0.91       100\n",
      "           3       0.91      0.91      0.91       100\n",
      "           4       0.92      0.97      0.95       100\n",
      "           5       0.97      0.94      0.95       100\n",
      "           6       0.92      0.95      0.94       100\n",
      "           7       0.97      0.97      0.97       100\n",
      "           8       0.96      0.97      0.97       100\n",
      "           9       0.98      0.97      0.97       100\n",
      "          10       1.00      0.97      0.98       100\n",
      "          11       0.97      0.97      0.97       100\n",
      "          12       0.92      0.93      0.93       100\n",
      "          13       0.98      0.93      0.95       100\n",
      "          14       0.96      0.96      0.96       100\n",
      "          15       0.98      0.98      0.98       100\n",
      "          16       0.79      0.92      0.85       100\n",
      "          17       0.98      0.95      0.96       100\n",
      "          18       0.84      0.73      0.78       100\n",
      "          19       0.75      0.61      0.67       100\n",
      "\n",
      "    accuracy                           0.92      2000\n",
      "   macro avg       0.92      0.92      0.92      2000\n",
      "weighted avg       0.92      0.92      0.92      2000\n",
      "\n",
      "[[88  0  0  0  0  0  0  0  0  0  0  0  0  1  0  1  1  0  1  8]\n",
      " [ 0 89  5  3  0  1  0  0  0  0  0  1  1  0  0  0  0  0  0  0]\n",
      " [ 0  1 94  4  0  0  0  0  0  0  0  0  0  0  1  0  0  0  0  0]\n",
      " [ 0  1  3 91  3  0  2  0  0  0  0  0  0  0  0  0  0  0  0  0]\n",
      " [ 0  0  1  1 97  0  1  0  0  0  0  0  0  0  0  0  0  0  0  0]\n",
      " [ 0  3  0  0  0 94  0  0  0  0  0  0  2  0  1  0  0  0  0  0]\n",
      " [ 0  0  1  1  1  0 95  1  0  0  0  0  1  0  0  0  0  0  0  0]\n",
      " [ 0  0  0  0  0  0  0 97  0  0  0  0  3  0  0  0  0  0  0  0]\n",
      " [ 0  0  0  0  0  1  1  0 97  0  0  0  0  0  0  0  0  0  1  0]\n",
      " [ 0  0  0  0  0  0  0  0  1 97  0  0  0  0  1  0  0  0  0  1]\n",
      " [ 0  0  0  0  0  0  0  0  0  1 97  0  0  1  0  0  0  0  1  0]\n",
      " [ 0  0  1  0  0  0  2  0  0  0  0 97  0  0  0  0  0  0  0  0]\n",
      " [ 0  1  1  0  2  0  1  1  1  0  0  0 93  0  0  0  0  0  0  0]\n",
      " [ 2  2  0  0  0  0  0  0  2  0  0  0  1 93  0  0  0  0  0  0]\n",
      " [ 0  2  0  0  1  1  0  0  0  0  0  0  0  0 96  0  0  0  0  0]\n",
      " [ 0  0  0  0  1  0  0  0  0  0  0  0  0  0  0 98  1  0  0  0]\n",
      " [ 0  1  0  0  0  0  0  0  0  0  0  2  0  0  0  0 92  0  3  2]\n",
      " [ 0  0  0  0  0  0  1  0  0  0  0  0  0  0  0  0  1 95  3  0]\n",
      " [ 0  0  0  0  0  0  0  1  0  1  0  0  0  0  1  0 13  2 73  9]\n",
      " [25  0  0  0  0  0  0  0  0  0  0  0  0  0  0  1  8  0  5 61]]\n",
      "0.917\n"
     ]
    }
   ],
   "source": [
    "print(classification_report(Y_test,clf_Y_pred))\n",
    "print(confusion_matrix(Y_test,clf_Y_pred))\n",
    "print(clf.score(X_test,Y_test))"
   ]
  },
  {
   "cell_type": "markdown",
   "metadata": {},
   "source": [
    "## Our own Implementation"
   ]
  },
  {
   "cell_type": "code",
   "execution_count": 19,
   "metadata": {},
   "outputs": [],
   "source": [
    "classes_name = folders"
   ]
  },
  {
   "cell_type": "code",
   "execution_count": 39,
   "metadata": {},
   "outputs": [],
   "source": [
    "#Fit Function\n",
    "#Making Dictionary to fit data\n",
    "\n",
    "def fit(X_train,Y_train):\n",
    "     result_dict= {}\n",
    "    \n",
    "     for current_class in set(Y_train[:,0]):\n",
    "        \n",
    "        result_dict[classes_name[current_class-1]]={}\n",
    "        result_dict[\"total_classes\"]=len(Y_train)\n",
    "        \n",
    "        current_class_tuples = (Y_train[:,0] == current_class)\n",
    "        X_train_current_class = X_train[current_class_tuples]\n",
    "        Y_train_current_class = Y_train[current_class_tuples]\n",
    "          \n",
    "        total_words_in_class=0\n",
    "        for j in range(X_train.shape[1]):\n",
    "            \n",
    "            total_words_in_feature= X_train_current_class[:,j].sum()\n",
    "                            \n",
    "            result_dict[classes_name[current_class-1]][j]=total_words_in_feature\n",
    "            total_words_in_class += total_words_in_feature\n",
    "        \n",
    "        result_dict[classes_name[current_class-1]][\"total_word_count\"]= total_words_in_class\n",
    "        result_dict[classes_name[current_class-1]][\"total_count\"]= len(Y_train_current_class)\n",
    "    \n",
    "     return result_dict"
   ]
  },
  {
   "cell_type": "code",
   "execution_count": 46,
   "metadata": {},
   "outputs": [],
   "source": [
    "#Probability function to return probabibility if particular data belongs to current class\n",
    "def probabilty(result_dict, x , current_class):\n",
    "    \n",
    "    output= np.log(result_dict[current_class][\"total_count\"])-np.log(result_dict[\"total_classes\"])\n",
    "    \n",
    "    for i in range(len(x)):\n",
    "        \n",
    "        if(x[i]==0):\n",
    "            continue\n",
    "        count_of_words_in_feature= result_dict[current_class][i] +1\n",
    "        total_count_of_words= result_dict[current_class][\"total_word_count\"]+ len(result_dict[current_class].keys())\n",
    "        \n",
    "        probability_of_feature_i= np.log(count_of_words_in_feature)- np.log(total_count_of_words)\n",
    "        \n",
    "        output = output + (probability_of_feature_i)*(x[i])\n",
    "    \n",
    "    return output"
   ]
  },
  {
   "cell_type": "code",
   "execution_count": 50,
   "metadata": {},
   "outputs": [],
   "source": [
    "#Function to predict best fit class for a particular data (or row).Compares all probabilities and return max probability class\n",
    "def predictSinglePoint(result_dict, x):\n",
    "    \n",
    "    classes= result_dict.keys()\n",
    "    \n",
    "    best_class_prob=-1000\n",
    "    best_class=-1000\n",
    "    first_run= True\n",
    "    \n",
    "    for i in classes:\n",
    "        \n",
    "        if(i==\"total_classes\"):\n",
    "            continue\n",
    "        probability_of_i= probabilty(result_dict, x ,i)\n",
    "        \n",
    "        if(first_run or probability_of_i> best_class_prob):\n",
    "            best_class=i\n",
    "            best_class_prob= probability_of_i\n",
    "        first_run=False\n",
    "    \n",
    "    return best_class"
   ]
  },
  {
   "cell_type": "code",
   "execution_count": 48,
   "metadata": {},
   "outputs": [],
   "source": [
    "# Predict function\n",
    "# constructs Y_pred for X_test\n",
    "\n",
    "def predict(result_dict, X_test):\n",
    "    \n",
    "    Y_predict=[]\n",
    "    \n",
    "    for x in X_test:\n",
    "        x_class = predictSinglePoint(result_dict,x)\n",
    "        Y_predict.append(x_class)\n",
    "    \n",
    "    Y_predict= np.array(Y_predict)\n",
    "    \n",
    "    return Y_predict"
   ]
  },
  {
   "cell_type": "markdown",
   "metadata": {},
   "source": [
    "# Running our implemented algorithm"
   ]
  },
  {
   "cell_type": "code",
   "execution_count": 43,
   "metadata": {},
   "outputs": [],
   "source": [
    "#Fitting the training data\n",
    "clf_dict = fit(X_train,Y_train)"
   ]
  },
  {
   "cell_type": "code",
   "execution_count": 58,
   "metadata": {},
   "outputs": [],
   "source": [
    "#Predicting the testing data in form of string\n",
    "Y_pred_string = predict(clf_dict,X_test)"
   ]
  },
  {
   "cell_type": "code",
   "execution_count": 62,
   "metadata": {},
   "outputs": [],
   "source": [
    "#Converting the predicted data to integer form\n",
    "Y_predict_integer = []\n",
    "for i in Y_pred:\n",
    "    for j in range(len(classes_name)):\n",
    "        if(i==classes_name[j]):\n",
    "            Y_predict_integer.append(j+1)\n",
    "            break;"
   ]
  },
  {
   "cell_type": "code",
   "execution_count": 67,
   "metadata": {},
   "outputs": [],
   "source": [
    "#Function to calculate score\n",
    "def score(Y_test,Y_pred):\n",
    "    count = 0\n",
    "    for i in range(len(Y_pred)):\n",
    "        \n",
    "        if(Y_pred[i]==Y_test[i][0]):\n",
    "            count+=1\n",
    "            \n",
    "    print(count/len(Y_test))"
   ]
  },
  {
   "cell_type": "code",
   "execution_count": 68,
   "metadata": {},
   "outputs": [
    {
     "name": "stdout",
     "output_type": "stream",
     "text": [
      "0.873\n"
     ]
    }
   ],
   "source": [
    "#Score for our own classifier\n",
    "score(Y_test,Y_predict_integer)"
   ]
  },
  {
   "cell_type": "code",
   "execution_count": 69,
   "metadata": {},
   "outputs": [
    {
     "name": "stdout",
     "output_type": "stream",
     "text": [
      "              precision    recall  f1-score   support\n",
      "\n",
      "           0       0.00      0.00      0.00       100\n",
      "           1       0.89      0.89      0.89       100\n",
      "           2       0.89      0.94      0.91       100\n",
      "           3       0.91      0.91      0.91       100\n",
      "           4       0.92      0.97      0.95       100\n",
      "           5       0.97      0.94      0.95       100\n",
      "           6       0.92      0.95      0.94       100\n",
      "           7       0.97      0.97      0.97       100\n",
      "           8       0.96      0.97      0.97       100\n",
      "           9       0.98      0.97      0.97       100\n",
      "          10       1.00      0.97      0.98       100\n",
      "          11       0.97      0.97      0.97       100\n",
      "          12       0.92      0.93      0.93       100\n",
      "          13       0.98      0.93      0.95       100\n",
      "          14       0.96      0.96      0.96       100\n",
      "          15       0.98      0.98      0.98       100\n",
      "          16       0.79      0.92      0.85       100\n",
      "          17       0.98      0.95      0.96       100\n",
      "          18       0.84      0.73      0.78       100\n",
      "          19       0.75      0.61      0.67       100\n",
      "          20       0.00      0.00      0.00         0\n",
      "\n",
      "    accuracy                           0.87      2000\n",
      "   macro avg       0.84      0.83      0.83      2000\n",
      "weighted avg       0.88      0.87      0.88      2000\n",
      "\n",
      "[[ 0  0  0  0  0  0  0  0  0  0  0  0  0  1  0  1  1  0  1  8 88]\n",
      " [ 0 89  5  3  0  1  0  0  0  0  0  1  1  0  0  0  0  0  0  0  0]\n",
      " [ 0  1 94  4  0  0  0  0  0  0  0  0  0  0  1  0  0  0  0  0  0]\n",
      " [ 0  1  3 91  3  0  2  0  0  0  0  0  0  0  0  0  0  0  0  0  0]\n",
      " [ 0  0  1  1 97  0  1  0  0  0  0  0  0  0  0  0  0  0  0  0  0]\n",
      " [ 0  3  0  0  0 94  0  0  0  0  0  0  2  0  1  0  0  0  0  0  0]\n",
      " [ 0  0  1  1  1  0 95  1  0  0  0  0  1  0  0  0  0  0  0  0  0]\n",
      " [ 0  0  0  0  0  0  0 97  0  0  0  0  3  0  0  0  0  0  0  0  0]\n",
      " [ 0  0  0  0  0  1  1  0 97  0  0  0  0  0  0  0  0  0  1  0  0]\n",
      " [ 0  0  0  0  0  0  0  0  1 97  0  0  0  0  1  0  0  0  0  1  0]\n",
      " [ 0  0  0  0  0  0  0  0  0  1 97  0  0  1  0  0  0  0  1  0  0]\n",
      " [ 0  0  1  0  0  0  2  0  0  0  0 97  0  0  0  0  0  0  0  0  0]\n",
      " [ 0  1  1  0  2  0  1  1  1  0  0  0 93  0  0  0  0  0  0  0  0]\n",
      " [ 0  2  0  0  0  0  0  0  2  0  0  0  1 93  0  0  0  0  0  0  2]\n",
      " [ 0  2  0  0  1  1  0  0  0  0  0  0  0  0 96  0  0  0  0  0  0]\n",
      " [ 0  0  0  0  1  0  0  0  0  0  0  0  0  0  0 98  1  0  0  0  0]\n",
      " [ 0  1  0  0  0  0  0  0  0  0  0  2  0  0  0  0 92  0  3  2  0]\n",
      " [ 0  0  0  0  0  0  1  0  0  0  0  0  0  0  0  0  1 95  3  0  0]\n",
      " [ 0  0  0  0  0  0  0  1  0  1  0  0  0  0  1  0 13  2 73  9  0]\n",
      " [ 0  0  0  0  0  0  0  0  0  0  0  0  0  0  0  1  8  0  5 61 25]\n",
      " [ 0  0  0  0  0  0  0  0  0  0  0  0  0  0  0  0  0  0  0  0  0]]\n"
     ]
    },
    {
     "name": "stderr",
     "output_type": "stream",
     "text": [
      "c:\\users\\himanshu\\appdata\\local\\programs\\python\\python37-32\\lib\\site-packages\\sklearn\\metrics\\classification.py:1437: UndefinedMetricWarning: Precision and F-score are ill-defined and being set to 0.0 in labels with no predicted samples.\n",
      "  'precision', 'predicted', average, warn_for)\n",
      "c:\\users\\himanshu\\appdata\\local\\programs\\python\\python37-32\\lib\\site-packages\\sklearn\\metrics\\classification.py:1439: UndefinedMetricWarning: Recall and F-score are ill-defined and being set to 0.0 in labels with no true samples.\n",
      "  'recall', 'true', average, warn_for)\n"
     ]
    }
   ],
   "source": [
    "#Printing classification report for our own classifier\n",
    "print(classification_report(Y_test,Y_predict_integer))\n",
    "print(confusion_matrix(Y_test,Y_predict_integer))"
   ]
  },
  {
   "cell_type": "code",
   "execution_count": 74,
   "metadata": {},
   "outputs": [
    {
     "name": "stdout",
     "output_type": "stream",
     "text": [
      "Sklearn accuracy:\n",
      "0.917\n",
      "Own Implementation:\n",
      "0.873\n"
     ]
    }
   ],
   "source": [
    "#Comparing inbuilt classifier and our own accuracy\n",
    "print(\"Sklearn accuracy:\" )\n",
    "print (clf.score(X_test,Y_test))\n",
    "print(\"Own Implementation:\" )\n",
    "score(Y_test,Y_predict_integer)\n",
    "\n",
    "#Can improve accuracy by taking more keywords and removing some other stopwords"
   ]
  },
  {
   "cell_type": "code",
   "execution_count": null,
   "metadata": {},
   "outputs": [],
   "source": [
    "def fit(X_train,Y_train):\n",
    "    \n",
    "    result = {}\n",
    "    classes = set(Y_train[:,0])\n",
    "    \n",
    "    for curr_class in classes:\n",
    "        result[curr_class] = {}\n",
    "        result[\"total_data\"] = len(Y_train)\n",
    "        curr_class_rows = (Y_train == curr_class)\n",
    "        X_train_curr_rows = X_train[curr_class_rows]\n",
    "        Y_train_curr_rows = Y_train[curr_class_rows]\n",
    "        \n",
    "        total_words_in_class = 0\n",
    "        for j in range(X_train.shape[1]):\n",
    "            total_feature_words = X_train_curr_rows[:,j].sum()\n",
    "            \n",
    "            result[curr_class][j] = total_feature_words\n",
    "            total_words_in_class += total_feature_words\n",
    "            \n",
    "        result[curr_class][\"total_words\"] = total_words_in_class\n",
    "        result[curr_class][\"total_count\"] = len(Y_train_curr_rows)\n",
    "        \n",
    "    return result"
   ]
  },
  {
   "cell_type": "code",
   "execution_count": null,
   "metadata": {},
   "outputs": [],
   "source": [
    "def probability(result,x,curr_class):\n",
    "    \n",
    "    output = np.log(result[curr_class][\"total_count\"]) - np.log(result[\"total_data\"])\n",
    "    for i in range(len(x)):\n",
    "        \n",
    "        if(x[i]==0):\n",
    "            continue\n",
    "        \n",
    "        count_of_word_feature = result[curr_class][i]+1\n",
    "        total_count_words = result[curr_class][\"total_count\"] + len(result[curr_class].keys())\n",
    "        probability_of_i_feat = np.log(count_of_word_feature)-np.log(total_count_words)\n",
    "        output += probability_of_i_feat\n",
    "        \n",
    "    return output\n",
    "    "
   ]
  },
  {
   "cell_type": "code",
   "execution_count": null,
   "metadata": {},
   "outputs": [],
   "source": [
    "def predictSinglePoint(result,x):\n",
    "    classes = result.keys()\n",
    "    \n",
    "    best_class = -1\n",
    "    most_probability = -1000\n",
    "    first_run = True\n",
    "    \n",
    "    for i in classes:\n",
    "        if i==\"Total_data\":\n",
    "            continue\n",
    "            \n",
    "        prob_of_i = probability(result,x,i)\n",
    "        \n",
    "        if(first_run or prob_of_i>most_probability):\n",
    "            most_probability = prob_of_i\n",
    "            best_class = i\n",
    "        first_run = False\n",
    "        \n",
    "    return best_class\n",
    "    "
   ]
  },
  {
   "cell_type": "code",
   "execution_count": null,
   "metadata": {},
   "outputs": [],
   "source": [
    "def predict(result,X_test):\n",
    "    Y_pred = []\n",
    "    \n",
    "    for x in X_test:\n",
    "        x_class = predictSinglePoint(result,x)\n",
    "        Y_pred.append(x_class)\n",
    "        \n",
    "    return Y_pred"
   ]
  },
  {
   "cell_type": "code",
   "execution_count": null,
   "metadata": {},
   "outputs": [],
   "source": []
  }
 ],
 "metadata": {
  "kernelspec": {
   "display_name": "Python 3",
   "language": "python",
   "name": "python3"
  },
  "language_info": {
   "codemirror_mode": {
    "name": "ipython",
    "version": 3
   },
   "file_extension": ".py",
   "mimetype": "text/x-python",
   "name": "python",
   "nbconvert_exporter": "python",
   "pygments_lexer": "ipython3",
   "version": "3.7.3"
  }
 },
 "nbformat": 4,
 "nbformat_minor": 2
}
