{
 "cells": [
  {
   "cell_type": "code",
   "execution_count": 16,
   "metadata": {},
   "outputs": [],
   "source": [
    "import numpy as np"
   ]
  },
  {
   "cell_type": "code",
   "execution_count": 100,
   "metadata": {},
   "outputs": [],
   "source": [
    "# checking redundant characters using ASCII table\n",
    "def ASCII(i):\n",
    "    if((i >= 0 and i <= 31) or (i >= 33 and i <= 64) or (i >= 91 and i <= 96) or (i >= 123 and i <= 127)):\n",
    "        return 1\n",
    "    else:\n",
    "        return 2"
   ]
  },
  {
   "cell_type": "code",
   "execution_count": 101,
   "metadata": {},
   "outputs": [],
   "source": [
    "# defining stop words\n",
    "stop_words = [\"a\", \"about\", \"above\", \"after\", \"again\", \"against\", \"ain\", \"all\", \"am\", \"an\", \"and\", \"any\", \"are\", \"aren\", \"aren't\", \"as\", \"at\", \"be\", \"because\", \"been\", \"before\", \"being\", \"below\", \"between\", \"both\", \"but\", \"by\", \"can\", \"couldn\", \"couldn't\", \"d\", \"did\", \"didn\", \"didn't\", \"do\", \"does\", \"doesn\", \"doesn't\", \"doing\", \"don\", \"don't\", \"down\", \"during\", \"each\", \"few\", \"for\", \"from\", \"further\", \"had\", \"hadn\", \"hadn't\", \"has\", \"hasn\", \"hasn't\", \"have\", \"haven\", \"haven't\", \"having\", \"he\", \"her\", \"here\", \"hers\", \"herself\", \"him\", \"himself\", \"his\", \"how\", \"i\", \"if\", \"in\", \"into\", \"is\", \"isn\", \"isn't\", \"it\", \"it's\", \"its\", \"itself\", \"just\", \"ll\", \"m\", \"ma\", \"me\", \"mightn\", \"mightn't\", \"more\", \"most\", \"mustn\", \"mustn't\", \"my\", \"myself\", \"needn\", \"needn't\", \"no\", \"nor\", \"not\", \"now\", \"o\", \"of\", \"off\", \"on\", \"once\", \"only\", \"or\", \"other\", \"our\", \"ours\", \"ourselves\", \"out\", \"over\", \"own\", \"re\", \"s\", \"same\", \"shan\", \"shan't\", \"she\", \"she's\", \"should\", \"should've\", \"shouldn\", \"shouldn't\", \"so\", \"some\", \"such\", \"t\", \"than\", \"that\", \"that'll\", \"the\", \"their\", \"theirs\", \"them\", \"themselves\", \"then\", \"there\", \"these\", \"they\", \"this\", \"those\", \"through\", \"to\", \"too\", \"under\", \"until\", \"up\", \"ve\", \"very\", \"was\", \"wasn\", \"wasn't\", \"we\", \"were\", \"weren\", \"weren't\", \"what\", \"when\", \"where\", \"which\", \"while\", \"who\", \"whom\", \"why\", \"will\", \"with\", \"won\", \"won't\", \"wouldn\", \"wouldn't\", \"y\", \"you\", \"you'd\", \"you'll\", \"you're\", \"you've\", \"your\", \"yours\", \"yourself\", \"yourselves\", \"could\", \"he'd\", \"he'll\", \"he's\", \"here's\", \"how's\", \"i'd\", \"i'll\", \"i'm\", \"i've\", \"let's\", \"ought\", \"she'd\", \"she'll\", \"that's\", \"there's\", \"they'd\", \"they'll\", \"they're\", \"they've\", \"we'd\", \"we'll\", \"we're\", \"we've\", \"what's\", \"when's\", \"where's\", \"who's\", \"why's\", \"would\", \"able\", \"abst\", \"accordance\", \"according\", \"accordingly\", \"across\", \"act\", \"actually\", \"added\", \"adj\", \"affected\", \"affecting\", \"affects\", \"afterwards\", \"ah\", \"almost\", \"alone\", \"along\", \"already\", \"also\", \"although\", \"always\", \"among\", \"amongst\", \"announce\", \"another\", \"anybody\", \"anyhow\", \"anymore\", \"anyone\", \"anything\", \"anyway\", \"anyways\", \"anywhere\", \"apparently\", \"approximately\", \"arent\", \"arise\", \"around\", \"aside\", \"ask\", \"asking\", \"auth\", \"available\", \"away\", \"awfully\", \"b\", \"back\", \"became\", \"become\", \"becomes\", \"becoming\", \"beforehand\", \"begin\", \"beginning\", \"beginnings\", \"begins\", \"behind\", \"believe\", \"beside\", \"besides\", \"beyond\", \"biol\", \"brief\", \"briefly\", \"c\", \"ca\", \"came\", \"cannot\", \"can't\", \"cause\", \"causes\", \"certain\", \"certainly\", \"co\", \"com\", \"come\", \"comes\", \"contain\", \"containing\", \"contains\", \"couldnt\", \"date\", \"different\", \"done\", \"downwards\", \"due\", \"e\", \"ed\", \"edu\", \"effect\", \"eg\", \"eight\", \"eighty\", \"either\", \"else\", \"elsewhere\", \"end\", \"ending\", \"enough\", \"especially\", \"et\", \"etc\", \"even\", \"ever\", \"every\", \"everybody\", \"everyone\", \"everything\", \"everywhere\", \"ex\", \"except\", \"f\", \"far\", \"ff\", \"fifth\", \"first\", \"five\", \"fix\", \"followed\", \"following\", \"follows\", \"former\", \"formerly\", \"forth\", \"found\", \"four\", \"furthermore\", \"g\", \"gave\", \"get\", \"gets\", \"getting\", \"give\", \"given\", \"gives\", \"giving\", \"go\", \"goes\", \"gone\", \"got\", \"gotten\", \"h\", \"happens\", \"hardly\", \"hed\", \"hence\", \"hereafter\", \"hereby\", \"herein\", \"heres\", \"hereupon\", \"hes\", \"hi\", \"hid\", \"hither\", \"home\", \"howbeit\", \"however\", \"hundred\", \"id\", \"ie\", \"im\", \"immediate\", \"immediately\", \"importance\", \"important\", \"inc\", \"indeed\", \"index\", \"information\", \"instead\", \"invention\", \"inward\", \"itd\", \"it'll\", \"j\", \"k\", \"keep\", \"keeps\", \"kept\", \"kg\", \"km\", \"know\", \"known\", \"knows\", \"l\", \"largely\", \"last\", \"lately\", \"later\", \"latter\", \"latterly\", \"least\", \"less\", \"lest\", \"let\", \"lets\", \"like\", \"liked\", \"likely\", \"line\", \"little\", \"'ll\", \"look\", \"looking\", \"looks\", \"ltd\", \"made\", \"mainly\", \"make\", \"makes\", \"many\", \"may\", \"maybe\", \"mean\", \"means\", \"meantime\", \"meanwhile\", \"merely\", \"mg\", \"might\", \"million\", \"miss\", \"ml\", \"moreover\", \"mostly\", \"mr\", \"mrs\", \"much\", \"mug\", \"must\", \"n\", \"na\", \"name\", \"namely\", \"nay\", \"nd\", \"near\", \"nearly\", \"necessarily\", \"necessary\", \"need\", \"needs\", \"neither\", \"never\", \"nevertheless\", \"new\", \"next\", \"nine\", \"ninety\", \"nobody\", \"non\", \"none\", \"nonetheless\", \"noone\", \"normally\", \"nos\", \"noted\", \"nothing\", \"nowhere\", \"obtain\", \"obtained\", \"obviously\", \"often\", \"oh\", \"ok\", \"okay\", \"old\", \"omitted\", \"one\", \"ones\", \"onto\", \"ord\", \"others\", \"otherwise\", \"outside\", \"overall\", \"owing\", \"p\", \"page\", \"pages\", \"part\", \"particular\", \"particularly\", \"past\", \"per\", \"perhaps\", \"placed\", \"please\", \"plus\", \"poorly\", \"possible\", \"possibly\", \"potentially\", \"pp\", \"predominantly\", \"present\", \"previously\", \"primarily\", \"probably\", \"promptly\", \"proud\", \"provides\", \"put\", \"q\", \"que\", \"quickly\", \"quite\", \"qv\", \"r\", \"ran\", \"rather\", \"rd\", \"readily\", \"really\", \"recent\", \"recently\", \"ref\", \"refs\", \"regarding\", \"regardless\", \"regards\", \"related\", \"relatively\", \"research\", \"respectively\", \"resulted\", \"resulting\", \"results\", \"right\", \"run\", \"said\", \"saw\", \"say\", \"saying\", \"says\", \"sec\", \"section\", \"see\", \"seeing\", \"seem\", \"seemed\", \"seeming\", \"seems\", \"seen\", \"self\", \"selves\", \"sent\", \"seven\", \"several\", \"shall\", \"shed\", \"shes\", \"show\", \"showed\", \"shown\", \"showns\", \"shows\", \"significant\", \"significantly\", \"similar\", \"similarly\", \"since\", \"six\", \"slightly\", \"somebody\", \"somehow\", \"someone\", \"somethan\", \"something\", \"sometime\", \"sometimes\", \"somewhat\", \"somewhere\", \"soon\", \"sorry\", \"specifically\", \"specified\", \"specify\", \"specifying\", \"still\", \"stop\", \"strongly\", \"sub\", \"substantially\", \"successfully\", \"sufficiently\", \"suggest\", \"sup\", \"sure\", \"take\", \"taken\", \"taking\", \"tell\", \"tends\", \"th\", \"thank\", \"thanks\", \"thanx\", \"thats\", \"that've\", \"thence\", \"thereafter\", \"thereby\", \"thered\", \"therefore\", \"therein\", \"there'll\", \"thereof\", \"therere\", \"theres\", \"thereto\", \"thereupon\", \"there've\", \"theyd\", \"theyre\", \"think\", \"thou\", \"though\", \"thoughh\", \"thousand\", \"throug\", \"throughout\", \"thru\", \"thus\", \"til\", \"tip\", \"together\", \"took\", \"toward\", \"towards\", \"tried\", \"tries\", \"truly\", \"try\", \"trying\", \"ts\", \"twice\", \"two\", \"u\", \"un\", \"unfortunately\", \"unless\", \"unlike\", \"unlikely\", \"unto\", \"upon\", \"ups\", \"us\", \"use\", \"used\", \"useful\", \"usefully\", \"usefulness\", \"uses\", \"using\", \"usually\", \"v\", \"value\", \"various\", \"'ve\", \"via\", \"viz\", \"vol\", \"vols\", \"vs\", \"w\", \"want\", \"wants\", \"wasnt\", \"way\", \"wed\", \"welcome\", \"went\", \"werent\", \"whatever\", \"what'll\", \"whats\", \"whence\", \"whenever\", \"whereafter\", \"whereas\", \"whereby\", \"wherein\", \"wheres\", \"whereupon\", \"wherever\", \"whether\", \"whim\", \"whither\", \"whod\", \"whoever\", \"whole\", \"who'll\", \"whomever\", \"whos\", \"whose\", \"widely\", \"willing\", \"wish\", \"within\", \"without\", \"wont\", \"words\", \"world\", \"wouldnt\", \"www\", \"x\", \"yes\", \"yet\", \"youd\", \"youre\", \"z\", \"zero\", \"a's\", \"ain't\", \"allow\", \"allows\", \"apart\", \"appear\", \"appreciate\", \"appropriate\", \"associated\", \"best\", \"better\", \"c'mon\", \"c's\", \"cant\", \"changes\", \"clearly\", \"concerning\", \"consequently\", \"consider\", \"considering\", \"corresponding\", \"course\", \"currently\", \"definitely\", \"described\", \"despite\", \"entirely\", \"exactly\", \"example\", \"going\", \"greetings\", \"hello\", \"help\", \"hopefully\", \"ignored\", \"inasmuch\", \"indicate\", \"indicated\", \"indicates\", \"inner\", \"insofar\", \"it'd\", \"keep\", \"keeps\", \"novel\", \"presumably\", \"reasonably\", \"second\", \"secondly\", \"sensible\", \"serious\", \"seriously\", \"sure\", \"t's\", \"third\", \"thorough\", \"thoroughly\", \"three\", \"well\", \"wonder\", \"a\", \"about\", \"above\", \"above\", \"across\", \"after\", \"afterwards\", \"again\", \"against\", \"all\", \"almost\", \"alone\", \"along\", \"already\", \"also\", \"although\", \"always\", \"am\", \"among\", \"amongst\", \"amoungst\", \"amount\", \"an\", \"and\", \"another\", \"any\", \"anyhow\", \"anyone\", \"anything\", \"anyway\", \"anywhere\", \"are\", \"around\", \"as\", \"at\", \"back\", \"be\", \"became\", \"because\", \"become\", \"becomes\", \"becoming\", \"been\", \"before\", \"beforehand\", \"behind\", \"being\", \"below\", \"beside\", \"besides\", \"between\", \"beyond\", \"bill\", \"both\", \"bottom\", \"but\", \"by\", \"call\", \"can\", \"cannot\", \"cant\", \"co\", \"con\", \"could\", \"couldnt\", \"cry\", \"de\", \"describe\", \"detail\", \"do\", \"done\", \"down\", \"due\", \"during\", \"each\", \"eg\", \"eight\", \"either\", \"eleven\", \"else\", \"elsewhere\", \"empty\", \"enough\", \"etc\", \"even\", \"ever\", \"every\", \"everyone\", \"everything\", \"everywhere\", \"except\", \"few\", \"fifteen\", \"fify\", \"fill\", \"find\", \"fire\", \"first\", \"five\", \"for\", \"former\", \"formerly\", \"forty\", \"found\", \"four\", \"from\", \"front\", \"full\", \"further\", \"get\", \"give\", \"go\", \"had\", \"has\", \"hasnt\", \"have\", \"he\", \"hence\", \"her\", \"here\", \"hereafter\", \"hereby\", \"herein\", \"hereupon\", \"hers\", \"herself\", \"him\", \"himself\", \"his\", \"how\", \"however\", \"hundred\", \"ie\", \"if\", \"in\", \"inc\", \"indeed\", \"interest\", \"into\", \"is\", \"it\", \"its\", \"itself\", \"keep\", \"last\", \"latter\", \"latterly\", \"least\", \"less\", \"ltd\", \"made\", \"many\", \"may\", \"me\", \"meanwhile\", \"might\", \"mill\", \"mine\", \"more\", \"moreover\", \"most\", \"mostly\", \"move\", \"much\", \"must\", \"my\", \"myself\", \"name\", \"namely\", \"neither\", \"never\", \"nevertheless\", \"next\", \"nine\", \"no\", \"nobody\", \"none\", \"noone\", \"nor\", \"not\", \"nothing\", \"now\", \"nowhere\", \"of\", \"off\", \"often\", \"on\", \"once\", \"one\", \"only\", \"onto\", \"or\", \"other\", \"others\", \"otherwise\", \"our\", \"ours\", \"ourselves\", \"out\", \"over\", \"own\", \"part\", \"per\", \"perhaps\", \"please\", \"put\", \"rather\", \"re\", \"same\", \"see\", \"seem\", \"seemed\", \"seeming\", \"seems\", \"serious\", \"several\", \"she\", \"should\", \"show\", \"side\", \"since\", \"sincere\", \"six\", \"sixty\", \"so\", \"some\", \"somehow\", \"someone\", \"something\", \"sometime\", \"sometimes\", \"somewhere\", \"still\", \"such\", \"system\", \"take\", \"ten\", \"than\", \"that\", \"the\", \"their\", \"them\", \"themselves\", \"then\", \"thence\", \"there\", \"thereafter\", \"thereby\", \"therefore\", \"therein\", \"thereupon\", \"these\", \"they\", \"thickv\", \"thin\", \"third\", \"this\", \"those\", \"though\", \"three\", \"through\", \"throughout\", \"thru\", \"thus\", \"to\", \"together\", \"too\", \"top\", \"toward\", \"towards\", \"twelve\", \"twenty\", \"two\", \"un\", \"under\", \"until\", \"up\", \"upon\", \"us\", \"very\", \"via\", \"was\", \"we\", \"well\", \"were\", \"what\", \"whatever\", \"when\", \"whence\", \"whenever\", \"where\", \"whereafter\", \"whereas\", \"whereby\", \"wherein\", \"whereupon\", \"wherever\", \"whether\", \"which\", \"while\", \"whither\", \"who\", \"whoever\", \"whole\", \"whom\", \"whose\", \"why\", \"will\", \"with\", \"within\", \"without\", \"would\", \"yet\", \"you\", \"your\", \"yours\", \"yourself\", \"yourselves\", \"the\", \"a\", \"b\", \"c\", \"d\", \"e\", \"f\", \"g\", \"h\", \"i\", \"j\", \"k\", \"l\", \"m\", \"n\", \"o\", \"p\", \"q\", \"r\", \"s\", \"t\", \"u\", \"v\", \"w\", \"x\", \"y\", \"z\", \"A\", \"B\", \"C\", \"D\", \"E\", \"F\", \"G\", \"H\", \"I\", \"J\", \"K\", \"L\", \"M\", \"N\", \"O\", \"P\", \"Q\", \"R\", \"S\", \"T\", \"U\", \"V\", \"W\", \"X\", \"Y\", \"Z\", \"co\", \"op\", \"research-articl\", \"pagecount\", \"cit\", \"ibid\", \"les\", \"le\", \"au\", \"que\", \"est\", \"pas\", \"vol\", \"el\", \"los\", \"pp\", \"u201d\", \"well-b\", \"http\", \"volumtype\", \"par\", \"0o\", \"0s\", \"3a\", \"3b\", \"3d\", \"6b\", \"6o\", \"a1\", \"a2\", \"a3\", \"a4\", \"ab\", \"ac\", \"ad\", \"ae\", \"af\", \"ag\", \"aj\", \"al\", \"an\", \"ao\", \"ap\", \"ar\", \"av\", \"aw\", \"ax\", \"ay\", \"az\", \"b1\", \"b2\", \"b3\", \"ba\", \"bc\", \"bd\", \"be\", \"bi\", \"bj\", \"bk\", \"bl\", \"bn\", \"bp\", \"br\", \"bs\", \"bt\", \"bu\", \"bx\", \"c1\", \"c2\", \"c3\", \"cc\", \"cd\", \"ce\", \"cf\", \"cg\", \"ch\", \"ci\", \"cj\", \"cl\", \"cm\", \"cn\", \"cp\", \"cq\", \"cr\", \"cs\", \"ct\", \"cu\", \"cv\", \"cx\", \"cy\", \"cz\", \"d2\", \"da\", \"dc\", \"dd\", \"de\", \"df\", \"di\", \"dj\", \"dk\", \"dl\", \"do\", \"dp\", \"dr\", \"ds\", \"dt\", \"du\", \"dx\", \"dy\", \"e2\", \"e3\", \"ea\", \"ec\", \"ed\", \"ee\", \"ef\", \"ei\", \"ej\", \"el\", \"em\", \"en\", \"eo\", \"ep\", \"eq\", \"er\", \"es\", \"et\", \"eu\", \"ev\", \"ex\", \"ey\", \"f2\", \"fa\", \"fc\", \"ff\", \"fi\", \"fj\", \"fl\", \"fn\", \"fo\", \"fr\", \"fs\", \"ft\", \"fu\", \"fy\", \"ga\", \"ge\", \"gi\", \"gj\", \"gl\", \"go\", \"gr\", \"gs\", \"gy\", \"h2\", \"h3\", \"hh\", \"hi\", \"hj\", \"ho\", \"hr\", \"hs\", \"hu\", \"hy\", \"i\", \"i2\", \"i3\", \"i4\", \"i6\", \"i7\", \"i8\", \"ia\", \"ib\", \"ic\", \"ie\", \"ig\", \"ih\", \"ii\", \"ij\", \"il\", \"in\", \"io\", \"ip\", \"iq\", \"ir\", \"iv\", \"ix\", \"iy\", \"iz\", \"jj\", \"jr\", \"js\", \"jt\", \"ju\", \"ke\", \"kg\", \"kj\", \"km\", \"ko\", \"l2\", \"la\", \"lb\", \"lc\", \"lf\", \"lj\", \"ln\", \"lo\", \"lr\", \"ls\", \"lt\", \"m2\", \"ml\", \"mn\", \"mo\", \"ms\", \"mt\", \"mu\", \"n2\", \"nc\", \"nd\", \"ne\", \"ng\", \"ni\", \"nj\", \"nl\", \"nn\", \"nr\", \"ns\", \"nt\", \"ny\", \"oa\", \"ob\", \"oc\", \"od\", \"of\", \"og\", \"oi\", \"oj\", \"ol\", \"om\", \"on\", \"oo\", \"oq\", \"or\", \"os\", \"ot\", \"ou\", \"ow\", \"ox\", \"oz\", \"p1\", \"p2\", \"p3\", \"pc\", \"pd\", \"pe\", \"pf\", \"ph\", \"pi\", \"pj\", \"pk\", \"pl\", \"pm\", \"pn\", \"po\", \"pq\", \"pr\", \"ps\", \"pt\", \"pu\", \"py\", \"qj\", \"qu\", \"r2\", \"ra\", \"rc\", \"rd\", \"rf\", \"rh\", \"ri\", \"rj\", \"rl\", \"rm\", \"rn\", \"ro\", \"rq\", \"rr\", \"rs\", \"rt\", \"ru\", \"rv\", \"ry\", \"s2\", \"sa\", \"sc\", \"sd\", \"se\", \"sf\", \"si\", \"sj\", \"sl\", \"sm\", \"sn\", \"sp\", \"sq\", \"sr\", \"ss\", \"st\", \"sy\", \"sz\", \"t1\", \"t2\", \"t3\", \"tb\", \"tc\", \"td\", \"te\", \"tf\", \"th\", \"ti\", \"tj\", \"tl\", \"tm\", \"tn\", \"tp\", \"tq\", \"tr\", \"ts\", \"tt\", \"tv\", \"tx\", \"ue\", \"ui\", \"uj\", \"uk\", \"um\", \"un\", \"uo\", \"ur\", \"ut\", \"va\", \"wa\", \"vd\", \"wi\", \"vj\", \"vo\", \"wo\", \"vq\", \"vt\", \"vu\", \"x1\", \"x2\", \"x3\", \"xf\", \"xi\", \"xj\", \"xk\", \"xl\", \"xn\", \"xo\", \"xs\", \"xt\", \"xv\", \"xx\", \"y2\", \"yj\", \"yl\", \"yr\", \"ys\", \"yt\", \"zi\", \"zz\"]"
   ]
  },
  {
   "cell_type": "code",
   "execution_count": 102,
   "metadata": {},
   "outputs": [],
   "source": [
    "# removing all the special characters from the training files and writing to the files without all the special characters\n",
    "totalCollection = list()\n",
    "dictionary = {}\n",
    "for i in range(1,21):\n",
    "    for j in range(1,1001):\n",
    "        path = \"C:/Users/tanej/Python/Naive Bayes/Text Classification/Training Data/class(\" + str(i) + \")/doc (\" + str(j) + \")\"\n",
    "        myfile = open(path,'r')\n",
    "        file = myfile.read()\n",
    "        for k in file:\n",
    "            asciiValue = ord(k)\n",
    "            \n",
    "            # calling ASCII function to remove the special characters\n",
    "            \n",
    "            answer = ASCII(asciiValue)\n",
    "            if(answer == 1):\n",
    "                file = file.replace(k,\" \")\n",
    "        totalCollection += file.split()\n",
    "        myfile.close()\n",
    "        # writing to the file to remove all the characters so we don't have to remove it again and again later on\n",
    "        myfile = open(path,\"w\")\n",
    "        \n",
    "        # writing to the file\n",
    "        \n",
    "        myfile.write(file)\n",
    "        myfile.close()"
   ]
  },
  {
   "cell_type": "code",
   "execution_count": 103,
   "metadata": {},
   "outputs": [],
   "source": [
    "# removing all the special characters from the testing files and writing to the files without all the special characters\n",
    "for i in range(1,21):\n",
    "    for j in range(1,101):\n",
    "        path = \"C:/Users/tanej/Python/Naive Bayes/Text Classification/Testing Data/class(\" + str(i) + \")/doc (\" + str(j) + \")\"\n",
    "        myfile = open(path,'r')\n",
    "        file = myfile.read()\n",
    "        for k in file:\n",
    "            asciiValue = ord(k)\n",
    "            \n",
    "            # calling ASCII function to remove the special characters\n",
    "            \n",
    "            answer = ASCII(asciiValue)\n",
    "            if(answer == 1):\n",
    "                file = file.replace(k,\" \")\n",
    "        myfile.close()\n",
    "        # writing to the file to remove all the characters so we don't have to remove it again and again later on\n",
    "        myfile = open(path,\"w\")\n",
    "        \n",
    "        # writing to the file\n",
    "        \n",
    "        myfile.write(file)\n",
    "        myfile.close()"
   ]
  },
  {
   "cell_type": "code",
   "execution_count": 104,
   "metadata": {},
   "outputs": [],
   "source": [
    "# making a dictionary of all the words without the stop words\n",
    "for word in totalCollection:\n",
    "    if word in stop_words:\n",
    "        continue\n",
    "    else:\n",
    "        if word in dictionary:\n",
    "            dictionary[word] += 1\n",
    "        else:\n",
    "            dictionary[word] = 1"
   ]
  },
  {
   "cell_type": "code",
   "execution_count": 108,
   "metadata": {},
   "outputs": [
    {
     "data": {
      "text/plain": [
       "154908"
      ]
     },
     "execution_count": 108,
     "metadata": {},
     "output_type": "execute_result"
    }
   ],
   "source": [
    "# checking the length of the dictionary\n",
    "len(dictionary)"
   ]
  },
  {
   "cell_type": "code",
   "execution_count": 109,
   "metadata": {},
   "outputs": [],
   "source": [
    "# importing OrderedDict to sort the dictionary we made in descending order of the values\n",
    "from collections import OrderedDict \n",
    "sorted_dictionary = OrderedDict(sorted(dictionary.items() , key = lambda x:x[1] , reverse = True))   # reverse = True to sort it in the descending order"
   ]
  },
  {
   "cell_type": "code",
   "execution_count": 110,
   "metadata": {},
   "outputs": [
    {
     "data": {
      "text/plain": [
       "154908"
      ]
     },
     "execution_count": 110,
     "metadata": {},
     "output_type": "execute_result"
    }
   ],
   "source": [
    "len(sorted_dictionary)"
   ]
  },
  {
   "cell_type": "code",
   "execution_count": 182,
   "metadata": {},
   "outputs": [],
   "source": [
    "# making the dictionary that we require i.e. selecting only few words and making it's dictionaries\n",
    "required_dictionary = {}\n",
    "for value in sorted_dictionary:\n",
    "    if sorted_dictionary[value] >= 160:\n",
    "        required_dictionary[value] = sorted_dictionary[value]\n",
    "    if sorted_dictionary[value] < 160:\n",
    "        break"
   ]
  },
  {
   "cell_type": "code",
   "execution_count": 161,
   "metadata": {},
   "outputs": [],
   "source": [
    "# count_start = 300\n",
    "# count_end = 3700\n",
    "# count = 0;\n",
    "# required_dictionary = {}\n",
    "# for word in sorted_dictionary:\n",
    "#     count += 1\n",
    "#     if(count >= count_start and count <= count_end):\n",
    "#         required_dictionary[word] = sorted_dictionary[word]\n",
    "#     elif(count == count_end):\n",
    "#         break"
   ]
  },
  {
   "cell_type": "code",
   "execution_count": 184,
   "metadata": {},
   "outputs": [
    {
     "data": {
      "text/plain": [
       "3682"
      ]
     },
     "execution_count": 184,
     "metadata": {},
     "output_type": "execute_result"
    }
   ],
   "source": [
    "len(required_dictionary)"
   ]
  },
  {
   "cell_type": "code",
   "execution_count": 185,
   "metadata": {},
   "outputs": [],
   "source": [
    "# making a list of all the keys of the required dictionary so that we can compare with the index later on \n",
    "# when we are running testing and training data\n",
    "features = list(required_dictionary.keys())"
   ]
  },
  {
   "cell_type": "markdown",
   "metadata": {},
   "source": [
    "### making numpy training arrays X_train and Y_train"
   ]
  },
  {
   "cell_type": "code",
   "execution_count": 186,
   "metadata": {},
   "outputs": [],
   "source": [
    "X_train = np.zeros((20000,len(required_dictionary)), dtype = int)\n",
    "Y_train = np.zeros((20000), dtype = int)"
   ]
  },
  {
   "cell_type": "markdown",
   "metadata": {},
   "source": [
    "## modifying values in numpy Training arrays X_train and Y_train"
   ]
  },
  {
   "cell_type": "code",
   "execution_count": 187,
   "metadata": {},
   "outputs": [],
   "source": [
    "index = -1\n",
    "for class_no in range(1,21):\n",
    "    for doc_no in range(1,1001):\n",
    "        path = \"C:/Users/tanej/Python/Naive Bayes/Text Classification/Training Data/class(\" + str(class_no) + \")/doc (\" + str(doc_no) + \")\"\n",
    "        myfile = open(path,'r')\n",
    "        file = myfile.read()\n",
    "        new_file = file.split()\n",
    "        for word in new_file:\n",
    "            if word in features:\n",
    "                index = features.index(word)\n",
    "                X_train[((class_no - 1) * 1000) + (doc_no - 1)][index] += 1\n",
    "                Y_train[((class_no - 1) * 1000) + (doc_no - 1)] = (class_no - 1)\n",
    "        myfile.close()"
   ]
  },
  {
   "cell_type": "code",
   "execution_count": 216,
   "metadata": {},
   "outputs": [],
   "source": [
    "# saving the X_test and Y_test as .csv file\n",
    "\n",
    "np.savetxt(\"X_train_text_classification_using_Naive_Bayes.csv\", X_train, fmt=\"%2.3f\", delimiter=\",\")\n",
    "np.savetxt(\"Y_train_text_classification_using_Naive_Bayes.csv\", Y_train, fmt=\"%2.3f\", delimiter=\",\")"
   ]
  },
  {
   "cell_type": "markdown",
   "metadata": {},
   "source": [
    "### making numpy testing arrays X_test and Y_test"
   ]
  },
  {
   "cell_type": "code",
   "execution_count": 189,
   "metadata": {},
   "outputs": [],
   "source": [
    "X_test = np.zeros((2000,len(required_dictionary)), dtype = int)\n",
    "Y_test = np.zeros((2000), dtype = int)"
   ]
  },
  {
   "cell_type": "markdown",
   "metadata": {},
   "source": [
    "## modifying values in numpy Testing Arrays X_train and Y_train"
   ]
  },
  {
   "cell_type": "code",
   "execution_count": 190,
   "metadata": {},
   "outputs": [],
   "source": [
    "index = -1\n",
    "for class_no in range(1,21):\n",
    "    for doc_no in range(1,101):\n",
    "        path = \"C:/Users/tanej/Python/Naive Bayes/Text Classification/Testing Data/class(\" + str(class_no) + \")/doc (\" + str(doc_no) + \")\"\n",
    "        myfile = open(path,'r')\n",
    "        file = myfile.read()\n",
    "        new_file = file.split()\n",
    "        for word in new_file:\n",
    "            if word in features:\n",
    "                index = features.index(word)\n",
    "                X_test[((class_no - 1) * 100) + (doc_no - 1)][index] += 1\n",
    "                Y_test[((class_no - 1) * 100) + (doc_no - 1)] = (class_no - 1)\n",
    "        myfile.close()"
   ]
  },
  {
   "cell_type": "code",
   "execution_count": 217,
   "metadata": {},
   "outputs": [],
   "source": [
    "# saving the X_train and Y_train as .csv file\n",
    "\n",
    "np.savetxt(\"X_test_text_classification_using_Naive_Bayes.csv\", X_test, fmt=\"%2.3f\", delimiter=\",\")\n",
    "np.savetxt(\"Y_test_text_classification_using_Naive_Bayes.csv\", Y_test, fmt=\"%2.3f\", delimiter=\",\")"
   ]
  },
  {
   "cell_type": "code",
   "execution_count": 218,
   "metadata": {},
   "outputs": [],
   "source": [
    "# taking data from the saved csv file of X_train, X_test, Y_train, Y_test\n",
    "X_train = np.genfromtxt(\"X_train_text_classification_using_Naive_Bayes.csv\", delimiter = ',')\n",
    "Y_train = np.genfromtxt(\"Y_train_text_classification_using_Naive_Bayes.csv\", delimiter = ',')\n",
    "X_test = np.genfromtxt(\"X_test_text_classification_using_Naive_Bayes.csv\", delimiter = ',')\n",
    "Y_test = np.genfromtxt(\"Y_test_text_classification_using_Naive_Bayes.csv\", delimiter = ',')"
   ]
  },
  {
   "cell_type": "code",
   "execution_count": 219,
   "metadata": {},
   "outputs": [],
   "source": [
    "def fit(X_train, Y_train) :\n",
    "    result = {}\n",
    "    class_values = set(Y_train)    \n",
    "    \n",
    "    for current_class in class_values :\n",
    "        result[current_class] = {}\n",
    "        result[\"total_data\"] = len(Y_train)   # total number of training data values\n",
    "        current_class_rows = (Y_train == current_class)\n",
    "        X_train_current = X_train[current_class_rows]\n",
    "        Y_train_current = Y_train[current_class_rows]\n",
    "        \n",
    "        num_features = X_train.shape[1]\n",
    "        \n",
    "        total_word_count = 0\n",
    "        \n",
    "        result[current_class][\"total_count\"] = len(Y_train_current)  # so we have total count of the current class\n",
    "        for j in range(0, num_features):\n",
    "            result[current_class][j] = X_train_current[:,j].sum()\n",
    "            total_word_count += X_train_current[:,j].sum()\n",
    "            \n",
    "        result[current_class][\"total_word_count\"] = total_word_count\n",
    "        \n",
    "    return result"
   ]
  },
  {
   "cell_type": "code",
   "execution_count": 220,
   "metadata": {},
   "outputs": [],
   "source": [
    "def probability(dictionary, x, current_class):\n",
    "    output = np.log(dictionary[current_class][\"total_count\"]) - np.log(dictionary[\"total_data\"])\n",
    "    \n",
    "    num_features = len(x)\n",
    "    \n",
    "    for j in range(0, num_features):\n",
    "        if(x[j] == 0):\n",
    "            continue\n",
    "        else:\n",
    "            count_of_word_in_feature = dictionary[current_class][j] + 1\n",
    "            count_of_total_words = dictionary[current_class][\"total_word_count\"] + num_features\n",
    "            current_probability = np.log(count_of_word_in_feature) - np.log(count_of_total_words)\n",
    "            \n",
    "            output = output + (current_probability) * x[j]\n",
    "    return output"
   ]
  },
  {
   "cell_type": "code",
   "execution_count": 221,
   "metadata": {},
   "outputs": [],
   "source": [
    "def predictSinglePoint(dictionary, x):\n",
    "    classes = dictionary.keys()\n",
    "    best_p = -1000      \n",
    "    best_class= -1      \n",
    "    first_run = True    \n",
    "    for current_class in classes:\n",
    "        if(current_class == \"total_data\"):    \n",
    "            continue\n",
    "        p_current_class = probability(dictionary, x, current_class)  \n",
    "        if(first_run or p_current_class > best_p):\n",
    "            best_p = p_current_class\n",
    "            best_class = current_class\n",
    "        first_run = False\n",
    "    return best_class"
   ]
  },
  {
   "cell_type": "code",
   "execution_count": 222,
   "metadata": {},
   "outputs": [],
   "source": [
    "def predict(dictionary, X_test) :\n",
    "    y_pred = []\n",
    "    for x in X_test :\n",
    "        x_class = predictSinglePoint(dictionary, x)\n",
    "        y_pred.append(x_class)\n",
    "    return y_pred"
   ]
  },
  {
   "cell_type": "code",
   "execution_count": 223,
   "metadata": {},
   "outputs": [],
   "source": [
    "dictionary = fit(X_train,Y_train)"
   ]
  },
  {
   "cell_type": "code",
   "execution_count": 224,
   "metadata": {},
   "outputs": [],
   "source": [
    "Y_pred = predict(dictionary,X_test)"
   ]
  },
  {
   "cell_type": "code",
   "execution_count": 225,
   "metadata": {},
   "outputs": [
    {
     "name": "stdout",
     "output_type": "stream",
     "text": [
      "              precision    recall  f1-score   support\n",
      "\n",
      "         0.0       0.83      0.85      0.84       101\n",
      "         1.0       0.78      0.91      0.84       100\n",
      "         2.0       1.00      0.11      0.20        99\n",
      "         3.0       0.68      0.90      0.78       100\n",
      "         4.0       0.89      0.94      0.91       100\n",
      "         5.0       0.73      0.91      0.81       100\n",
      "         6.0       0.84      0.99      0.91       100\n",
      "         7.0       0.96      0.96      0.96       100\n",
      "         8.0       0.95      0.98      0.97       100\n",
      "         9.0       0.98      0.94      0.96       100\n",
      "        10.0       0.97      0.95      0.96       100\n",
      "        11.0       0.98      0.97      0.97       100\n",
      "        12.0       0.89      0.93      0.91       100\n",
      "        13.0       0.97      0.95      0.96       100\n",
      "        14.0       0.98      0.95      0.96       100\n",
      "        15.0       0.98      0.99      0.99       100\n",
      "        16.0       0.82      0.92      0.87       100\n",
      "        17.0       0.97      0.90      0.93       100\n",
      "        18.0       0.83      0.72      0.77       100\n",
      "        19.0       0.73      0.73      0.73       100\n",
      "\n",
      "   micro avg       0.88      0.88      0.88      2000\n",
      "   macro avg       0.89      0.88      0.86      2000\n",
      "weighted avg       0.89      0.88      0.86      2000\n",
      "\n",
      "[[86  0  0  0  0  0  0  1  0  0  0  0  0  0  0  1  0  0  1 12]\n",
      " [ 0 91  0  4  1  1  0  0  0  0  0  0  3  0  0  0  0  0  0  0]\n",
      " [ 0 15 11 31  2 31  6  0  0  0  0  0  3  0  0  0  0  0  0  0]\n",
      " [ 0  1  0 90  6  0  3  0  0  0  0  0  0  0  0  0  0  0  0  0]\n",
      " [ 0  0  0  4 94  1  1  0  0  0  0  0  0  0  0  0  0  0  0  0]\n",
      " [ 0  5  0  0  1 91  1  0  0  0  0  0  1  1  0  0  0  0  0  0]\n",
      " [ 0  0  0  0  0  0 99  1  0  0  0  0  0  0  0  0  0  0  0  0]\n",
      " [ 0  0  0  1  0  0  1 96  1  0  0  0  1  0  0  0  0  0  0  0]\n",
      " [ 0  0  0  0  0  0  1  1 98  0  0  0  0  0  0  0  0  0  0  0]\n",
      " [ 0  0  0  0  0  0  2  1  0 94  3  0  0  0  0  0  0  0  0  0]\n",
      " [ 0  0  0  0  0  0  0  0  0  2 95  0  0  1  1  0  0  0  1  0]\n",
      " [ 0  1  0  0  0  0  1  0  0  0  0 97  0  1  0  0  0  0  0  0]\n",
      " [ 0  1  0  2  1  0  2  0  0  0  0  0 93  0  1  0  0  0  0  0]\n",
      " [ 0  1  0  0  0  0  0  0  2  0  0  0  1 95  0  0  0  0  1  0]\n",
      " [ 0  2  0  0  1  0  0  0  0  0  0  1  1  0 95  0  0  0  0  0]\n",
      " [ 0  0  0  0  0  0  0  0  0  0  0  0  1  0  0 99  0  0  0  0]\n",
      " [ 0  0  0  0  0  0  0  0  2  0  0  1  0  0  0  0 92  0  3  2]\n",
      " [ 0  0  0  0  0  0  1  0  0  0  0  0  0  0  0  0  3 90  6  0]\n",
      " [ 0  0  0  0  0  0  0  0  0  0  0  0  0  0  0  0 12  3 72 13]\n",
      " [18  0  0  0  0  0  0  0  0  0  0  0  0  0  0  1  5  0  3 73]]\n"
     ]
    }
   ],
   "source": [
    "from sklearn.metrics import classification_report, confusion_matrix\n",
    "print(classification_report(Y_test,Y_pred))\n",
    "print(confusion_matrix(Y_test,Y_pred))"
   ]
  },
  {
   "cell_type": "code",
   "execution_count": 226,
   "metadata": {},
   "outputs": [
    {
     "name": "stdout",
     "output_type": "stream",
     "text": [
      "              precision    recall  f1-score   support\n",
      "\n",
      "         0.0       0.83      0.85      0.84       101\n",
      "         1.0       0.78      0.91      0.84       100\n",
      "         2.0       1.00      0.11      0.20        99\n",
      "         3.0       0.68      0.90      0.78       100\n",
      "         4.0       0.89      0.94      0.91       100\n",
      "         5.0       0.73      0.91      0.81       100\n",
      "         6.0       0.84      0.99      0.91       100\n",
      "         7.0       0.96      0.96      0.96       100\n",
      "         8.0       0.95      0.98      0.97       100\n",
      "         9.0       0.98      0.94      0.96       100\n",
      "        10.0       0.97      0.95      0.96       100\n",
      "        11.0       0.98      0.97      0.97       100\n",
      "        12.0       0.89      0.93      0.91       100\n",
      "        13.0       0.97      0.95      0.96       100\n",
      "        14.0       0.98      0.95      0.96       100\n",
      "        15.0       0.98      0.99      0.99       100\n",
      "        16.0       0.82      0.92      0.87       100\n",
      "        17.0       0.97      0.90      0.93       100\n",
      "        18.0       0.83      0.72      0.77       100\n",
      "        19.0       0.73      0.73      0.73       100\n",
      "\n",
      "   micro avg       0.88      0.88      0.88      2000\n",
      "   macro avg       0.89      0.88      0.86      2000\n",
      "weighted avg       0.89      0.88      0.86      2000\n",
      "\n",
      "[[86  0  0  0  0  0  0  1  0  0  0  0  0  0  0  1  0  0  1 12]\n",
      " [ 0 91  0  4  1  1  0  0  0  0  0  0  3  0  0  0  0  0  0  0]\n",
      " [ 0 15 11 31  2 31  6  0  0  0  0  0  3  0  0  0  0  0  0  0]\n",
      " [ 0  1  0 90  6  0  3  0  0  0  0  0  0  0  0  0  0  0  0  0]\n",
      " [ 0  0  0  4 94  1  1  0  0  0  0  0  0  0  0  0  0  0  0  0]\n",
      " [ 0  5  0  0  1 91  1  0  0  0  0  0  1  1  0  0  0  0  0  0]\n",
      " [ 0  0  0  0  0  0 99  1  0  0  0  0  0  0  0  0  0  0  0  0]\n",
      " [ 0  0  0  1  0  0  1 96  1  0  0  0  1  0  0  0  0  0  0  0]\n",
      " [ 0  0  0  0  0  0  1  1 98  0  0  0  0  0  0  0  0  0  0  0]\n",
      " [ 0  0  0  0  0  0  2  1  0 94  3  0  0  0  0  0  0  0  0  0]\n",
      " [ 0  0  0  0  0  0  0  0  0  2 95  0  0  1  1  0  0  0  1  0]\n",
      " [ 0  1  0  0  0  0  1  0  0  0  0 97  0  1  0  0  0  0  0  0]\n",
      " [ 0  1  0  2  1  0  2  0  0  0  0  0 93  0  1  0  0  0  0  0]\n",
      " [ 0  1  0  0  0  0  0  0  2  0  0  0  1 95  0  0  0  0  1  0]\n",
      " [ 0  2  0  0  1  0  0  0  0  0  0  1  1  0 95  0  0  0  0  0]\n",
      " [ 0  0  0  0  0  0  0  0  0  0  0  0  1  0  0 99  0  0  0  0]\n",
      " [ 0  0  0  0  0  0  0  0  2  0  0  1  0  0  0  0 92  0  3  2]\n",
      " [ 0  0  0  0  0  0  1  0  0  0  0  0  0  0  0  0  3 90  6  0]\n",
      " [ 0  0  0  0  0  0  0  0  0  0  0  0  0  0  0  0 12  3 72 13]\n",
      " [18  0  0  0  0  0  0  0  0  0  0  0  0  0  0  1  5  0  3 73]]\n"
     ]
    }
   ],
   "source": [
    "from sklearn.naive_bayes import MultinomialNB\n",
    "from sklearn.metrics import classification_report, confusion_matrix\n",
    "clf = MultinomialNB()\n",
    "clf.fit(X_train, Y_train)\n",
    "Y_pred1 = clf.predict(X_test)\n",
    "print(classification_report(Y_test,Y_pred1))\n",
    "print(confusion_matrix(Y_test,Y_pred1))"
   ]
  },
  {
   "cell_type": "code",
   "execution_count": 227,
   "metadata": {},
   "outputs": [
    {
     "name": "stdout",
     "output_type": "stream",
     "text": [
      "0.8755\n"
     ]
    }
   ],
   "source": [
    "# accuracy from self implemented Multinomial Naive Bayes\n",
    "count_true = 0\n",
    "for i in range(len(Y_pred)):\n",
    "    if(Y_test[i] == Y_pred[i]):\n",
    "        count_true += 1\n",
    "accuracy = count_true/2000\n",
    "print(accuracy)"
   ]
  },
  {
   "cell_type": "code",
   "execution_count": 228,
   "metadata": {},
   "outputs": [
    {
     "name": "stdout",
     "output_type": "stream",
     "text": [
      "0.8755\n"
     ]
    }
   ],
   "source": [
    "# accuracy from sklearn implemented Multinomial Naive Bayes\n",
    "count_true_1 = 0\n",
    "for i in range(len(Y_pred1)):\n",
    "    if(Y_test[i] == Y_pred1[i]):\n",
    "        count_true_1 += 1\n",
    "accuracy1 = count_true_1/2000\n",
    "print(accuracy1)"
   ]
  }
 ],
 "metadata": {
  "kernelspec": {
   "display_name": "Python 3",
   "language": "python",
   "name": "python3"
  },
  "language_info": {
   "codemirror_mode": {
    "name": "ipython",
    "version": 3
   },
   "file_extension": ".py",
   "mimetype": "text/x-python",
   "name": "python",
   "nbconvert_exporter": "python",
   "pygments_lexer": "ipython3",
   "version": "3.7.3"
  }
 },
 "nbformat": 4,
 "nbformat_minor": 2
}
