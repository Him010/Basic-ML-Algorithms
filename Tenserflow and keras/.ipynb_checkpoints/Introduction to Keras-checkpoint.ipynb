{
 "cells": [
  {
   "cell_type": "code",
   "execution_count": 1,
   "metadata": {},
   "outputs": [
    {
     "name": "stderr",
     "output_type": "stream",
     "text": [
      "Using TensorFlow backend.\n"
     ]
    }
   ],
   "source": [
    "from keras.models import Sequential \n",
    "from keras.layers import Dense"
   ]
  },
  {
   "cell_type": "code",
   "execution_count": 2,
   "metadata": {},
   "outputs": [],
   "source": [
    "#Creating a model\n",
    "model = Sequential()"
   ]
  },
  {
   "cell_type": "code",
   "execution_count": 3,
   "metadata": {},
   "outputs": [
    {
     "name": "stdout",
     "output_type": "stream",
     "text": [
      "WARNING:tensorflow:From C:\\Users\\admin\\Anaconda3\\lib\\site-packages\\tensorflow_core\\python\\ops\\resource_variable_ops.py:1630: calling BaseResourceVariable.__init__ (from tensorflow.python.ops.resource_variable_ops) with constraint is deprecated and will be removed in a future version.\n",
      "Instructions for updating:\n",
      "If using Keras pass *_constraint arguments to layers.\n"
     ]
    }
   ],
   "source": [
    "layer1 = Dense(units = 32,activation = 'relu',input_dim = 30)\n",
    "model.add(layer1)\n",
    "model.add(Dense(units = 16,activation = 'relu'))\n",
    "model.add(Dense(units = 1,activation = 'sigmoid'))"
   ]
  },
  {
   "cell_type": "code",
   "execution_count": 4,
   "metadata": {},
   "outputs": [
    {
     "name": "stdout",
     "output_type": "stream",
     "text": [
      "WARNING:tensorflow:From C:\\Users\\admin\\Anaconda3\\lib\\site-packages\\tensorflow_core\\python\\ops\\nn_impl.py:183: where (from tensorflow.python.ops.array_ops) is deprecated and will be removed in a future version.\n",
      "Instructions for updating:\n",
      "Use tf.where in 2.0, which has the same broadcast rule as np.where\n"
     ]
    }
   ],
   "source": [
    "model.compile(optimizer = 'adam',loss = 'binary_crossentropy',metrics = ['accuracy'])"
   ]
  },
  {
   "cell_type": "code",
   "execution_count": 5,
   "metadata": {},
   "outputs": [],
   "source": [
    "from sklearn import datasets\n",
    "from sklearn.model_selection import train_test_split\n",
    "from sklearn.preprocessing import StandardScaler\n",
    "\n",
    "cancer = datasets.load_breast_cancer()\n",
    "x_train,x_test,y_train,y_test = train_test_split(cancer.data,cancer.target,test_size = 0.2,random_state = 25)\n",
    "\n",
    "sc = StandardScaler()\n",
    "x_train = sc.fit_transform(x_train)\n",
    "x_test = sc.transform(x_test)"
   ]
  },
  {
   "cell_type": "code",
   "execution_count": 6,
   "metadata": {},
   "outputs": [
    {
     "name": "stdout",
     "output_type": "stream",
     "text": [
      "WARNING:tensorflow:From C:\\Users\\admin\\Anaconda3\\lib\\site-packages\\keras\\backend\\tensorflow_backend.py:422: The name tf.global_variables is deprecated. Please use tf.compat.v1.global_variables instead.\n",
      "\n",
      "Train on 455 samples, validate on 114 samples\n",
      "Epoch 1/35\n",
      "455/455 [==============================] - 0s 445us/step - loss: 0.7146 - accuracy: 0.4747 - val_loss: 0.6228 - val_accuracy: 0.7281\n",
      "Epoch 2/35\n",
      "455/455 [==============================] - 0s 60us/step - loss: 0.5812 - accuracy: 0.8088 - val_loss: 0.5056 - val_accuracy: 0.8947\n",
      "Epoch 3/35\n",
      "455/455 [==============================] - 0s 48us/step - loss: 0.4758 - accuracy: 0.8791 - val_loss: 0.4041 - val_accuracy: 0.9211\n",
      "Epoch 4/35\n",
      "455/455 [==============================] - 0s 65us/step - loss: 0.3838 - accuracy: 0.9121 - val_loss: 0.3236 - val_accuracy: 0.9298\n",
      "Epoch 5/35\n",
      "455/455 [==============================] - 0s 102us/step - loss: 0.3117 - accuracy: 0.9187 - val_loss: 0.2651 - val_accuracy: 0.9298\n",
      "Epoch 6/35\n",
      "455/455 [==============================] - 0s 57us/step - loss: 0.2575 - accuracy: 0.9275 - val_loss: 0.2243 - val_accuracy: 0.9298\n",
      "Epoch 7/35\n",
      "455/455 [==============================] - 0s 58us/step - loss: 0.2160 - accuracy: 0.9407 - val_loss: 0.1969 - val_accuracy: 0.9386\n",
      "Epoch 8/35\n",
      "455/455 [==============================] - 0s 69us/step - loss: 0.1850 - accuracy: 0.9495 - val_loss: 0.1770 - val_accuracy: 0.9474\n",
      "Epoch 9/35\n",
      "455/455 [==============================] - 0s 59us/step - loss: 0.1612 - accuracy: 0.9495 - val_loss: 0.1624 - val_accuracy: 0.9474\n",
      "Epoch 10/35\n",
      "455/455 [==============================] - 0s 36us/step - loss: 0.1428 - accuracy: 0.9582 - val_loss: 0.1526 - val_accuracy: 0.9474\n",
      "Epoch 11/35\n",
      "455/455 [==============================] - 0s 57us/step - loss: 0.1268 - accuracy: 0.9582 - val_loss: 0.1454 - val_accuracy: 0.9474\n",
      "Epoch 12/35\n",
      "455/455 [==============================] - 0s 50us/step - loss: 0.1146 - accuracy: 0.9626 - val_loss: 0.1400 - val_accuracy: 0.9474\n",
      "Epoch 13/35\n",
      "455/455 [==============================] - 0s 70us/step - loss: 0.1048 - accuracy: 0.9714 - val_loss: 0.1354 - val_accuracy: 0.9561\n",
      "Epoch 14/35\n",
      "455/455 [==============================] - 0s 65us/step - loss: 0.0958 - accuracy: 0.9758 - val_loss: 0.1308 - val_accuracy: 0.9561\n",
      "Epoch 15/35\n",
      "455/455 [==============================] - 0s 56us/step - loss: 0.0882 - accuracy: 0.9780 - val_loss: 0.1280 - val_accuracy: 0.9561\n",
      "Epoch 16/35\n",
      "455/455 [==============================] - 0s 66us/step - loss: 0.0821 - accuracy: 0.9802 - val_loss: 0.1266 - val_accuracy: 0.9561\n",
      "Epoch 17/35\n",
      "455/455 [==============================] - 0s 44us/step - loss: 0.0769 - accuracy: 0.9802 - val_loss: 0.1244 - val_accuracy: 0.9561\n",
      "Epoch 18/35\n",
      "455/455 [==============================] - 0s 74us/step - loss: 0.0722 - accuracy: 0.9802 - val_loss: 0.1231 - val_accuracy: 0.9649\n",
      "Epoch 19/35\n",
      "455/455 [==============================] - 0s 61us/step - loss: 0.0684 - accuracy: 0.9802 - val_loss: 0.1224 - val_accuracy: 0.9649\n",
      "Epoch 20/35\n",
      "455/455 [==============================] - 0s 57us/step - loss: 0.0648 - accuracy: 0.9824 - val_loss: 0.1228 - val_accuracy: 0.9649\n",
      "Epoch 21/35\n",
      "455/455 [==============================] - 0s 59us/step - loss: 0.0616 - accuracy: 0.9824 - val_loss: 0.1231 - val_accuracy: 0.9649\n",
      "Epoch 22/35\n",
      "455/455 [==============================] - 0s 64us/step - loss: 0.0586 - accuracy: 0.9846 - val_loss: 0.1229 - val_accuracy: 0.9649\n",
      "Epoch 23/35\n",
      "455/455 [==============================] - 0s 53us/step - loss: 0.0557 - accuracy: 0.9890 - val_loss: 0.1232 - val_accuracy: 0.9649\n",
      "Epoch 24/35\n",
      "455/455 [==============================] - 0s 64us/step - loss: 0.0534 - accuracy: 0.9890 - val_loss: 0.1245 - val_accuracy: 0.9649\n",
      "Epoch 25/35\n",
      "455/455 [==============================] - 0s 46us/step - loss: 0.0512 - accuracy: 0.9890 - val_loss: 0.1256 - val_accuracy: 0.9649\n",
      "Epoch 26/35\n",
      "455/455 [==============================] - 0s 53us/step - loss: 0.0491 - accuracy: 0.9912 - val_loss: 0.1269 - val_accuracy: 0.9649\n",
      "Epoch 27/35\n",
      "455/455 [==============================] - 0s 56us/step - loss: 0.0472 - accuracy: 0.9912 - val_loss: 0.1278 - val_accuracy: 0.9649\n",
      "Epoch 28/35\n",
      "455/455 [==============================] - 0s 67us/step - loss: 0.0455 - accuracy: 0.9912 - val_loss: 0.1284 - val_accuracy: 0.9649\n",
      "Epoch 29/35\n",
      "455/455 [==============================] - 0s 53us/step - loss: 0.0440 - accuracy: 0.9890 - val_loss: 0.1280 - val_accuracy: 0.9737\n",
      "Epoch 30/35\n",
      "455/455 [==============================] - 0s 77us/step - loss: 0.0424 - accuracy: 0.9890 - val_loss: 0.1287 - val_accuracy: 0.9737\n",
      "Epoch 31/35\n",
      "455/455 [==============================] - 0s 53us/step - loss: 0.0409 - accuracy: 0.9934 - val_loss: 0.1311 - val_accuracy: 0.9737\n",
      "Epoch 32/35\n",
      "455/455 [==============================] - 0s 53us/step - loss: 0.0395 - accuracy: 0.9934 - val_loss: 0.1316 - val_accuracy: 0.9737\n",
      "Epoch 33/35\n",
      "455/455 [==============================] - 0s 67us/step - loss: 0.0381 - accuracy: 0.9934 - val_loss: 0.1335 - val_accuracy: 0.9737\n",
      "Epoch 34/35\n",
      "455/455 [==============================] - 0s 57us/step - loss: 0.0372 - accuracy: 0.9934 - val_loss: 0.1345 - val_accuracy: 0.9737\n",
      "Epoch 35/35\n",
      "455/455 [==============================] - 0s 62us/step - loss: 0.0363 - accuracy: 0.9934 - val_loss: 0.1356 - val_accuracy: 0.9737\n"
     ]
    },
    {
     "data": {
      "text/plain": [
       "<keras.callbacks.callbacks.History at 0x1799de11688>"
      ]
     },
     "execution_count": 6,
     "metadata": {},
     "output_type": "execute_result"
    }
   ],
   "source": [
    "model.fit(x_train,y_train,epochs = 35,batch_size = 50,validation_data = (x_test,y_test))"
   ]
  },
  {
   "cell_type": "code",
   "execution_count": 8,
   "metadata": {},
   "outputs": [
    {
     "name": "stdout",
     "output_type": "stream",
     "text": [
      "114/114 [==============================] - 0s 137us/step\n"
     ]
    },
    {
     "data": {
      "text/plain": [
       "[0.1355793500940005, 0.9736841917037964]"
      ]
     },
     "execution_count": 8,
     "metadata": {},
     "output_type": "execute_result"
    }
   ],
   "source": [
    "predictions = model.predict(x_test)\n",
    "score = model.evaluate(x_test,y_test)\n",
    "score"
   ]
  },
  {
   "cell_type": "code",
   "execution_count": null,
   "metadata": {},
   "outputs": [],
   "source": []
  }
 ],
 "metadata": {
  "kernelspec": {
   "display_name": "Python 3",
   "language": "python",
   "name": "python3"
  },
  "language_info": {
   "codemirror_mode": {
    "name": "ipython",
    "version": 3
   },
   "file_extension": ".py",
   "mimetype": "text/x-python",
   "name": "python",
   "nbconvert_exporter": "python",
   "pygments_lexer": "ipython3",
   "version": "3.7.4"
  }
 },
 "nbformat": 4,
 "nbformat_minor": 2
}
