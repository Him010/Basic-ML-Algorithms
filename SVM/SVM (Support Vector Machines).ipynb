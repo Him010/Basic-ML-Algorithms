{
 "cells": [
  {
   "cell_type": "code",
   "execution_count": 1,
   "metadata": {},
   "outputs": [],
   "source": [
    "import numpy as np\n",
    "from sklearn.svm import SVC\n",
    "import matplotlib.pyplot as plt"
   ]
  },
  {
   "cell_type": "code",
   "execution_count": 53,
   "metadata": {},
   "outputs": [],
   "source": [
    "X = np.array([[1,1],[2,1],[1,2],[1.5,1.5],[3,4],[2,5],[4,3],[7,2],[3,5],[2,6],[6,2],[3,4],[4,4]])\n",
    "y = [0,0,0,0,1,1,1,1,1,1,1,1,1]"
   ]
  },
  {
   "cell_type": "code",
   "execution_count": 54,
   "metadata": {},
   "outputs": [
    {
     "data": {
      "image/png": "[encoded data removed]",
      "text/plain": [
       "<Figure size 432x288 with 1 Axes>"
      ]
     },
     "metadata": {
      "needs_background": "light"
     },
     "output_type": "display_data"
    }
   ],
   "source": [
    "X_x1 = X[:, 0]\n",
    "X_x2 = X[:, 1]\n",
    "plt.scatter(X_x1, X_x2, c = y)    # 4 points are in class 0 and 9 points aare in class 1 and c = y is used to assign different colors to different classes\n",
    "plt.show()"
   ]
  },
  {
   "cell_type": "code",
   "execution_count": 63,
   "metadata": {},
   "outputs": [
    {
     "data": {
      "text/plain": [
       "(array([[0.49989823, 0.49989823]]), array([-2.49953185]))"
      ]
     },
     "execution_count": 63,
     "metadata": {},
     "output_type": "execute_result"
    }
   ],
   "source": [
    "svcLinear = SVC(kernel = 'linear', C = 1).fit(X,y)      # C is the parameter in the cost function. the inverse of lambda\n",
    "svcLinear.coef_, svcLinear.intercept_       # two coefficients as X has two features X_x1 and X_x2"
   ]
  },
  {
   "cell_type": "code",
   "execution_count": 64,
   "metadata": {},
   "outputs": [
    {
     "data": {
      "image/png": "[encoded data removed]",
      "text/plain": [
       "<Figure size 432x288 with 1 Axes>"
      ]
     },
     "metadata": {
      "needs_background": "light"
     },
     "output_type": "display_data"
    }
   ],
   "source": [
    "# now what we'll do is use m1x1 + m2x2 + m3 = 0 and put two values of x1. here we put 0 and 5 then we'll find out x2 by putting it\n",
    "# in the equation of line i.e. m1x1 + m2x2 + m3 = 0 and after that we joined the two points together to get the line\n",
    "x1 = np.array([0,5])\n",
    "# didn't have to use for loop below as directly used the whole array so as soon as multiplication takes place in the numerator\n",
    "# all the operations are on array only so the value returned i.e. x2 will be an array\n",
    "x2 = -1 * (svcLinear.intercept_ + svcLinear.coef_[0][0] * x1) / svcLinear.coef_[0][1]       # x2 = -(m3 + m1x1)/m2\n",
    "plt.plot(x1, x2)\n",
    "plt.scatter(X_x1, X_x2, c = y)     # scattering the points to show how far they are from the decision boundary\n",
    "plt.axis([0, 8, 0, 8])             # used to give minimum and maximum value to the x-axis and the y-axis\n",
    "plt.show()"
   ]
  },
  {
   "cell_type": "markdown",
   "metadata": {},
   "source": [
    "# CHANGING THE CLASSES A LITTLE BIT"
   ]
  },
  {
   "cell_type": "code",
   "execution_count": 69,
   "metadata": {},
   "outputs": [],
   "source": [
    "X = np.array([[1,1],[2,1],[1,2],[1.5,1.5],[3,4],[2,5],[4,3],[7,2],[3,5],[2,6],[6,2],[3,4],[4,4]])\n",
    "y = [0,1,0,0,1,1,1,1,1,1,1,1,1]       # changed the first index class from 0 to 1"
   ]
  },
  {
   "cell_type": "code",
   "execution_count": 70,
   "metadata": {},
   "outputs": [
    {
     "data": {
      "image/png": "[encoded data removed]",
      "text/plain": [
       "<Figure size 432x288 with 1 Axes>"
      ]
     },
     "metadata": {
      "needs_background": "light"
     },
     "output_type": "display_data"
    }
   ],
   "source": [
    "X_x1 = X[:, 0]\n",
    "X_x2 = X[:, 1]\n",
    "plt.scatter(X_x1, X_x2, c = y)    # 4 points are in class 0 and 9 points aare in class 1 and c = y is used to assign different colors to different classes\n",
    "plt.show()"
   ]
  },
  {
   "cell_type": "code",
   "execution_count": 110,
   "metadata": {},
   "outputs": [
    {
     "data": {
      "text/plain": [
       "(array([[3.50000000e+00, 2.22044605e-16]]), array([-6.]))"
      ]
     },
     "execution_count": 110,
     "metadata": {},
     "output_type": "execute_result"
    }
   ],
   "source": [
    "svcLinear = SVC(kernel = 'linear', C = 7).fit(X,y)        \n",
    "svcLinear.coef_, svcLinear.intercept_  "
   ]
  },
  {
   "cell_type": "code",
   "execution_count": 113,
   "metadata": {},
   "outputs": [],
   "source": [
    "# if we keep C less i.e.like 1 then errors will increase but if we want to favor more regularization that is the distance can be\n",
    "# less but the errors should be very very low so we have to increase C. can start with C = 7 \n",
    "# can also use really big values like C = 100000 and we can see that the errors will\n",
    "# be none as the decision boundary will correctly distinguish between the required classes and the reqularization effect will be less\n",
    "\n",
    "\n",
    "# we are trying to overfit the data just because we do not want to make any error"
   ]
  },
  {
   "cell_type": "code",
   "execution_count": 112,
   "metadata": {},
   "outputs": [
    {
     "data": {
      "image/png": "[encoded data removed]",
      "text/plain": [
       "<Figure size 432x288 with 1 Axes>"
      ]
     },
     "metadata": {
      "needs_background": "light"
     },
     "output_type": "display_data"
    }
   ],
   "source": [
    "# now what we'll do is use m1x1 + m2x2 + m3 = 0 and put two values of x1. here we put 0 and 5 then we'll find out x2 by putting it\n",
    "# in the equation of line i.e. m1x1 + m2x2 + m3 = 0 and after that we joined the two points together to get the line\n",
    "x1 = np.array([0,5])\n",
    "# didn't have to use for loop below as directly used the whole array so as soon as multiplication takes place in the numerator\n",
    "# all the operations are on array only so the value returned i.e. x2 will be an array\n",
    "x2 = -1 * (svcLinear.intercept_ + svcLinear.coef_[0][0] * x1) / svcLinear.coef_[0][1]       # x2 = -(m3 + m1x1)/m2\n",
    "plt.plot(x1, x2)\n",
    "plt.scatter(X_x1, X_x2, c = y)     # scattering the points to show how far they are from the decision boundary\n",
    "plt.axis([0, 8, 0, 8])             # used to give minimum and maximum value to the x-axis and the y-axis\n",
    "plt.show()"
   ]
  },
  {
   "cell_type": "code",
   "execution_count": null,
   "metadata": {},
   "outputs": [],
   "source": []
  }
 ],
 "metadata": {
  "kernelspec": {
   "display_name": "Python 3",
   "language": "python",
   "name": "python3"
  },
  "language_info": {
   "codemirror_mode": {
    "name": "ipython",
    "version": 3
   },
   "file_extension": ".py",
   "mimetype": "text/x-python",
   "name": "python",
   "nbconvert_exporter": "python",
   "pygments_lexer": "ipython3",
   "version": "3.7.3"
  }
 },
 "nbformat": 4,
 "nbformat_minor": 2
}
