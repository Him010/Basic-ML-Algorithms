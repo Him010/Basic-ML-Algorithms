{
 "cells": [
  {
   "cell_type": "code",
   "execution_count": 1,
   "metadata": {},
   "outputs": [],
   "source": [
    "from sklearn import svm, datasets\n",
    "import numpy as np\n",
    "from sklearn.model_selection import train_test_split\n",
    "import matplotlib.pyplot as plt"
   ]
  },
  {
   "cell_type": "code",
   "execution_count": 2,
   "metadata": {},
   "outputs": [],
   "source": [
    "iris = datasets.load_iris()\n",
    "X = iris.data[ :, 0:2]\n",
    "Y = iris.target"
   ]
  },
  {
   "cell_type": "code",
   "execution_count": 3,
   "metadata": {},
   "outputs": [],
   "source": [
    "X_train, X_test, Y_train, Y_test = train_test_split(X,Y)"
   ]
  },
  {
   "cell_type": "code",
   "execution_count": 4,
   "metadata": {},
   "outputs": [
    {
     "name": "stderr",
     "output_type": "stream",
     "text": [
      "C:\\Users\\tanej\\Anaconda3\\lib\\site-packages\\sklearn\\svm\\base.py:196: FutureWarning: The default value of gamma will change from 'auto' to 'scale' in version 0.22 to account better for unscaled features. Set gamma explicitly to 'auto' or 'scale' to avoid this warning.\n",
      "  \"avoid this warning.\", FutureWarning)\n"
     ]
    },
    {
     "data": {
      "text/plain": [
       "SVC(C=1.0, cache_size=200, class_weight=None, coef0=0.0,\n",
       "  decision_function_shape='ovr', degree=3, gamma='auto_deprecated',\n",
       "  kernel='rbf', max_iter=-1, probability=False, random_state=None,\n",
       "  shrinking=True, tol=0.001, verbose=False)"
      ]
     },
     "execution_count": 4,
     "metadata": {},
     "output_type": "execute_result"
    }
   ],
   "source": [
    "clf = svm.SVC()\n",
    "# can also use     clf = svm.SVC(kernel = 'linear')\n",
    "# then the decision boundary would consists of straight line rather than curves\n",
    "clf.fit(X_train, Y_train)"
   ]
  },
  {
   "cell_type": "markdown",
   "metadata": {},
   "source": [
    "###### class_weight = none means equal weight to all the classes. if you want to give a biased weight to\n",
    "###### a particular class then we can do that by giving the class_weight a value\n",
    "\n",
    "###### coef0 is not used in Gaussian or Linear. it is used in polynomial where a is coef0\n",
    "###### gamma is 1/(2*(sigma**2))\n",
    "###### (sigma**2) very high means underfitting as every point will have far reaching impact\n",
    "###### (sigma**2) too low means overfitting as every point will influence the points in its vicinity and not the points which are at a\n",
    "###### considerable distance from that\n",
    "\n",
    "###### exactly opposite the case will be with gamma as gamma is 1/(2*(sigma**2))\n",
    "###### too low gamma will lead to underfitting and very high gamma will lead to overfitting\n",
    "\n",
    "###### default kernel is rbf i.e. the Gaussian Kernel"
   ]
  },
  {
   "cell_type": "markdown",
   "metadata": {},
   "source": [
    "###### SVC implements one vs one scheme and does not gives us an option to use one vs rest\n",
    "###### i.e. in sklearn.svm.SVC the multiclass support is handled according to a one-vs-one scheme "
   ]
  },
  {
   "cell_type": "code",
   "execution_count": 5,
   "metadata": {},
   "outputs": [
    {
     "data": {
      "text/plain": [
       "0.7631578947368421"
      ]
     },
     "execution_count": 5,
     "metadata": {},
     "output_type": "execute_result"
    }
   ],
   "source": [
    "clf.score(X_test, Y_test)"
   ]
  },
  {
   "cell_type": "code",
   "execution_count": 6,
   "metadata": {},
   "outputs": [],
   "source": [
    "def makegrid(x1, x2, h = 0.02):\n",
    "    x1_min, x1_max = x1.min() - 1, x1.max() + 1   # did -1 and +1 to take into consideration a little previous points a little further points too\n",
    "    x2_min, x2_max = x2.min() - 1, x2.max() + 1   # did -1 and +1 to take into consideration a little previous points a little further points too\n",
    "    a = np.arange(x1_min, x1_max, h)     # range from 0,0.2,0.4_ _ _ _ 2.8  where h is the step up\n",
    "    b = np.arange(x2_min, x2_max, h)\n",
    "    xx, yy = np.meshgrid(a, b)    # this function is going to replicate array a and b multiple times\n",
    "    \n",
    "#     if i had array 1,2,3 and 2,3,4 meshgrid will give me points like these\n",
    "#     (1,2), (1,3), (1,4), (2,2), (2,3), (2,4), (3,2), (3,3), (3,4) so with ising arange ans step up value 0.02 we have actually\n",
    "#     created a mesh like structure where each horizontal point is at a distance of 0.02 from the next nearest point\n",
    "#     about how the grid will look like and about it is written in the notes\n",
    "#     The np.meshgrid function is used to create a rectangular grid out of two given one-dimensional arrays representing the Cartesian indexing or Matrix indexing.\n",
    "    \n",
    "    return xx, yy"
   ]
  },
  {
   "cell_type": "markdown",
   "metadata": {},
   "source": [
    "###### we can change C and gamma. if we increase C a lot we will start seeing a lot more complex decision boundary as more C will try to minimize the errors and if we increase gamma a lot then even a small change will lead to huge difference in the function that means overfitting"
   ]
  },
  {
   "cell_type": "code",
   "execution_count": 7,
   "metadata": {},
   "outputs": [
    {
     "data": {
      "image/png": "[encoded data removed]",
      "text/plain": [
       "<Figure size 432x288 with 1 Axes>"
      ]
     },
     "metadata": {
      "needs_background": "light"
     },
     "output_type": "display_data"
    }
   ],
   "source": [
    "xx, yy = makegrid(X[:, 0], X[:, 1])   # used feature at 0th index of the IRIS dataset and feature at 1st inde of the IRIS dataset\n",
    "# print(xx)\n",
    "# print()\n",
    "# print()\n",
    "# print(yy)\n",
    "predictions = clf.predict(np.c_[xx.ravel(), yy.ravel()])    \n",
    "plt.scatter(xx.ravel(),yy.ravel(),c = predictions)\n",
    "\n",
    "plt.show()"
   ]
  },
  {
   "cell_type": "markdown",
   "metadata": {},
   "source": [
    "###### ravel is basically going to convert the whole array i.e. the whole mutidimensional array into a one dimensional array, a really huge array\n",
    "\n",
    "\n",
    "\n",
    "###### np.c_ is used to combine the two arrays to make pairs. so basically if the two arrays be [1,2,3] and [4,5,6] then\n",
    "###### np.c_ will make them ([1,4],[2,5],[3,6])\n",
    "###### because we need these pairs to predict because for every point if we want to make a prediction we want (x1,x2)\n",
    "\n",
    "###### for plotting we need ravel() ravel basically means again one dimensional array as the points are plotted as (x1,x2)\n",
    "###### x1 will be generated by xx.ravel() and x2 will be generated by yy.ravel() as\n",
    "###### plt.scatter([1,2],[4,5]) it will plot the points (1,4) and (2,5)\n",
    "\n",
    "###### if linear kernel is used then the decision boundary would be linear but it won't be a perfect line as the predict function is called on every single point in the grid so evey point will tried to be joined keeping the decision boundary as linear as possible and thus that corresponding graph will be generated"
   ]
  },
  {
   "cell_type": "code",
   "execution_count": 8,
   "metadata": {},
   "outputs": [
    {
     "data": {
      "text/plain": [
       "(array([[0.  , 0.02, 0.04, ..., 3.94, 3.96, 3.98],\n",
       "        [0.  , 0.02, 0.04, ..., 3.94, 3.96, 3.98],\n",
       "        [0.  , 0.02, 0.04, ..., 3.94, 3.96, 3.98],\n",
       "        ...,\n",
       "        [0.  , 0.02, 0.04, ..., 3.94, 3.96, 3.98],\n",
       "        [0.  , 0.02, 0.04, ..., 3.94, 3.96, 3.98],\n",
       "        [0.  , 0.02, 0.04, ..., 3.94, 3.96, 3.98]]),\n",
       " array([[4.  , 4.  , 4.  , ..., 4.  , 4.  , 4.  ],\n",
       "        [4.02, 4.02, 4.02, ..., 4.02, 4.02, 4.02],\n",
       "        [4.04, 4.04, 4.04, ..., 4.04, 4.04, 4.04],\n",
       "        ...,\n",
       "        [6.94, 6.94, 6.94, ..., 6.94, 6.94, 6.94],\n",
       "        [6.96, 6.96, 6.96, ..., 6.96, 6.96, 6.96],\n",
       "        [6.98, 6.98, 6.98, ..., 6.98, 6.98, 6.98]]))"
      ]
     },
     "execution_count": 8,
     "metadata": {},
     "output_type": "execute_result"
    }
   ],
   "source": [
    "x1 = np.array([1,3])\n",
    "x2 = np.array([5,6])\n",
    "makegrid(x1,x2)"
   ]
  },
  {
   "cell_type": "code",
   "execution_count": 9,
   "metadata": {},
   "outputs": [],
   "source": [
    "a = np.array([1,2,3])\n",
    "b = np.array([2,3,4])"
   ]
  },
  {
   "cell_type": "code",
   "execution_count": 10,
   "metadata": {},
   "outputs": [
    {
     "name": "stdout",
     "output_type": "stream",
     "text": [
      "[[1 2 3]\n",
      " [1 2 3]\n",
      " [1 2 3]]\n",
      "\n",
      "[[2 2 2]\n",
      " [3 3 3]\n",
      " [4 4 4]]\n"
     ]
    }
   ],
   "source": [
    "aa,bb = np.meshgrid(a,b)\n",
    "print(aa)\n",
    "print()\n",
    "print(bb)"
   ]
  },
  {
   "cell_type": "code",
   "execution_count": 11,
   "metadata": {},
   "outputs": [
    {
     "data": {
      "text/plain": [
       "(3, 3)"
      ]
     },
     "execution_count": 11,
     "metadata": {},
     "output_type": "execute_result"
    }
   ],
   "source": [
    "aa.shape"
   ]
  },
  {
   "cell_type": "code",
   "execution_count": 12,
   "metadata": {},
   "outputs": [
    {
     "data": {
      "text/plain": [
       "(3, 3)"
      ]
     },
     "execution_count": 12,
     "metadata": {},
     "output_type": "execute_result"
    }
   ],
   "source": [
    "bb.shape"
   ]
  },
  {
   "cell_type": "code",
   "execution_count": 13,
   "metadata": {},
   "outputs": [],
   "source": [
    "# aa is repeated horizontally and bb is repeated vertically to make a mesh like structure if all the points are plotted"
   ]
  },
  {
   "cell_type": "code",
   "execution_count": 14,
   "metadata": {},
   "outputs": [
    {
     "data": {
      "image/png": "[encoded data removed]",
      "text/plain": [
       "<Figure size 432x288 with 1 Axes>"
      ]
     },
     "metadata": {
      "needs_background": "light"
     },
     "output_type": "display_data"
    }
   ],
   "source": [
    "for i in range(3):\n",
    "    for j in range(3):\n",
    "        x = aa[i,j]\n",
    "        y = bb[i,j]\n",
    "        h = plt.scatter(x,y,color=\"red\")\n",
    "plt.show()"
   ]
  },
  {
   "cell_type": "code",
   "execution_count": 15,
   "metadata": {},
   "outputs": [
    {
     "data": {
      "text/plain": [
       "4.3"
      ]
     },
     "execution_count": 15,
     "metadata": {},
     "output_type": "execute_result"
    }
   ],
   "source": [
    "X[:,0].min()"
   ]
  },
  {
   "cell_type": "code",
   "execution_count": 16,
   "metadata": {},
   "outputs": [
    {
     "data": {
      "text/plain": [
       "2.0"
      ]
     },
     "execution_count": 16,
     "metadata": {},
     "output_type": "execute_result"
    }
   ],
   "source": [
    "X[:,1].min()"
   ]
  },
  {
   "cell_type": "code",
   "execution_count": 17,
   "metadata": {},
   "outputs": [
    {
     "name": "stdout",
     "output_type": "stream",
     "text": [
      "[[1 4]\n",
      " [2 5]\n",
      " [3 6]]\n",
      "(3, 2)\n"
     ]
    }
   ],
   "source": [
    "a = np.c_[np.array([1,2,3]), np.array([4,5,6])]\n",
    "print(a)\n",
    "print(a.shape)"
   ]
  },
  {
   "cell_type": "code",
   "execution_count": 18,
   "metadata": {},
   "outputs": [
    {
     "name": "stdout",
     "output_type": "stream",
     "text": [
      "[[1 2 3 4 5 6]]\n",
      "(1, 6)\n"
     ]
    }
   ],
   "source": [
    "b = np.c_[np.array([[1,2,3]]), np.array([[4,5,6]])]\n",
    "print(b)\n",
    "print(b.shape)"
   ]
  },
  {
   "cell_type": "code",
   "execution_count": 19,
   "metadata": {},
   "outputs": [],
   "source": [
    "a = np.array([1,2,3])\n",
    "b = np.array([4,5,6])\n",
    "a = a.ravel(), b.ravel()"
   ]
  },
  {
   "cell_type": "code",
   "execution_count": 20,
   "metadata": {},
   "outputs": [
    {
     "name": "stdout",
     "output_type": "stream",
     "text": [
      "(array([1, 2, 3]), array([4, 5, 6]))\n"
     ]
    }
   ],
   "source": [
    "print(a)"
   ]
  },
  {
   "cell_type": "code",
   "execution_count": 21,
   "metadata": {},
   "outputs": [],
   "source": [
    "a = np.c_[a]     # what np.c_ does is it combines the two array i.e. array([1,2,3]) and array([4,5,6])"
   ]
  },
  {
   "cell_type": "code",
   "execution_count": 22,
   "metadata": {},
   "outputs": [
    {
     "name": "stdout",
     "output_type": "stream",
     "text": [
      "[[1 4]\n",
      " [2 5]\n",
      " [3 6]]\n"
     ]
    }
   ],
   "source": [
    "print(a)"
   ]
  },
  {
   "cell_type": "code",
   "execution_count": 23,
   "metadata": {},
   "outputs": [
    {
     "data": {
      "text/plain": [
       "<matplotlib.collections.PathCollection at 0x22612dc90b8>"
      ]
     },
     "execution_count": 23,
     "metadata": {},
     "output_type": "execute_result"
    },
    {
     "data": {
      "image/png": "[encoded data removed]",
      "text/plain": [
       "<Figure size 432x288 with 1 Axes>"
      ]
     },
     "metadata": {
      "needs_background": "light"
     },
     "output_type": "display_data"
    }
   ],
   "source": [
    "plt.scatter([1,2],[4,5])"
   ]
  },
  {
   "cell_type": "code",
   "execution_count": 24,
   "metadata": {},
   "outputs": [
    {
     "name": "stdout",
     "output_type": "stream",
     "text": [
      "(4, 2)\n"
     ]
    }
   ],
   "source": [
    "a = np.array([[1,2],[7,4],[5,9],[14,11]])\n",
    "print(a.shape)"
   ]
  },
  {
   "cell_type": "code",
   "execution_count": 25,
   "metadata": {},
   "outputs": [],
   "source": [
    "a = a.ravel()"
   ]
  },
  {
   "cell_type": "code",
   "execution_count": 26,
   "metadata": {},
   "outputs": [
    {
     "name": "stdout",
     "output_type": "stream",
     "text": [
      "[ 1  2  7  4  5  9 14 11]\n",
      "(8,)\n"
     ]
    }
   ],
   "source": [
    "print(a)\n",
    "print(a.shape)"
   ]
  },
  {
   "cell_type": "markdown",
   "metadata": {},
   "source": [
    "###### what ravel did is basically made the 4 row and 2 column array into 1 row and 8 column array i.e. a one-dimensional array. so the function of ravel is to convert a multidimensional array into a one-dimensional array"
   ]
  },
  {
   "cell_type": "code",
   "execution_count": 39,
   "metadata": {},
   "outputs": [
    {
     "name": "stdout",
     "output_type": "stream",
     "text": [
      "4\n",
      "[ 16  50 252  72]\n"
     ]
    }
   ],
   "source": [
    "a = np.array([1,2,7,8])\n",
    "b = np.array([4,5,6,3])\n",
    "print((a*b*b).shape[0])\n",
    "print(a*b*b)"
   ]
  },
  {
   "cell_type": "code",
   "execution_count": null,
   "metadata": {},
   "outputs": [],
   "source": []
  }
 ],
 "metadata": {
  "kernelspec": {
   "display_name": "Python 3",
   "language": "python",
   "name": "python3"
  },
  "language_info": {
   "codemirror_mode": {
    "name": "ipython",
    "version": 3
   },
   "file_extension": ".py",
   "mimetype": "text/x-python",
   "name": "python",
   "nbconvert_exporter": "python",
   "pygments_lexer": "ipython3",
   "version": "3.7.3"
  }
 },
 "nbformat": 4,
 "nbformat_minor": 2
}
