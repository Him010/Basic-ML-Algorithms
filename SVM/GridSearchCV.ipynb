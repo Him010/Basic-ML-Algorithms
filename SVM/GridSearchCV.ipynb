{
 "cells": [
  {
   "cell_type": "code",
   "execution_count": 1,
   "metadata": {},
   "outputs": [],
   "source": [
    "from sklearn import svm, datasets\n",
    "from sklearn.model_selection import train_test_split\n",
    "from sklearn.model_selection import GridSearchCV\n",
    "from sklearn.neighbors import KNeighborsClassifier"
   ]
  },
  {
   "cell_type": "code",
   "execution_count": 2,
   "metadata": {},
   "outputs": [],
   "source": [
    "iris = datasets.load_iris()\n",
    "X = iris.data\n",
    "Y = iris.target"
   ]
  },
  {
   "cell_type": "code",
   "execution_count": 3,
   "metadata": {},
   "outputs": [],
   "source": [
    "X_train, X_test, Y_train, Y_test = train_test_split(X, Y)"
   ]
  },
  {
   "cell_type": "code",
   "execution_count": 4,
   "metadata": {},
   "outputs": [
    {
     "name": "stderr",
     "output_type": "stream",
     "text": [
      "C:\\Users\\tanej\\Anaconda3\\lib\\site-packages\\sklearn\\model_selection\\_split.py:2053: FutureWarning: You should specify a value for 'cv' instead of relying on the default value. The default value will change from 3 to 5 in version 0.22.\n",
      "  warnings.warn(CV_WARNING, FutureWarning)\n",
      "C:\\Users\\tanej\\Anaconda3\\lib\\site-packages\\sklearn\\model_selection\\_search.py:841: DeprecationWarning: The default of the `iid` parameter will change from True to False in version 0.22 and will be removed in 0.24. This will change numeric results when test-set sizes are unequal.\n",
      "  DeprecationWarning)\n"
     ]
    },
    {
     "data": {
      "text/plain": [
       "GridSearchCV(cv='warn', error_score='raise-deprecating',\n",
       "       estimator=KNeighborsClassifier(algorithm='auto', leaf_size=30, metric='minkowski',\n",
       "           metric_params=None, n_jobs=None, n_neighbors=5, p=2,\n",
       "           weights='uniform'),\n",
       "       fit_params=None, iid='warn', n_jobs=None,\n",
       "       param_grid={'n_neighbors': [3, 5, 7, 9, 11]},\n",
       "       pre_dispatch='2*n_jobs', refit=True, return_train_score='warn',\n",
       "       scoring=None, verbose=0)"
      ]
     },
     "execution_count": 4,
     "metadata": {},
     "output_type": "execute_result"
    }
   ],
   "source": [
    "clf = KNeighborsClassifier()\n",
    "grid = {\"n_neighbors\": [3,5,7,9,11]}\n",
    "abc = GridSearchCV(clf, grid)         # GridSearchCV takes two parameters. one is the classifier and the other is grid where \n",
    "                                      # grid is the value of neighbors that we want to search the best possible out of\n",
    "                                      # and grid is a dictionary\n",
    "abc.fit(X_train, Y_train)"
   ]
  },
  {
   "cell_type": "code",
   "execution_count": 5,
   "metadata": {},
   "outputs": [
    {
     "data": {
      "text/plain": [
       "KNeighborsClassifier(algorithm='auto', leaf_size=30, metric='minkowski',\n",
       "           metric_params=None, n_jobs=None, n_neighbors=3, p=2,\n",
       "           weights='uniform')"
      ]
     },
     "execution_count": 5,
     "metadata": {},
     "output_type": "execute_result"
    }
   ],
   "source": [
    "abc.best_estimator_     # it will give the value of the best n_neighbors. here the best value for n_neighbors is 5"
   ]
  },
  {
   "cell_type": "code",
   "execution_count": 6,
   "metadata": {},
   "outputs": [
    {
     "name": "stderr",
     "output_type": "stream",
     "text": [
      "C:\\Users\\tanej\\Anaconda3\\lib\\site-packages\\sklearn\\utils\\deprecation.py:125: FutureWarning: You are accessing a training score ('split0_train_score'), which will not be available by default any more in 0.21. If you need training scores, please set return_train_score=True\n",
      "  warnings.warn(*warn_args, **warn_kwargs)\n",
      "C:\\Users\\tanej\\Anaconda3\\lib\\site-packages\\sklearn\\utils\\deprecation.py:125: FutureWarning: You are accessing a training score ('split1_train_score'), which will not be available by default any more in 0.21. If you need training scores, please set return_train_score=True\n",
      "  warnings.warn(*warn_args, **warn_kwargs)\n",
      "C:\\Users\\tanej\\Anaconda3\\lib\\site-packages\\sklearn\\utils\\deprecation.py:125: FutureWarning: You are accessing a training score ('split2_train_score'), which will not be available by default any more in 0.21. If you need training scores, please set return_train_score=True\n",
      "  warnings.warn(*warn_args, **warn_kwargs)\n",
      "C:\\Users\\tanej\\Anaconda3\\lib\\site-packages\\sklearn\\utils\\deprecation.py:125: FutureWarning: You are accessing a training score ('mean_train_score'), which will not be available by default any more in 0.21. If you need training scores, please set return_train_score=True\n",
      "  warnings.warn(*warn_args, **warn_kwargs)\n",
      "C:\\Users\\tanej\\Anaconda3\\lib\\site-packages\\sklearn\\utils\\deprecation.py:125: FutureWarning: You are accessing a training score ('std_train_score'), which will not be available by default any more in 0.21. If you need training scores, please set return_train_score=True\n",
      "  warnings.warn(*warn_args, **warn_kwargs)\n"
     ]
    },
    {
     "data": {
      "text/plain": [
       "{'mean_fit_time': array([0.00144474, 0.        , 0.0006632 , 0.00099707, 0.0009981 ]),\n",
       " 'std_fit_time': array([1.39787821e-03, 0.00000000e+00, 4.68959278e-04, 1.52040533e-06,\n",
       "        1.47400196e-06]),\n",
       " 'mean_score_time': array([0.00203069, 0.00199564, 0.00200589, 0.00199453, 0.0019935 ]),\n",
       " 'std_score_time': array([8.81232188e-04, 8.77806426e-07, 1.54615056e-05, 4.05233662e-07,\n",
       "        4.89903609e-07]),\n",
       " 'param_n_neighbors': masked_array(data=[3, 5, 7, 9, 11],\n",
       "              mask=[False, False, False, False, False],\n",
       "        fill_value='?',\n",
       "             dtype=object),\n",
       " 'params': [{'n_neighbors': 3},\n",
       "  {'n_neighbors': 5},\n",
       "  {'n_neighbors': 7},\n",
       "  {'n_neighbors': 9},\n",
       "  {'n_neighbors': 11}],\n",
       " 'split0_test_score': array([1.        , 1.        , 1.        , 0.97368421, 0.97368421]),\n",
       " 'split1_test_score': array([0.97368421, 0.94736842, 0.94736842, 0.94736842, 0.94736842]),\n",
       " 'split2_test_score': array([0.97222222, 1.        , 0.97222222, 1.        , 1.        ]),\n",
       " 'mean_test_score': array([0.98214286, 0.98214286, 0.97321429, 0.97321429, 0.97321429]),\n",
       " 'std_test_score': array([0.01281018, 0.02491931, 0.0216885 , 0.02138545, 0.02138545]),\n",
       " 'rank_test_score': array([1, 1, 3, 3, 3]),\n",
       " 'split0_train_score': array([0.95945946, 0.97297297, 0.95945946, 0.97297297, 0.95945946]),\n",
       " 'split1_train_score': array([0.98648649, 0.98648649, 0.98648649, 1.        , 1.        ]),\n",
       " 'split2_train_score': array([0.98684211, 0.98684211, 0.97368421, 0.98684211, 0.97368421]),\n",
       " 'mean_train_score': array([0.97759602, 0.98210052, 0.97321005, 0.98660503, 0.97771456]),\n",
       " 'std_train_score': array([0.0128253 , 0.00645578, 0.01103883, 0.01103501, 0.01679418])}"
      ]
     },
     "execution_count": 6,
     "metadata": {},
     "output_type": "execute_result"
    }
   ],
   "source": [
    "abc.cv_results_     # it gives the score that is achieved by different values of n_neighbors that we provided it with\n",
    "# in split0_test_score the score is basically for n_neighbors as 3,5,7,9,11 in one whole array and same for the rest\n",
    "# so split0_test_score[0] = for 3, split0_test_score[1] = for 5, split0_test_score[2] = 7 and so on"
   ]
  },
  {
   "cell_type": "code",
   "execution_count": 7,
   "metadata": {},
   "outputs": [
    {
     "name": "stderr",
     "output_type": "stream",
     "text": [
      "C:\\Users\\tanej\\Anaconda3\\lib\\site-packages\\sklearn\\model_selection\\_split.py:2053: FutureWarning: You should specify a value for 'cv' instead of relying on the default value. The default value will change from 3 to 5 in version 0.22.\n",
      "  warnings.warn(CV_WARNING, FutureWarning)\n",
      "C:\\Users\\tanej\\Anaconda3\\lib\\site-packages\\sklearn\\model_selection\\_search.py:841: DeprecationWarning: The default of the `iid` parameter will change from True to False in version 0.22 and will be removed in 0.24. This will change numeric results when test-set sizes are unequal.\n",
      "  DeprecationWarning)\n"
     ]
    },
    {
     "data": {
      "text/plain": [
       "GridSearchCV(cv='warn', error_score='raise-deprecating',\n",
       "       estimator=SVC(C=1.0, cache_size=200, class_weight=None, coef0=0.0,\n",
       "  decision_function_shape='ovr', degree=3, gamma='auto_deprecated',\n",
       "  kernel='rbf', max_iter=-1, probability=False, random_state=None,\n",
       "  shrinking=True, tol=0.001, verbose=False),\n",
       "       fit_params=None, iid='warn', n_jobs=None,\n",
       "       param_grid={'C': [100.0, 1000.0, 5000.0, 10000.0, 50000.0, 100000.0], 'gamma': [0.001, 0.0005, 0.0001, 0.005]},\n",
       "       pre_dispatch='2*n_jobs', refit=True, return_train_score='warn',\n",
       "       scoring=None, verbose=0)"
      ]
     },
     "execution_count": 7,
     "metadata": {},
     "output_type": "execute_result"
    }
   ],
   "source": [
    "clf = svm.SVC()\n",
    "grid = {\"C\": [1e2, 1e3, 5e3, 1e4, 5e4, 1e5],\n",
    "       \"gamma\": [1e-3, 5e-4, 1e-4, 5e-3]}\n",
    "# where 1e2 = 100, 1e3 = 1000, 5e3 = 5000, 1e4 = 10000, 5e4 = 50000, 1e5 = 100000\n",
    "# and 1e-3 = 10**(-3), 5e-4 = 5*(10**(-4)) etc..\n",
    "\n",
    "abc = GridSearchCV(clf, grid)\n",
    "abc.fit(X_train, Y_train)"
   ]
  },
  {
   "cell_type": "code",
   "execution_count": 8,
   "metadata": {},
   "outputs": [
    {
     "data": {
      "text/plain": [
       "SVC(C=100.0, cache_size=200, class_weight=None, coef0=0.0,\n",
       "  decision_function_shape='ovr', degree=3, gamma=0.005, kernel='rbf',\n",
       "  max_iter=-1, probability=False, random_state=None, shrinking=True,\n",
       "  tol=0.001, verbose=False)"
      ]
     },
     "execution_count": 8,
     "metadata": {},
     "output_type": "execute_result"
    }
   ],
   "source": [
    "abc.best_estimator_             # this will give us the best value of C and gamma that will give us the best cross validation score"
   ]
  },
  {
   "cell_type": "code",
   "execution_count": 9,
   "metadata": {},
   "outputs": [
    {
     "name": "stderr",
     "output_type": "stream",
     "text": [
      "C:\\Users\\tanej\\Anaconda3\\lib\\site-packages\\sklearn\\utils\\deprecation.py:125: FutureWarning: You are accessing a training score ('split0_train_score'), which will not be available by default any more in 0.21. If you need training scores, please set return_train_score=True\n",
      "  warnings.warn(*warn_args, **warn_kwargs)\n",
      "C:\\Users\\tanej\\Anaconda3\\lib\\site-packages\\sklearn\\utils\\deprecation.py:125: FutureWarning: You are accessing a training score ('split1_train_score'), which will not be available by default any more in 0.21. If you need training scores, please set return_train_score=True\n",
      "  warnings.warn(*warn_args, **warn_kwargs)\n",
      "C:\\Users\\tanej\\Anaconda3\\lib\\site-packages\\sklearn\\utils\\deprecation.py:125: FutureWarning: You are accessing a training score ('split2_train_score'), which will not be available by default any more in 0.21. If you need training scores, please set return_train_score=True\n",
      "  warnings.warn(*warn_args, **warn_kwargs)\n",
      "C:\\Users\\tanej\\Anaconda3\\lib\\site-packages\\sklearn\\utils\\deprecation.py:125: FutureWarning: You are accessing a training score ('mean_train_score'), which will not be available by default any more in 0.21. If you need training scores, please set return_train_score=True\n",
      "  warnings.warn(*warn_args, **warn_kwargs)\n",
      "C:\\Users\\tanej\\Anaconda3\\lib\\site-packages\\sklearn\\utils\\deprecation.py:125: FutureWarning: You are accessing a training score ('std_train_score'), which will not be available by default any more in 0.21. If you need training scores, please set return_train_score=True\n",
      "  warnings.warn(*warn_args, **warn_kwargs)\n"
     ]
    },
    {
     "data": {
      "text/plain": [
       "{'mean_fit_time': array([0.00132608, 0.00033323, 0.0009973 , 0.00099818, 0.00066519,\n",
       "        0.00097513, 0.00066519, 0.00032043, 0.00067663, 0.00066566,\n",
       "        0.00033283, 0.00066487, 0.000331  , 0.00067687, 0.0003322 ,\n",
       "        0.        , 0.00066503, 0.00033236, 0.00033243, 0.00066837,\n",
       "        0.00033498, 0.00033331, 0.00066582, 0.00033077]),\n",
       " 'std_fit_time': array([1.24535746e-03, 4.71257962e-04, 3.89335909e-07, 1.36730278e-06,\n",
       "        4.71039132e-04, 2.22646021e-05, 4.70358991e-04, 4.53162915e-04,\n",
       "        4.78743834e-04, 4.70697011e-04, 4.70696004e-04, 4.70900951e-04,\n",
       "        4.68110997e-04, 4.78869755e-04, 4.69796871e-04, 0.00000000e+00,\n",
       "        4.70246438e-04, 4.70021655e-04, 4.70134046e-04, 4.72606822e-04,\n",
       "        4.73730577e-04, 4.71370354e-04, 4.70810971e-04, 4.67773823e-04]),\n",
       " 'mean_score_time': array([0.00033251, 0.00033172, 0.00033291, 0.        , 0.00066288,\n",
       "        0.        , 0.00033236, 0.00033315, 0.00034277, 0.        ,\n",
       "        0.00032989, 0.00034332, 0.00065319, 0.        , 0.00033228,\n",
       "        0.00065112, 0.00033251, 0.        , 0.00032981, 0.00033172,\n",
       "        0.        , 0.00066392, 0.        , 0.00033649]),\n",
       " 'std_score_time': array([0.00047025, 0.00046912, 0.00047081, 0.        , 0.00046873,\n",
       "        0.        , 0.00047002, 0.00047115, 0.00048474, 0.        ,\n",
       "        0.00046654, 0.00048553, 0.00046217, 0.        , 0.00046991,\n",
       "        0.00046071, 0.00047025, 0.        , 0.00046643, 0.00046912,\n",
       "        0.        , 0.00046946, 0.        , 0.00047587]),\n",
       " 'param_C': masked_array(data=[100.0, 100.0, 100.0, 100.0, 1000.0, 1000.0, 1000.0,\n",
       "                    1000.0, 5000.0, 5000.0, 5000.0, 5000.0, 10000.0,\n",
       "                    10000.0, 10000.0, 10000.0, 50000.0, 50000.0, 50000.0,\n",
       "                    50000.0, 100000.0, 100000.0, 100000.0, 100000.0],\n",
       "              mask=[False, False, False, False, False, False, False, False,\n",
       "                    False, False, False, False, False, False, False, False,\n",
       "                    False, False, False, False, False, False, False, False],\n",
       "        fill_value='?',\n",
       "             dtype=object),\n",
       " 'param_gamma': masked_array(data=[0.001, 0.0005, 0.0001, 0.005, 0.001, 0.0005, 0.0001,\n",
       "                    0.005, 0.001, 0.0005, 0.0001, 0.005, 0.001, 0.0005,\n",
       "                    0.0001, 0.005, 0.001, 0.0005, 0.0001, 0.005, 0.001,\n",
       "                    0.0005, 0.0001, 0.005],\n",
       "              mask=[False, False, False, False, False, False, False, False,\n",
       "                    False, False, False, False, False, False, False, False,\n",
       "                    False, False, False, False, False, False, False, False],\n",
       "        fill_value='?',\n",
       "             dtype=object),\n",
       " 'params': [{'C': 100.0, 'gamma': 0.001},\n",
       "  {'C': 100.0, 'gamma': 0.0005},\n",
       "  {'C': 100.0, 'gamma': 0.0001},\n",
       "  {'C': 100.0, 'gamma': 0.005},\n",
       "  {'C': 1000.0, 'gamma': 0.001},\n",
       "  {'C': 1000.0, 'gamma': 0.0005},\n",
       "  {'C': 1000.0, 'gamma': 0.0001},\n",
       "  {'C': 1000.0, 'gamma': 0.005},\n",
       "  {'C': 5000.0, 'gamma': 0.001},\n",
       "  {'C': 5000.0, 'gamma': 0.0005},\n",
       "  {'C': 5000.0, 'gamma': 0.0001},\n",
       "  {'C': 5000.0, 'gamma': 0.005},\n",
       "  {'C': 10000.0, 'gamma': 0.001},\n",
       "  {'C': 10000.0, 'gamma': 0.0005},\n",
       "  {'C': 10000.0, 'gamma': 0.0001},\n",
       "  {'C': 10000.0, 'gamma': 0.005},\n",
       "  {'C': 50000.0, 'gamma': 0.001},\n",
       "  {'C': 50000.0, 'gamma': 0.0005},\n",
       "  {'C': 50000.0, 'gamma': 0.0001},\n",
       "  {'C': 50000.0, 'gamma': 0.005},\n",
       "  {'C': 100000.0, 'gamma': 0.001},\n",
       "  {'C': 100000.0, 'gamma': 0.0005},\n",
       "  {'C': 100000.0, 'gamma': 0.0001},\n",
       "  {'C': 100000.0, 'gamma': 0.005}],\n",
       " 'split0_test_score': array([1.        , 1.        , 0.92105263, 1.        , 1.        ,\n",
       "        1.        , 1.        , 1.        , 1.        , 1.        ,\n",
       "        1.        , 1.        , 1.        , 1.        , 1.        ,\n",
       "        1.        , 1.        , 1.        , 1.        , 1.        ,\n",
       "        1.        , 1.        , 1.        , 1.        ]),\n",
       " 'split1_test_score': array([0.92105263, 0.92105263, 0.89473684, 1.        , 1.        ,\n",
       "        1.        , 0.92105263, 0.94736842, 0.94736842, 0.97368421,\n",
       "        1.        , 0.94736842, 0.94736842, 0.94736842, 1.        ,\n",
       "        0.94736842, 0.94736842, 0.94736842, 0.94736842, 0.94736842,\n",
       "        0.94736842, 0.94736842, 0.94736842, 0.94736842]),\n",
       " 'split2_test_score': array([0.97222222, 1.        , 0.88888889, 0.97222222, 0.97222222,\n",
       "        0.97222222, 0.97222222, 0.94444444, 0.94444444, 0.97222222,\n",
       "        0.97222222, 0.91666667, 0.94444444, 0.94444444, 0.97222222,\n",
       "        0.91666667, 0.91666667, 0.91666667, 0.94444444, 0.91666667,\n",
       "        0.91666667, 0.91666667, 0.94444444, 0.91666667]),\n",
       " 'mean_test_score': array([0.96428571, 0.97321429, 0.90178571, 0.99107143, 0.99107143,\n",
       "        0.99107143, 0.96428571, 0.96428571, 0.96428571, 0.98214286,\n",
       "        0.99107143, 0.95535714, 0.96428571, 0.96428571, 0.99107143,\n",
       "        0.95535714, 0.95535714, 0.95535714, 0.96428571, 0.95535714,\n",
       "        0.95535714, 0.95535714, 0.96428571, 0.95535714]),\n",
       " 'std_test_score': array([0.03297222, 0.03737897, 0.01400958, 0.01297291, 0.01297291,\n",
       "        0.01297291, 0.03297222, 0.02562036, 0.02562036, 0.01281018,\n",
       "        0.01297291, 0.03433668, 0.02562036, 0.02562036, 0.01297291,\n",
       "        0.03433668, 0.03433668, 0.03433668, 0.02562036, 0.03433668,\n",
       "        0.03433668, 0.03433668, 0.02562036, 0.03433668]),\n",
       " 'rank_test_score': array([ 8,  7, 24,  1,  1,  1,  8,  8,  8,  6,  1, 16,  8,  8,  1, 16, 16,\n",
       "        16,  8, 16, 16, 16,  8, 16]),\n",
       " 'split0_train_score': array([0.97297297, 0.95945946, 0.87837838, 1.        , 1.        ,\n",
       "        1.        , 0.97297297, 0.98648649, 0.98648649, 0.98648649,\n",
       "        1.        , 0.98648649, 0.97297297, 0.98648649, 1.        ,\n",
       "        1.        , 1.        , 0.98648649, 0.98648649, 1.        ,\n",
       "        1.        , 1.        , 0.97297297, 1.        ]),\n",
       " 'split1_train_score': array([0.97297297, 0.95945946, 0.90540541, 1.        , 0.98648649,\n",
       "        1.        , 0.97297297, 0.98648649, 0.98648649, 0.97297297,\n",
       "        1.        , 1.        , 0.98648649, 0.98648649, 0.98648649,\n",
       "        1.        , 1.        , 1.        , 0.98648649, 1.        ,\n",
       "        1.        , 1.        , 0.98648649, 1.        ]),\n",
       " 'split2_train_score': array([0.97368421, 0.97368421, 0.90789474, 1.        , 1.        ,\n",
       "        1.        , 0.97368421, 1.        , 1.        , 1.        ,\n",
       "        1.        , 1.        , 1.        , 1.        , 1.        ,\n",
       "        1.        , 1.        , 1.        , 1.        , 1.        ,\n",
       "        1.        , 1.        , 1.        , 1.        ]),\n",
       " 'mean_train_score': array([0.97321005, 0.96420104, 0.89722617, 1.        , 0.9954955 ,\n",
       "        1.        , 0.97321005, 0.99099099, 0.99099099, 0.98648649,\n",
       "        1.        , 0.9954955 , 0.98648649, 0.99099099, 0.9954955 ,\n",
       "        1.        , 1.        , 0.9954955 , 0.99099099, 1.        ,\n",
       "        1.        , 1.        , 0.98648649, 1.        ]),\n",
       " 'std_train_score': array([0.00033528, 0.00670561, 0.01336609, 0.        , 0.00637033,\n",
       "        0.        , 0.00033528, 0.00637033, 0.00637033, 0.01103374,\n",
       "        0.        , 0.00637033, 0.01103374, 0.00637033, 0.00637033,\n",
       "        0.        , 0.        , 0.00637033, 0.00637033, 0.        ,\n",
       "        0.        , 0.        , 0.01103374, 0.        ])}"
      ]
     },
     "execution_count": 9,
     "metadata": {},
     "output_type": "execute_result"
    }
   ],
   "source": [
    "abc.cv_results_"
   ]
  },
  {
   "cell_type": "code",
   "execution_count": null,
   "metadata": {},
   "outputs": [],
   "source": []
  }
 ],
 "metadata": {
  "kernelspec": {
   "display_name": "Python 3",
   "language": "python",
   "name": "python3"
  },
  "language_info": {
   "codemirror_mode": {
    "name": "ipython",
    "version": 3
   },
   "file_extension": ".py",
   "mimetype": "text/x-python",
   "name": "python",
   "nbconvert_exporter": "python",
   "pygments_lexer": "ipython3",
   "version": "3.7.3"
  }
 },
 "nbformat": 4,
 "nbformat_minor": 2
}
