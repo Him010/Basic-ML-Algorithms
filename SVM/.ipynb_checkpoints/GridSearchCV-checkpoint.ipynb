{
 "cells": [
  {
   "cell_type": "code",
   "execution_count": 1,
   "metadata": {},
   "outputs": [],
   "source": [
    "from sklearn import svm, datasets\n",
    "from sklearn.model_selection import train_test_split\n",
    "from sklearn.model_selection import GridSearchCV\n",
    "from sklearn.neighbors import KNeighborsClassifier"
   ]
  },
  {
   "cell_type": "code",
   "execution_count": 2,
   "metadata": {},
   "outputs": [],
   "source": [
    "iris = datasets.load_iris()\n",
    "X = iris.data\n",
    "Y = iris.target"
   ]
  },
  {
   "cell_type": "code",
   "execution_count": 3,
   "metadata": {},
   "outputs": [],
   "source": [
    "X_train, X_test, Y_train, Y_test = train_test_split(X, Y)"
   ]
  },
  {
   "cell_type": "code",
   "execution_count": 25,
   "metadata": {},
   "outputs": [
    {
     "name": "stderr",
     "output_type": "stream",
     "text": [
      "C:\\Users\\tanej\\Anaconda3\\lib\\site-packages\\sklearn\\model_selection\\_split.py:2053: FutureWarning: You should specify a value for 'cv' instead of relying on the default value. The default value will change from 3 to 5 in version 0.22.\n",
      "  warnings.warn(CV_WARNING, FutureWarning)\n"
     ]
    },
    {
     "data": {
      "text/plain": [
       "GridSearchCV(cv='warn', error_score='raise-deprecating',\n",
       "       estimator=KNeighborsClassifier(algorithm='auto', leaf_size=30, metric='minkowski',\n",
       "           metric_params=None, n_jobs=None, n_neighbors=5, p=2,\n",
       "           weights='uniform'),\n",
       "       fit_params=None, iid='warn', n_jobs=None,\n",
       "       param_grid={'n_neighbors': [3, 5, 7, 9, 11]},\n",
       "       pre_dispatch='2*n_jobs', refit=True, return_train_score='warn',\n",
       "       scoring=None, verbose=0)"
      ]
     },
     "execution_count": 25,
     "metadata": {},
     "output_type": "execute_result"
    }
   ],
   "source": [
    "clf = KNeighborsClassifier()\n",
    "grid = {\"n_neighbors\": [3,5,7,9,11]}\n",
    "abc = GridSearchCV(clf, grid)         # GridSearchCV takes two parameters. one is the classifier and the other is grid where \n",
    "                                      # grid is the value of neighbors that we want to search the best possible out of\n",
    "                                      # and grid is a dictionary\n",
    "abc.fit(X_train, Y_train)"
   ]
  },
  {
   "cell_type": "code",
   "execution_count": 26,
   "metadata": {},
   "outputs": [
    {
     "data": {
      "text/plain": [
       "KNeighborsClassifier(algorithm='auto', leaf_size=30, metric='minkowski',\n",
       "           metric_params=None, n_jobs=None, n_neighbors=5, p=2,\n",
       "           weights='uniform')"
      ]
     },
     "execution_count": 26,
     "metadata": {},
     "output_type": "execute_result"
    }
   ],
   "source": [
    "abc.best_estimator_     # it will give the value of the best n_neighbors. here the best value for n_neighbors is 5"
   ]
  },
  {
   "cell_type": "code",
   "execution_count": 12,
   "metadata": {},
   "outputs": [
    {
     "data": {
      "text/plain": [
       "{'mean_fit_time': array([0.00033275, 0.00066543, 0.00066503, 0.00033259, 0.00066511]),\n",
       " 'std_fit_time': array([0.00047058, 0.00047053, 0.00047025, 0.00047036, 0.0004703 ]),\n",
       " 'mean_score_time': array([0.00266075, 0.00166257, 0.00199429, 0.00199477, 0.00199461]),\n",
       " 'std_score_time': array([4.70529118e-04, 4.70246438e-04, 1.12391596e-07, 4.49566384e-07,\n",
       "        6.74349576e-07]),\n",
       " 'param_n_neighbors': masked_array(data=[3, 5, 7, 9, 11],\n",
       "              mask=[False, False, False, False, False],\n",
       "        fill_value='?',\n",
       "             dtype=object),\n",
       " 'params': [{'n_neighbors': 3},\n",
       "  {'n_neighbors': 5},\n",
       "  {'n_neighbors': 7},\n",
       "  {'n_neighbors': 9},\n",
       "  {'n_neighbors': 11}],\n",
       " 'split0_test_score': array([0.94736842, 0.94736842, 0.94736842, 0.97368421, 0.97368421]),\n",
       " 'split1_test_score': array([0.97297297, 0.97297297, 0.97297297, 0.97297297, 0.97297297]),\n",
       " 'split2_test_score': array([0.94594595, 0.97297297, 0.94594595, 0.94594595, 0.94594595]),\n",
       " 'mean_test_score': array([0.95535714, 0.96428571, 0.95535714, 0.96428571, 0.96428571]),\n",
       " 'std_test_score': array([0.01238663, 0.01212291, 0.01238663, 0.01288472, 0.01288472]),\n",
       " 'rank_test_score': array([4, 1, 4, 1, 1]),\n",
       " 'split0_train_score': array([0.98648649, 0.98648649, 0.97297297, 0.97297297, 0.97297297]),\n",
       " 'split1_train_score': array([0.93333333, 0.94666667, 0.96      , 0.96      , 0.94666667]),\n",
       " 'split2_train_score': array([0.94666667, 0.97333333, 0.97333333, 0.97333333, 0.97333333]),\n",
       " 'mean_train_score': array([0.9554955 , 0.96882883, 0.96876877, 0.96876877, 0.96432432]),\n",
       " 'std_train_score': array([0.02257987, 0.01656547, 0.0062022 , 0.0062022 , 0.01248672])}"
      ]
     },
     "execution_count": 12,
     "metadata": {},
     "output_type": "execute_result"
    }
   ],
   "source": [
    "abc.cv_results_     # it gives the score that is achieved by different values of n_neighbors that we provided it with\n",
    "# in split0_test_score the score is basically for n_neighbors as 3,5,7,9,11 in one whole array and same for the rest\n",
    "# so split0_test_score[0] = for 3, split0_test_score[1] = for 5, split0_test_score[2] = 7 and so on"
   ]
  },
  {
   "cell_type": "code",
   "execution_count": 13,
   "metadata": {},
   "outputs": [
    {
     "name": "stderr",
     "output_type": "stream",
     "text": [
      "C:\\Users\\tanej\\Anaconda3\\lib\\site-packages\\sklearn\\model_selection\\_split.py:2053: FutureWarning: You should specify a value for 'cv' instead of relying on the default value. The default value will change from 3 to 5 in version 0.22.\n",
      "  warnings.warn(CV_WARNING, FutureWarning)\n",
      "C:\\Users\\tanej\\Anaconda3\\lib\\site-packages\\sklearn\\model_selection\\_search.py:841: DeprecationWarning: The default of the `iid` parameter will change from True to False in version 0.22 and will be removed in 0.24. This will change numeric results when test-set sizes are unequal.\n",
      "  DeprecationWarning)\n"
     ]
    },
    {
     "data": {
      "text/plain": [
       "GridSearchCV(cv='warn', error_score='raise-deprecating',\n",
       "       estimator=SVC(C=1.0, cache_size=200, class_weight=None, coef0=0.0,\n",
       "  decision_function_shape='ovr', degree=3, gamma='auto_deprecated',\n",
       "  kernel='rbf', max_iter=-1, probability=False, random_state=None,\n",
       "  shrinking=True, tol=0.001, verbose=False),\n",
       "       fit_params=None, iid='warn', n_jobs=None,\n",
       "       param_grid={'C': [100.0, 1000.0, 5000.0, 10000.0, 50000.0, 100000.0], 'gamma': [0.001, 0.0005, 0.0001, 0.005]},\n",
       "       pre_dispatch='2*n_jobs', refit=True, return_train_score='warn',\n",
       "       scoring=None, verbose=0)"
      ]
     },
     "execution_count": 13,
     "metadata": {},
     "output_type": "execute_result"
    }
   ],
   "source": [
    "clf = svm.SVC()\n",
    "grid = {\"C\": [1e2, 1e3, 5e3, 1e4, 5e4, 1e5],\n",
    "       \"gamma\": [1e-3, 5e-4, 1e-4, 5e-3]}\n",
    "# where 1e2 = 100, 1e3 = 1000, 5e3 = 5000, 1e4 = 10000, 5e4 = 50000, 1e5 = 100000\n",
    "# and 1e-3 = 10**(-3), 5e-4 = 5*(10**(-4)) etc..\n",
    "\n",
    "abc = GridSearchCV(clf, grid)\n",
    "abc.fit(X_train, Y_train)"
   ]
  },
  {
   "cell_type": "code",
   "execution_count": 18,
   "metadata": {},
   "outputs": [
    {
     "data": {
      "text/plain": [
       "SVC(C=5000.0, cache_size=200, class_weight=None, coef0=0.0,\n",
       "  decision_function_shape='ovr', degree=3, gamma=0.0005, kernel='rbf',\n",
       "  max_iter=-1, probability=False, random_state=None, shrinking=True,\n",
       "  tol=0.001, verbose=False)"
      ]
     },
     "execution_count": 18,
     "metadata": {},
     "output_type": "execute_result"
    }
   ],
   "source": [
    "abc.best_estimator_             # this will give us the best value of C and gamma that will give us the best cross validation score"
   ]
  },
  {
   "cell_type": "code",
   "execution_count": 20,
   "metadata": {},
   "outputs": [],
   "source": [
    "abc.cv_results_"
   ]
  }
 ],
 "metadata": {
  "kernelspec": {
   "display_name": "Python 3",
   "language": "python",
   "name": "python3"
  },
  "language_info": {
   "codemirror_mode": {
    "name": "ipython",
    "version": 3
   },
   "file_extension": ".py",
   "mimetype": "text/x-python",
   "name": "python",
   "nbconvert_exporter": "python",
   "pygments_lexer": "ipython3",
   "version": "3.7.3"
  }
 },
 "nbformat": 4,
 "nbformat_minor": 2
}
